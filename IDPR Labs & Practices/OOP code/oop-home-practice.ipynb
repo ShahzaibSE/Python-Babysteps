{
 "cells": [
  {
   "cell_type": "code",
   "execution_count": 29,
   "metadata": {},
   "outputs": [],
   "source": [
    "class Bus:\n",
    "    noOfBuses = 50\n",
    "\n",
    "    def __init__(self, driver_name, on_duty, cities, reg_number):\n",
    "        self.driverName = driver_name\n",
    "        self.onDuty = on_duty\n",
    "        self.cities = cities\n",
    "        self.regNumber = reg_number\n",
    "        \n",
    "    @classmethod    \n",
    "    def get_no_of_buses(cls):\n",
    "        return cls.noOfBuses"
   ]
  },
  {
   "cell_type": "code",
   "execution_count": 30,
   "metadata": {},
   "outputs": [],
   "source": [
    "# Two buses.\n",
    "bus1 = Bus('John',True,['San Francisco', 'Washington DC'], 'D1234')\n",
    "bus2 = Bus('Spencer',True,['San Francisco', 'Washington DC'], 'D5678')"
   ]
  },
  {
   "cell_type": "code",
   "execution_count": 31,
   "metadata": {},
   "outputs": [
    {
     "name": "stdout",
     "output_type": "stream",
     "text": [
      "Number of buses in company: 50\n"
     ]
    }
   ],
   "source": [
    "print(\"Number of buses in company: {}\".format(Bus.get_no_of_buses()))"
   ]
  },
  {
   "cell_type": "code",
   "execution_count": 35,
   "metadata": {},
   "outputs": [],
   "source": [
    "class Hippo:\n",
    "    no_of_hippos = 50\n",
    "    def __init__(self,hpname,hpsize):\n",
    "        self.hname = hpname\n",
    "        self.hpsize = hpsize #In KGs\n",
    "    \n",
    "    def weightIncreaser(self):\n",
    "        self.hpsize = self.hpsize + 1\n",
    "        print(\"After Increasing Hippo weight: \",self.hpsize)\n",
    "    \n",
    "    def weightDecreaser(self):\n",
    "        self.hpsize = self.hpsize - 1\n",
    "        print(\"After decreasing Hippo weight: \",self.hpsize)\n",
    "        \n",
    "    @classmethod\n",
    "    def get_no_of_hippos(cls):\n",
    "        return cls.no_of_hippos"
   ]
  },
  {
   "cell_type": "code",
   "execution_count": 36,
   "metadata": {},
   "outputs": [
    {
     "name": "stdout",
     "output_type": "stream",
     "text": [
      "After Increasing Hippo weight:  151\n",
      "After Increasing Hippo weight:  152\n",
      "After decreasing Hippo weight:  151\n"
     ]
    }
   ],
   "source": [
    "hippo1 = Hippo(\"John\",150)\n",
    "hippo1.weightIncreaser()\n",
    "hippo1.weightIncreaser()\n",
    "hippo1.weightDecreaser()"
   ]
  },
  {
   "cell_type": "code",
   "execution_count": 37,
   "metadata": {},
   "outputs": [
    {
     "name": "stdout",
     "output_type": "stream",
     "text": [
      "Weight updated:  151\n",
      "Total number of hippos:  50\n"
     ]
    }
   ],
   "source": [
    "print(\"Weight updated: \",hippo1.hpsize)\n",
    "print(\"Total number of hippos: \",Hippo.get_no_of_hippos())"
   ]
  },
  {
   "cell_type": "code",
   "execution_count": null,
   "metadata": {},
   "outputs": [],
   "source": []
  }
 ],
 "metadata": {
  "kernelspec": {
   "display_name": "Python 3",
   "language": "python",
   "name": "python3"
  },
  "language_info": {
   "codemirror_mode": {
    "name": "ipython",
    "version": 3
   },
   "file_extension": ".py",
   "mimetype": "text/x-python",
   "name": "python",
   "nbconvert_exporter": "python",
   "pygments_lexer": "ipython3",
   "version": "3.7.4"
  }
 },
 "nbformat": 4,
 "nbformat_minor": 2
}
