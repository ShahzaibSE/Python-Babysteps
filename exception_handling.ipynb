{
 "cells": [
  {
   "cell_type": "code",
   "execution_count": 4,
   "metadata": {},
   "outputs": [
    {
     "name": "stdout",
     "output_type": "stream",
     "text": [
      "What text file to open? events.csv\n",
      "1992,World Cup,\n",
      "\n",
      "1999,Olympics,Usan Bolt\n",
      "\n",
      "1992,World Cup,Pakistan\n",
      "\n",
      "1999,Olympics,Usan Bolt\n",
      "\n",
      "\n",
      "Program checked for exceptions.\n"
     ]
    }
   ],
   "source": [
    "try:\n",
    "  filename = input(\"What text file to open? \")\n",
    "#\n",
    "  with open(filename) as f:\n",
    "    print(f.read())\n",
    "#\n",
    "except FileNotFoundError:\n",
    "    print(\"Sorry, \" + filename + \" not found.\")\n",
    "finally:\n",
    "    print(\"Program checked for exceptions.\")    "
   ]
  },
  {
   "cell_type": "code",
   "execution_count": 2,
   "metadata": {},
   "outputs": [
    {
     "ename": "SyntaxError",
     "evalue": "invalid syntax (<ipython-input-2-c9358e9a44b6>, line 18)",
     "output_type": "error",
     "traceback": [
      "\u001b[1;36m  File \u001b[1;32m\"<ipython-input-2-c9358e9a44b6>\"\u001b[1;36m, line \u001b[1;32m18\u001b[0m\n\u001b[1;33m    except ArithmeticError:\u001b[0m\n\u001b[1;37m         ^\u001b[0m\n\u001b[1;31mSyntaxError\u001b[0m\u001b[1;31m:\u001b[0m invalid syntax\n"
     ]
    }
   ],
   "source": [
    "try:\n",
    "  filename = input(\"What text file to open? \")\n",
    "#\n",
    "  num1 = int(input(\"Enter numinator value:\"))\n",
    "  num2 = int(input(\"Enter denominator value:\"))\n",
    "#\n",
    "  with open(filename) as f:\n",
    "    print(f.read())\n",
    "  print()\n",
    "  print(f\"Result: {num1/num2}\")\n",
    "  print()\n",
    "#\n",
    "#   with open(filename) as f:\n",
    "#     print(f.read())\n",
    "#    \n",
    "except ArithmeticError:\n",
    "    print(\"Invalid Input privided.\")\n",
    "except FileNotFoundError:\n",
    "    print(\"Sorry, \" + filename + \" not found.\")\n",
    "finally:\n",
    "    print(\"Program checked for exceptions.\")"
   ]
  },
  {
   "cell_type": "code",
   "execution_count": 10,
   "metadata": {},
   "outputs": [
    {
     "name": "stdout",
     "output_type": "stream",
     "text": [
      "What text file to open? sad.txt\n",
      "Sorry, sad.txt not found.\n",
      "What text file to open? sample.csv\n",
      "Year,Event,Winner\n",
      "1995,Best-Kept Lawn,None\n",
      "1999,Gobstones,Welch National\n",
      "2006,World Cup,Burkina Faso\n"
     ]
    }
   ],
   "source": [
    "while True:\n",
    " try:\n",
    "   filename = input(\"What text file to open? \")\n",
    "   with open(filename) as f:\n",
    "    print(f.read())\n",
    "    break   \n",
    " except FileNotFoundError:\n",
    "    print(\"Sorry, \" + filename + \" not found.\")"
   ]
  },
  {
   "cell_type": "code",
   "execution_count": null,
   "metadata": {},
   "outputs": [],
   "source": []
  }
 ],
 "metadata": {
  "kernelspec": {
   "display_name": "Python 3",
   "language": "python",
   "name": "python3"
  },
  "language_info": {
   "codemirror_mode": {
    "name": "ipython",
    "version": 3
   },
   "file_extension": ".py",
   "mimetype": "text/x-python",
   "name": "python",
   "nbconvert_exporter": "python",
   "pygments_lexer": "ipython3",
   "version": "3.7.3"
  }
 },
 "nbformat": 4,
 "nbformat_minor": 2
}
