{
 "cells": [
  {
   "cell_type": "code",
   "execution_count": 24,
   "metadata": {},
   "outputs": [],
   "source": [
    "%config IPCompleter.greedy=True\n",
    "from calculations import calc_tax"
   ]
  },
  {
   "cell_type": "code",
   "execution_count": 20,
   "metadata": {},
   "outputs": [
    {
     "ename": "ValueError",
     "evalue": "I/O operation on closed file.",
     "output_type": "error",
     "traceback": [
      "\u001b[1;31m---------------------------------------------------------------------------\u001b[0m",
      "\u001b[1;31mValueError\u001b[0m                                Traceback (most recent call last)",
      "\u001b[1;32m<ipython-input-20-afd6fc5d3aa2>\u001b[0m in \u001b[0;36m<module>\u001b[1;34m\u001b[0m\n\u001b[0;32m      1\u001b[0m \u001b[1;32mwith\u001b[0m \u001b[0mopen\u001b[0m\u001b[1;33m(\u001b[0m\u001b[1;34m\"data_sample_generated.txt\"\u001b[0m\u001b[1;33m,\u001b[0m \u001b[1;34m\"w\"\u001b[0m\u001b[1;33m)\u001b[0m \u001b[1;32mas\u001b[0m \u001b[0mfile_to_be_written\u001b[0m\u001b[1;33m:\u001b[0m\u001b[1;33m\u001b[0m\u001b[1;33m\u001b[0m\u001b[0m\n\u001b[1;32m----> 2\u001b[1;33m     \u001b[0mdata_sample1\u001b[0m\u001b[1;33m.\u001b[0m\u001b[0mwrite\u001b[0m\u001b[1;33m(\u001b[0m\u001b[1;34m\"First sentence.\\n\"\u001b[0m\u001b[1;33m)\u001b[0m\u001b[1;33m\u001b[0m\u001b[1;33m\u001b[0m\u001b[0m\n\u001b[0m",
      "\u001b[1;31mValueError\u001b[0m: I/O operation on closed file."
     ]
    }
   ],
   "source": [
    "with open(\"data_sample_generated.txt\", \"w\") as file_to_be_written:\n",
    "    data_sample1.write(\"First sentence.\\n\")"
   ]
  },
  {
   "cell_type": "code",
   "execution_count": 16,
   "metadata": {},
   "outputs": [
    {
     "name": "stdout",
     "output_type": "stream",
     "text": [
      "Print with 'r' mentioned.\n",
      "First sentence.\n",
      "\n",
      "First sentence.\n",
      "\n",
      "After Appending/Updating.\n",
      "\n",
      "First sentence.\n",
      "Second Sentence.\n",
      "\n"
     ]
    }
   ],
   "source": [
    "with open(\"data_sample_generated.txt\", \"w\") as file_to_be_written:\n",
    "    file_to_be_written.write(\"First sentence.\\n\")\n",
    "#\n",
    "with open(\"data_sample_generated.txt\", \"r\") as file_to_be_written:\n",
    "    file_data = file_to_be_written.read()\n",
    "    print(\"Print with 'r' mentioned.\")\n",
    "    print(file_data)\n",
    "#\n",
    "# Read file mode is default.\n",
    "with open(\"data_sample_generated.txt\") as file_to_be_written:\n",
    "    file_data = file_to_be_written.read()\n",
    "    print(file_data)\n",
    "#\n",
    "# Append data in file without replacing everything already in file.\n",
    "with open(\"data_sample_generated.txt\", \"a\") as file_to_be_written:\n",
    "    file_to_be_written.write(\"Second Sentence.\\n\")\n",
    "#\n",
    "# Reading file again.\n",
    "print(\"After Appending/Updating.\")\n",
    "print()\n",
    "with open(\"data_sample_generated.txt\") as file_to_be_written:\n",
    "    file_data = file_to_be_written.read()\n",
    "    print(file_data)\n",
    "    "
   ]
  },
  {
   "cell_type": "code",
   "execution_count": 26,
   "metadata": {},
   "outputs": [
    {
     "data": {
      "text/plain": [
       "170.0"
      ]
     },
     "execution_count": 26,
     "metadata": {},
     "output_type": "execute_result"
    }
   ],
   "source": [
    "# A simple module.\n",
    "tax = calc_tax(340, 0.5)\n",
    "tax"
   ]
  },
  {
   "cell_type": "code",
   "execution_count": 18,
   "metadata": {},
   "outputs": [
    {
     "name": "stdout",
     "output_type": "stream",
     "text": [
      "\n",
      "Written in r+ mode.\n",
      "\n"
     ]
    }
   ],
   "source": [
    "try:\n",
    "    with open(\"data_sample_with_r_plus_mode.txt\", \"r+\", newline=\"\") as file_to_be_written:\n",
    "        file_data = file_to_be_written.read()\n",
    "    #     print(file_data)\n",
    "        file_to_be_written.seek(0)\n",
    "        file_to_be_written.write(\"\\nWritten in r+ mode.\\n\")\n",
    "        print(file_data)\n",
    "except FileNotFoundError:\n",
    "    print(\"File not found.\")  \n",
    "    with open(\"data_sample_with_r_plus_mode.txt\", \"w\") as file_to_be_written:\n",
    "        print(\"File Created.\")"
   ]
  },
  {
   "cell_type": "code",
   "execution_count": 30,
   "metadata": {},
   "outputs": [
    {
     "name": "stdout",
     "output_type": "stream",
     "text": [
      "Please type your content.My sixth write with write plus mode.\n",
      "\n",
      "My sixth write with write plus mode.\n",
      "\n"
     ]
    }
   ],
   "source": [
    "\n",
    "with open(\"data_sample_with_w_plus_mode.txt\", \"w+\", newline=\"\\n\") as file_to_be_written:\n",
    "        file_data = file_to_be_written.read()\n",
    "    #     print(file_data)\n",
    "        your_content = input(\"Please type your content.\")\n",
    "        file_to_be_written.write(f\"\\n{your_content}\\n\")\n",
    "        file_to_be_written.seek(0) # Stream position at the beginning.\n",
    "        print(file_to_be_written.read()) "
   ]
  },
  {
   "cell_type": "code",
   "execution_count": null,
   "metadata": {},
   "outputs": [],
   "source": []
  }
 ],
 "metadata": {
  "kernelspec": {
   "display_name": "Python 3",
   "language": "python",
   "name": "python3"
  },
  "language_info": {
   "codemirror_mode": {
    "name": "ipython",
    "version": 3
   },
   "file_extension": ".py",
   "mimetype": "text/x-python",
   "name": "python",
   "nbconvert_exporter": "python",
   "pygments_lexer": "ipython3",
   "version": "3.7.3"
  }
 },
 "nbformat": 4,
 "nbformat_minor": 2
}
