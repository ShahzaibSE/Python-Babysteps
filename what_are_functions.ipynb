{
 "cells": [
  {
   "cell_type": "code",
   "execution_count": null,
   "metadata": {},
   "outputs": [],
   "source": [
    "# %load calculations.py\n",
    "#!/usr/bin/env python\n",
    "\n",
    "# In[ ]:\n",
    "\n",
    "\n",
    "def calc_tax(sales_total, tax_rate):\n",
    "    tax = sales_total * tax_rate\n",
    "    return tax\n",
    "\n"
   ]
  },
  {
   "cell_type": "code",
   "execution_count": null,
   "metadata": {},
   "outputs": [],
   "source": [
    "# Intellisense.\n",
    "%config IPCompleter.greedy=True\n",
    "import calculations as calc\n",
    "#\n",
    "def myfn():\n",
    "    print(\"First Function\")\n",
    "myfn()    "
   ]
  },
  {
   "cell_type": "markdown",
   "metadata": {},
   "source": [
    "# A definition without a call never runs."
   ]
  },
  {
   "cell_type": "code",
   "execution_count": 3,
   "metadata": {},
   "outputs": [
    {
     "name": "stdout",
     "output_type": "stream",
     "text": [
      "6.3\n"
     ]
    }
   ],
   "source": [
    "# Function with information passed.\n",
    "def add_numbers(first_number, second_number):\n",
    "    print(str(first_number+second_number))\n",
    "#\n",
    "#Function call\n",
    "add_numbers(2.3,4)"
   ]
  },
  {
   "cell_type": "code",
   "execution_count": 4,
   "metadata": {},
   "outputs": [
    {
     "name": "stdout",
     "output_type": "stream",
     "text": [
      "The names of the couple are Bruce and Selina\n",
      "The names of the couple are Barry and Iris\n",
      "The names of the couple are Richard and Kori\n"
     ]
    },
    {
     "ename": "TypeError",
     "evalue": "say_names_of_couple() got an unexpected keyword argument 'husband_nam'",
     "output_type": "error",
     "traceback": [
      "\u001b[1;31m---------------------------------------------------------------------------\u001b[0m",
      "\u001b[1;31mTypeError\u001b[0m                                 Traceback (most recent call last)",
      "\u001b[1;32m<ipython-input-4-5d718e3add2f>\u001b[0m in \u001b[0;36m<module>\u001b[1;34m\u001b[0m\n\u001b[0;32m      9\u001b[0m \u001b[0msay_names_of_couple\u001b[0m\u001b[1;33m(\u001b[0m\u001b[0mwife_name\u001b[0m\u001b[1;33m=\u001b[0m\u001b[1;34m\"Kori\"\u001b[0m\u001b[1;33m,\u001b[0m \u001b[0mhusband_name\u001b[0m\u001b[1;33m=\u001b[0m\u001b[1;34m\"Richard\"\u001b[0m\u001b[1;33m)\u001b[0m\u001b[1;33m\u001b[0m\u001b[1;33m\u001b[0m\u001b[0m\n\u001b[0;32m     10\u001b[0m \u001b[1;31m# Wrong argument_label.\u001b[0m\u001b[1;33m\u001b[0m\u001b[1;33m\u001b[0m\u001b[1;33m\u001b[0m\u001b[0m\n\u001b[1;32m---> 11\u001b[1;33m \u001b[0msay_names_of_couple\u001b[0m\u001b[1;33m(\u001b[0m\u001b[0mhusband_nam\u001b[0m\u001b[1;33m=\u001b[0m\u001b[1;34m\"Clark\"\u001b[0m\u001b[1;33m,\u001b[0m \u001b[0mwife_nam\u001b[0m\u001b[1;33m=\u001b[0m\u001b[1;34m\"Lois\"\u001b[0m\u001b[1;33m)\u001b[0m\u001b[1;33m\u001b[0m\u001b[1;33m\u001b[0m\u001b[0m\n\u001b[0m",
      "\u001b[1;31mTypeError\u001b[0m: say_names_of_couple() got an unexpected keyword argument 'husband_nam'"
     ]
    }
   ],
   "source": [
    "# Keyword Arguments.\n",
    "def say_names_of_couple(husband_name, wife_name):\n",
    "    print(\"The names of the couple are \" + husband_name + \" and \" + wife_name)\n",
    "# With argument label    \n",
    "say_names_of_couple(husband_name=\"Bruce\", wife_name=\"Selina\")\n",
    "# Without argument label.\n",
    "say_names_of_couple(\"Barry\", \"Iris\")\n",
    "# Argument label position changed.\n",
    "say_names_of_couple(wife_name=\"Kori\", husband_name=\"Richard\")\n",
    "# Wrong argument_label.\n",
    "say_names_of_couple(husband_nam=\"Clark\", wife_nam=\"Lois\")"
   ]
  },
  {
   "cell_type": "code",
   "execution_count": 8,
   "metadata": {},
   "outputs": [
    {
     "ename": "NameError",
     "evalue": "name 'null' is not defined",
     "output_type": "error",
     "traceback": [
      "\u001b[1;31m---------------------------------------------------------------------------\u001b[0m",
      "\u001b[1;31mNameError\u001b[0m                                 Traceback (most recent call last)",
      "\u001b[1;32m<ipython-input-8-36fb1cf3f8df>\u001b[0m in \u001b[0;36m<module>\u001b[1;34m\u001b[0m\n\u001b[1;32m----> 1\u001b[1;33m \u001b[0mnothing\u001b[0m \u001b[1;33m=\u001b[0m \u001b[0mnull\u001b[0m\u001b[1;33m\u001b[0m\u001b[1;33m\u001b[0m\u001b[0m\n\u001b[0m\u001b[0;32m      2\u001b[0m \u001b[0mnothing\u001b[0m \u001b[1;33m=\u001b[0m \u001b[0mnil\u001b[0m\u001b[1;33m\u001b[0m\u001b[1;33m\u001b[0m\u001b[0m\n\u001b[0;32m      3\u001b[0m \u001b[0mnothing\u001b[0m \u001b[1;33m=\u001b[0m \u001b[0mnothing\u001b[0m\u001b[1;33m\u001b[0m\u001b[1;33m\u001b[0m\u001b[0m\n",
      "\u001b[1;31mNameError\u001b[0m: name 'null' is not defined"
     ]
    }
   ],
   "source": [
    "nothing = null\n",
    "nothing = nil\n",
    "nothing = nothing"
   ]
  },
  {
   "cell_type": "code",
   "execution_count": 14,
   "metadata": {},
   "outputs": [
    {
     "ename": "SyntaxError",
     "evalue": "non-default argument follows default argument (<ipython-input-14-afe062f27bd8>, line 8)",
     "output_type": "error",
     "traceback": [
      "\u001b[1;36m  File \u001b[1;32m\"<ipython-input-14-afe062f27bd8>\"\u001b[1;36m, line \u001b[1;32m8\u001b[0m\n\u001b[1;33m    def get_credientials(date=date.today(), email, password):\u001b[0m\n\u001b[1;37m                        ^\u001b[0m\n\u001b[1;31mSyntaxError\u001b[0m\u001b[1;31m:\u001b[0m non-default argument follows default argument\n"
     ]
    }
   ],
   "source": [
    "from datetime import date\n",
    "#Default Parameters\n",
    "def total_tax(sales_tax, tax_rate=0.4):\n",
    "    print(f\"Total tax: {str(sales_tax * tax_rate)}\")\n",
    "total_tax(sales_tax=20)    \n",
    "#\n",
    "# If default parameter before non-default.\n",
    "def get_credientials(date=date.today(), email, password):\n",
    "    print(f\"Email: {email}\")\n",
    "    print(f\"Password: {password}\")\n",
    "    print(date)\n",
    "get_credientials()    "
   ]
  },
  {
   "cell_type": "code",
   "execution_count": 18,
   "metadata": {},
   "outputs": [
    {
     "ename": "SyntaxError",
     "evalue": "positional argument follows keyword argument (<ipython-input-18-5e85d13b1527>, line 11)",
     "output_type": "error",
     "traceback": [
      "\u001b[1;36m  File \u001b[1;32m\"<ipython-input-18-5e85d13b1527>\"\u001b[1;36m, line \u001b[1;32m11\u001b[0m\n\u001b[1;33m    give_greeting(recipent = \"Leon\", \"Hello Leon\") # this does not work.\u001b[0m\n\u001b[1;37m                                    ^\u001b[0m\n\u001b[1;31mSyntaxError\u001b[0m\u001b[1;31m:\u001b[0m positional argument follows keyword argument\n"
     ]
    }
   ],
   "source": [
    "# Mixing positional and keyword arguments.\n",
    "def give_greeting(message, recipent=\"World\"):\n",
    "    print(f\"{message} to {recipent}\")\n",
    "give_greeting(\"Hello World\")\n",
    "give_greeting(\"Hello Bruce\", recipent = \"Bruce\")\n",
    "give_greeting(message=\"Hello Diana\", recipent=\"Diana\")\n",
    "#\n",
    "# When positional argument is not before  keyword argument.\n",
    "#\n",
    "# Be careful mixing positional and keyword arguments. Positional arguments must come before keyword arguments.\n",
    "give_greeting(recipent = \"Leon\", \"Hello Leon\") # this does not work."
   ]
  },
  {
   "cell_type": "code",
   "execution_count": 28,
   "metadata": {},
   "outputs": [
    {
     "name": "stdout",
     "output_type": "stream",
     "text": [
      "Hello, Bruce, the dark knight\n"
     ]
    }
   ],
   "source": [
    "def greeter(greeting, first_name, flattering_nickname=\"the dark knight\"):\n",
    "    print(greeting + \", \" +first_name +\", \"+flattering_nickname)\n",
    "#\n",
    "greeter(\"Hello\", first_name = \"Bruce\")"
   ]
  },
  {
   "cell_type": "markdown",
   "metadata": {},
   "source": [
    "#### Dealing with an unknown number of arguments"
   ]
  },
  {
   "cell_type": "code",
   "execution_count": 31,
   "metadata": {},
   "outputs": [
    {
     "name": "stdout",
     "output_type": "stream",
     "text": [
      "The winner was Real Madrid\n",
      "The score was 1-0\n",
      "overtime: yes\n",
      "injuries: none\n",
      "extra_players: 3\n"
     ]
    }
   ],
   "source": [
    "## Double asterik optional parameters and arguments.\n",
    "def display_result(winner, score, **other_info): \n",
    "    print(\"The winner was \" + winner)\n",
    "    print(\"The score was \" + score)\n",
    "    for key, value in other_info.items():\n",
    "        print(key + \": \" + value)\n",
    "#        \n",
    "display_result(winner=\"Real Madrid\", score=\"1-0\",\n",
    "overtime =\"yes\", injuries=\"none\", extra_players=\"3\")        "
   ]
  },
  {
   "cell_type": "code",
   "execution_count": 36,
   "metadata": {},
   "outputs": [
    {
     "name": "stdout",
     "output_type": "stream",
     "text": [
      "Student Name: Shaheen\n",
      "Student Age: 25\n"
     ]
    },
    {
     "ename": "AttributeError",
     "evalue": "'builtin_function_or_method' object has no attribute 'mro'",
     "output_type": "error",
     "traceback": [
      "\u001b[1;31m---------------------------------------------------------------------------\u001b[0m",
      "\u001b[1;31mAttributeError\u001b[0m                            Traceback (most recent call last)",
      "\u001b[1;32m<ipython-input-36-f49a02e91f17>\u001b[0m in \u001b[0;36m<module>\u001b[1;34m\u001b[0m\n\u001b[0;32m      6\u001b[0m     \u001b[1;32mfor\u001b[0m \u001b[0mmark\u001b[0m \u001b[1;32min\u001b[0m \u001b[0mmarks\u001b[0m\u001b[1;33m:\u001b[0m\u001b[1;33m\u001b[0m\u001b[1;33m\u001b[0m\u001b[0m\n\u001b[0;32m      7\u001b[0m         \u001b[0mprint\u001b[0m\u001b[1;33m(\u001b[0m\u001b[0mmark\u001b[0m\u001b[1;33m)\u001b[0m\u001b[1;33m\u001b[0m\u001b[1;33m\u001b[0m\u001b[0m\n\u001b[1;32m----> 8\u001b[1;33m \u001b[0mstudent_data\u001b[0m\u001b[1;33m(\u001b[0m\u001b[1;34m\"Shaheen\"\u001b[0m\u001b[1;33m,\u001b[0m \u001b[1;36m25\u001b[0m\u001b[1;33m,\u001b[0m \u001b[1;36m99\u001b[0m\u001b[1;33m,\u001b[0m\u001b[1;36m90\u001b[0m\u001b[1;33m)\u001b[0m\u001b[1;33m\u001b[0m\u001b[1;33m\u001b[0m\u001b[0m\n\u001b[0m",
      "\u001b[1;32m<ipython-input-36-f49a02e91f17>\u001b[0m in \u001b[0;36mstudent_data\u001b[1;34m(name, age, *marks)\u001b[0m\n\u001b[0;32m      3\u001b[0m     \u001b[0mprint\u001b[0m\u001b[1;33m(\u001b[0m\u001b[1;34mf\"Student Name: {name}\"\u001b[0m\u001b[1;33m)\u001b[0m\u001b[1;33m\u001b[0m\u001b[1;33m\u001b[0m\u001b[0m\n\u001b[0;32m      4\u001b[0m     \u001b[0mprint\u001b[0m\u001b[1;33m(\u001b[0m\u001b[1;34mf\"Student Age: {age}\"\u001b[0m\u001b[1;33m)\u001b[0m\u001b[1;33m\u001b[0m\u001b[1;33m\u001b[0m\u001b[0m\n\u001b[1;32m----> 5\u001b[1;33m     \u001b[0mprint\u001b[0m\u001b[1;33m(\u001b[0m\u001b[1;34mf\"Number of subjects: {marks.count.mro}\"\u001b[0m\u001b[1;33m)\u001b[0m\u001b[1;33m\u001b[0m\u001b[1;33m\u001b[0m\u001b[0m\n\u001b[0m\u001b[0;32m      6\u001b[0m     \u001b[1;32mfor\u001b[0m \u001b[0mmark\u001b[0m \u001b[1;32min\u001b[0m \u001b[0mmarks\u001b[0m\u001b[1;33m:\u001b[0m\u001b[1;33m\u001b[0m\u001b[1;33m\u001b[0m\u001b[0m\n\u001b[0;32m      7\u001b[0m         \u001b[0mprint\u001b[0m\u001b[1;33m(\u001b[0m\u001b[0mmark\u001b[0m\u001b[1;33m)\u001b[0m\u001b[1;33m\u001b[0m\u001b[1;33m\u001b[0m\u001b[0m\n",
      "\u001b[1;31mAttributeError\u001b[0m: 'builtin_function_or_method' object has no attribute 'mro'"
     ]
    }
   ],
   "source": [
    "# Single Optional parameters and arguments.\n",
    "def student_data(name, age, *marks):\n",
    "    print(f\"Student Name: {name}\")\n",
    "    print(f\"Student Age: {age}\")\n",
    "    print(f\"Number of subjects: {marks.count}\")\n",
    "    for mark in marks:\n",
    "        print(mark)\n",
    "student_data(\"Shaheen\", 25, 99,90)        "
   ]
  },
  {
   "cell_type": "code",
   "execution_count": null,
   "metadata": {},
   "outputs": [],
   "source": [
    "# Using functions as variables.\n",
    "#\n",
    "def add_numbers(first_number, second_number):\n",
    "    return first_number + second_number\n",
    "\n",
    "def subtract_numbers(first_number, second_number):\n",
    "    return first_number - second_number\n",
    "\n",
    "sum_of_results = add_numbers(2,2) + subtract_numbers(4,3) \n",
    "sum_of_results"
   ]
  },
  {
   "cell_type": "markdown",
   "metadata": {},
   "source": [
    "### Function: Global Variables vs Local Variables."
   ]
  },
  {
   "cell_type": "code",
   "execution_count": 2,
   "metadata": {},
   "outputs": [
    {
     "name": "stdout",
     "output_type": "stream",
     "text": [
      "Name in global scope, checked in function's scope: Shaheen\n",
      "Name outside function:Shaheen\n"
     ]
    }
   ],
   "source": [
    "name =  \"Shaheen\"\n",
    "def change_name():\n",
    "    print(f\"Name in global scope, checked in function's scope: {name}\")\n",
    "#     name = \"Shahzaib\" #Uncommenting this generates error.\n",
    "#\n",
    "change_name()\n",
    "print(f\"Name outside function:{name}\")    "
   ]
  },
  {
   "cell_type": "code",
   "execution_count": 5,
   "metadata": {},
   "outputs": [
    {
     "name": "stdout",
     "output_type": "stream",
     "text": [
      "Hello Lovely People!\n"
     ]
    },
    {
     "ename": "NameError",
     "evalue": "name 'display_message' is not defined",
     "output_type": "error",
     "traceback": [
      "\u001b[1;31m---------------------------------------------------------------------------\u001b[0m",
      "\u001b[1;31mNameError\u001b[0m                                 Traceback (most recent call last)",
      "\u001b[1;32m<ipython-input-5-bd11bb6b3acc>\u001b[0m in \u001b[0;36m<module>\u001b[1;34m\u001b[0m\n\u001b[0;32m      7\u001b[0m \u001b[1;31m#\u001b[0m\u001b[1;33m\u001b[0m\u001b[1;33m\u001b[0m\u001b[1;33m\u001b[0m\u001b[0m\n\u001b[0;32m      8\u001b[0m \u001b[0mgreeter\u001b[0m\u001b[1;33m(\u001b[0m\u001b[0mmy_message\u001b[0m\u001b[1;33m)\u001b[0m\u001b[1;33m\u001b[0m\u001b[1;33m\u001b[0m\u001b[0m\n\u001b[1;32m----> 9\u001b[1;33m \u001b[0mdisplay_message\u001b[0m\u001b[1;33m(\u001b[0m\u001b[0mmy_message\u001b[0m\u001b[1;33m)\u001b[0m\u001b[1;33m\u001b[0m\u001b[1;33m\u001b[0m\u001b[0m\n\u001b[0m",
      "\u001b[1;31mNameError\u001b[0m: name 'display_message' is not defined"
     ]
    }
   ],
   "source": [
    "my_message = \"Hello Lovely People!\"\n",
    "#\n",
    "def greeter(message):\n",
    "    def display_message(content):\n",
    "        print(content)\n",
    "    display_message(message)\n",
    "#\n",
    "greeter(my_message)\n",
    "# display_message(my_message) #NameError: name 'display_message' is not defined."
   ]
  },
  {
   "cell_type": "code",
   "execution_count": 3,
   "metadata": {},
   "outputs": [
    {
     "name": "stdout",
     "output_type": "stream",
     "text": [
      "4.4\n"
     ]
    }
   ],
   "source": [
    "print(calc.calc_tax(22,0.2))"
   ]
  },
  {
   "cell_type": "code",
   "execution_count": null,
   "metadata": {},
   "outputs": [],
   "source": []
  }
 ],
 "metadata": {
  "kernelspec": {
   "display_name": "Python 3",
   "language": "python",
   "name": "python3"
  },
  "language_info": {
   "codemirror_mode": {
    "name": "ipython",
    "version": 3
   },
   "file_extension": ".py",
   "mimetype": "text/x-python",
   "name": "python",
   "nbconvert_exporter": "python",
   "pygments_lexer": "ipython3",
   "version": "3.7.3"
  }
 },
 "nbformat": 4,
 "nbformat_minor": 2
}
