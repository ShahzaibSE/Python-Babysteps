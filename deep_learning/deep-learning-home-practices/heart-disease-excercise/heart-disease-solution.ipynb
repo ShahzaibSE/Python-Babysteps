{
 "cells": [
  {
   "cell_type": "code",
   "execution_count": 1,
   "metadata": {},
   "outputs": [],
   "source": [
    "import pandas as pd\n",
    "import tensorflow as tf\n",
    "import numpy as np\n",
    "from tensorflow.keras.models import Sequential\n",
    "from tensorflow.keras.layers import Dense\n",
    "from tensorflow.keras.wrappers.scikit_learn import KerasClassifier\n",
    "from sklearn.model_selection import cross_val_score\n",
    "from sklearn.preprocessing import LabelEncoder\n",
    "from sklearn.model_selection import StratifiedKFold\n",
    "from sklearn.preprocessing import StandardScaler\n",
    "from sklearn.pipeline import Pipeline\n",
    "import matplotlib.pyplot as plt"
   ]
  },
  {
   "cell_type": "code",
   "execution_count": 2,
   "metadata": {},
   "outputs": [
    {
     "data": {
      "text/html": [
       "<div>\n",
       "<style scoped>\n",
       "    .dataframe tbody tr th:only-of-type {\n",
       "        vertical-align: middle;\n",
       "    }\n",
       "\n",
       "    .dataframe tbody tr th {\n",
       "        vertical-align: top;\n",
       "    }\n",
       "\n",
       "    .dataframe thead th {\n",
       "        text-align: right;\n",
       "    }\n",
       "</style>\n",
       "<table border=\"1\" class=\"dataframe\">\n",
       "  <thead>\n",
       "    <tr style=\"text-align: right;\">\n",
       "      <th></th>\n",
       "      <th>age</th>\n",
       "      <th>sex</th>\n",
       "      <th>cp</th>\n",
       "      <th>trestbps</th>\n",
       "      <th>chol</th>\n",
       "      <th>fbs</th>\n",
       "      <th>restecg</th>\n",
       "      <th>thalach</th>\n",
       "      <th>exang</th>\n",
       "      <th>oldpeak</th>\n",
       "      <th>slope</th>\n",
       "      <th>ca</th>\n",
       "      <th>thal</th>\n",
       "      <th>target</th>\n",
       "    </tr>\n",
       "  </thead>\n",
       "  <tbody>\n",
       "    <tr>\n",
       "      <th>0</th>\n",
       "      <td>63</td>\n",
       "      <td>1</td>\n",
       "      <td>3</td>\n",
       "      <td>145</td>\n",
       "      <td>233</td>\n",
       "      <td>1</td>\n",
       "      <td>0</td>\n",
       "      <td>150</td>\n",
       "      <td>0</td>\n",
       "      <td>2.3</td>\n",
       "      <td>0</td>\n",
       "      <td>0</td>\n",
       "      <td>1</td>\n",
       "      <td>1</td>\n",
       "    </tr>\n",
       "    <tr>\n",
       "      <th>1</th>\n",
       "      <td>37</td>\n",
       "      <td>1</td>\n",
       "      <td>2</td>\n",
       "      <td>130</td>\n",
       "      <td>250</td>\n",
       "      <td>0</td>\n",
       "      <td>1</td>\n",
       "      <td>187</td>\n",
       "      <td>0</td>\n",
       "      <td>3.5</td>\n",
       "      <td>0</td>\n",
       "      <td>0</td>\n",
       "      <td>2</td>\n",
       "      <td>1</td>\n",
       "    </tr>\n",
       "    <tr>\n",
       "      <th>2</th>\n",
       "      <td>41</td>\n",
       "      <td>0</td>\n",
       "      <td>1</td>\n",
       "      <td>130</td>\n",
       "      <td>204</td>\n",
       "      <td>0</td>\n",
       "      <td>0</td>\n",
       "      <td>172</td>\n",
       "      <td>0</td>\n",
       "      <td>1.4</td>\n",
       "      <td>2</td>\n",
       "      <td>0</td>\n",
       "      <td>2</td>\n",
       "      <td>1</td>\n",
       "    </tr>\n",
       "    <tr>\n",
       "      <th>3</th>\n",
       "      <td>56</td>\n",
       "      <td>1</td>\n",
       "      <td>1</td>\n",
       "      <td>120</td>\n",
       "      <td>236</td>\n",
       "      <td>0</td>\n",
       "      <td>1</td>\n",
       "      <td>178</td>\n",
       "      <td>0</td>\n",
       "      <td>0.8</td>\n",
       "      <td>2</td>\n",
       "      <td>0</td>\n",
       "      <td>2</td>\n",
       "      <td>1</td>\n",
       "    </tr>\n",
       "    <tr>\n",
       "      <th>4</th>\n",
       "      <td>57</td>\n",
       "      <td>0</td>\n",
       "      <td>0</td>\n",
       "      <td>120</td>\n",
       "      <td>354</td>\n",
       "      <td>0</td>\n",
       "      <td>1</td>\n",
       "      <td>163</td>\n",
       "      <td>1</td>\n",
       "      <td>0.6</td>\n",
       "      <td>2</td>\n",
       "      <td>0</td>\n",
       "      <td>2</td>\n",
       "      <td>1</td>\n",
       "    </tr>\n",
       "  </tbody>\n",
       "</table>\n",
       "</div>"
      ],
      "text/plain": [
       "   age  sex  cp  trestbps  chol  fbs  restecg  thalach  exang  oldpeak  slope  \\\n",
       "0   63    1   3       145   233    1        0      150      0      2.3      0   \n",
       "1   37    1   2       130   250    0        1      187      0      3.5      0   \n",
       "2   41    0   1       130   204    0        0      172      0      1.4      2   \n",
       "3   56    1   1       120   236    0        1      178      0      0.8      2   \n",
       "4   57    0   0       120   354    0        1      163      1      0.6      2   \n",
       "\n",
       "   ca  thal  target  \n",
       "0   0     1       1  \n",
       "1   0     2       1  \n",
       "2   0     2       1  \n",
       "3   0     2       1  \n",
       "4   0     2       1  "
      ]
     },
     "execution_count": 2,
     "metadata": {},
     "output_type": "execute_result"
    }
   ],
   "source": [
    "heart_disease_dataset = pd.read_csv('./heart.csv')\n",
    "heart_disease_dataset.head()"
   ]
  },
  {
   "cell_type": "code",
   "execution_count": 3,
   "metadata": {},
   "outputs": [
    {
     "data": {
      "text/html": [
       "<div>\n",
       "<style scoped>\n",
       "    .dataframe tbody tr th:only-of-type {\n",
       "        vertical-align: middle;\n",
       "    }\n",
       "\n",
       "    .dataframe tbody tr th {\n",
       "        vertical-align: top;\n",
       "    }\n",
       "\n",
       "    .dataframe thead th {\n",
       "        text-align: right;\n",
       "    }\n",
       "</style>\n",
       "<table border=\"1\" class=\"dataframe\">\n",
       "  <thead>\n",
       "    <tr style=\"text-align: right;\">\n",
       "      <th></th>\n",
       "      <th>age</th>\n",
       "      <th>sex</th>\n",
       "      <th>cp</th>\n",
       "      <th>trestbps</th>\n",
       "      <th>chol</th>\n",
       "      <th>fbs</th>\n",
       "      <th>restecg</th>\n",
       "      <th>thalach</th>\n",
       "      <th>exang</th>\n",
       "      <th>oldpeak</th>\n",
       "      <th>slope</th>\n",
       "      <th>ca</th>\n",
       "      <th>thal</th>\n",
       "    </tr>\n",
       "  </thead>\n",
       "  <tbody>\n",
       "    <tr>\n",
       "      <th>0</th>\n",
       "      <td>63</td>\n",
       "      <td>1</td>\n",
       "      <td>3</td>\n",
       "      <td>145</td>\n",
       "      <td>233</td>\n",
       "      <td>1</td>\n",
       "      <td>0</td>\n",
       "      <td>150</td>\n",
       "      <td>0</td>\n",
       "      <td>2.3</td>\n",
       "      <td>0</td>\n",
       "      <td>0</td>\n",
       "      <td>1</td>\n",
       "    </tr>\n",
       "    <tr>\n",
       "      <th>1</th>\n",
       "      <td>37</td>\n",
       "      <td>1</td>\n",
       "      <td>2</td>\n",
       "      <td>130</td>\n",
       "      <td>250</td>\n",
       "      <td>0</td>\n",
       "      <td>1</td>\n",
       "      <td>187</td>\n",
       "      <td>0</td>\n",
       "      <td>3.5</td>\n",
       "      <td>0</td>\n",
       "      <td>0</td>\n",
       "      <td>2</td>\n",
       "    </tr>\n",
       "    <tr>\n",
       "      <th>2</th>\n",
       "      <td>41</td>\n",
       "      <td>0</td>\n",
       "      <td>1</td>\n",
       "      <td>130</td>\n",
       "      <td>204</td>\n",
       "      <td>0</td>\n",
       "      <td>0</td>\n",
       "      <td>172</td>\n",
       "      <td>0</td>\n",
       "      <td>1.4</td>\n",
       "      <td>2</td>\n",
       "      <td>0</td>\n",
       "      <td>2</td>\n",
       "    </tr>\n",
       "    <tr>\n",
       "      <th>3</th>\n",
       "      <td>56</td>\n",
       "      <td>1</td>\n",
       "      <td>1</td>\n",
       "      <td>120</td>\n",
       "      <td>236</td>\n",
       "      <td>0</td>\n",
       "      <td>1</td>\n",
       "      <td>178</td>\n",
       "      <td>0</td>\n",
       "      <td>0.8</td>\n",
       "      <td>2</td>\n",
       "      <td>0</td>\n",
       "      <td>2</td>\n",
       "    </tr>\n",
       "    <tr>\n",
       "      <th>4</th>\n",
       "      <td>57</td>\n",
       "      <td>0</td>\n",
       "      <td>0</td>\n",
       "      <td>120</td>\n",
       "      <td>354</td>\n",
       "      <td>0</td>\n",
       "      <td>1</td>\n",
       "      <td>163</td>\n",
       "      <td>1</td>\n",
       "      <td>0.6</td>\n",
       "      <td>2</td>\n",
       "      <td>0</td>\n",
       "      <td>2</td>\n",
       "    </tr>\n",
       "    <tr>\n",
       "      <th>...</th>\n",
       "      <td>...</td>\n",
       "      <td>...</td>\n",
       "      <td>...</td>\n",
       "      <td>...</td>\n",
       "      <td>...</td>\n",
       "      <td>...</td>\n",
       "      <td>...</td>\n",
       "      <td>...</td>\n",
       "      <td>...</td>\n",
       "      <td>...</td>\n",
       "      <td>...</td>\n",
       "      <td>...</td>\n",
       "      <td>...</td>\n",
       "    </tr>\n",
       "    <tr>\n",
       "      <th>298</th>\n",
       "      <td>57</td>\n",
       "      <td>0</td>\n",
       "      <td>0</td>\n",
       "      <td>140</td>\n",
       "      <td>241</td>\n",
       "      <td>0</td>\n",
       "      <td>1</td>\n",
       "      <td>123</td>\n",
       "      <td>1</td>\n",
       "      <td>0.2</td>\n",
       "      <td>1</td>\n",
       "      <td>0</td>\n",
       "      <td>3</td>\n",
       "    </tr>\n",
       "    <tr>\n",
       "      <th>299</th>\n",
       "      <td>45</td>\n",
       "      <td>1</td>\n",
       "      <td>3</td>\n",
       "      <td>110</td>\n",
       "      <td>264</td>\n",
       "      <td>0</td>\n",
       "      <td>1</td>\n",
       "      <td>132</td>\n",
       "      <td>0</td>\n",
       "      <td>1.2</td>\n",
       "      <td>1</td>\n",
       "      <td>0</td>\n",
       "      <td>3</td>\n",
       "    </tr>\n",
       "    <tr>\n",
       "      <th>300</th>\n",
       "      <td>68</td>\n",
       "      <td>1</td>\n",
       "      <td>0</td>\n",
       "      <td>144</td>\n",
       "      <td>193</td>\n",
       "      <td>1</td>\n",
       "      <td>1</td>\n",
       "      <td>141</td>\n",
       "      <td>0</td>\n",
       "      <td>3.4</td>\n",
       "      <td>1</td>\n",
       "      <td>2</td>\n",
       "      <td>3</td>\n",
       "    </tr>\n",
       "    <tr>\n",
       "      <th>301</th>\n",
       "      <td>57</td>\n",
       "      <td>1</td>\n",
       "      <td>0</td>\n",
       "      <td>130</td>\n",
       "      <td>131</td>\n",
       "      <td>0</td>\n",
       "      <td>1</td>\n",
       "      <td>115</td>\n",
       "      <td>1</td>\n",
       "      <td>1.2</td>\n",
       "      <td>1</td>\n",
       "      <td>1</td>\n",
       "      <td>3</td>\n",
       "    </tr>\n",
       "    <tr>\n",
       "      <th>302</th>\n",
       "      <td>57</td>\n",
       "      <td>0</td>\n",
       "      <td>1</td>\n",
       "      <td>130</td>\n",
       "      <td>236</td>\n",
       "      <td>0</td>\n",
       "      <td>0</td>\n",
       "      <td>174</td>\n",
       "      <td>0</td>\n",
       "      <td>0.0</td>\n",
       "      <td>1</td>\n",
       "      <td>1</td>\n",
       "      <td>2</td>\n",
       "    </tr>\n",
       "  </tbody>\n",
       "</table>\n",
       "<p>303 rows × 13 columns</p>\n",
       "</div>"
      ],
      "text/plain": [
       "     age  sex  cp  trestbps  chol  fbs  restecg  thalach  exang  oldpeak  \\\n",
       "0     63    1   3       145   233    1        0      150      0      2.3   \n",
       "1     37    1   2       130   250    0        1      187      0      3.5   \n",
       "2     41    0   1       130   204    0        0      172      0      1.4   \n",
       "3     56    1   1       120   236    0        1      178      0      0.8   \n",
       "4     57    0   0       120   354    0        1      163      1      0.6   \n",
       "..   ...  ...  ..       ...   ...  ...      ...      ...    ...      ...   \n",
       "298   57    0   0       140   241    0        1      123      1      0.2   \n",
       "299   45    1   3       110   264    0        1      132      0      1.2   \n",
       "300   68    1   0       144   193    1        1      141      0      3.4   \n",
       "301   57    1   0       130   131    0        1      115      1      1.2   \n",
       "302   57    0   1       130   236    0        0      174      0      0.0   \n",
       "\n",
       "     slope  ca  thal  \n",
       "0        0   0     1  \n",
       "1        0   0     2  \n",
       "2        2   0     2  \n",
       "3        2   0     2  \n",
       "4        2   0     2  \n",
       "..     ...  ..   ...  \n",
       "298      1   0     3  \n",
       "299      1   0     3  \n",
       "300      1   2     3  \n",
       "301      1   1     3  \n",
       "302      1   1     2  \n",
       "\n",
       "[303 rows x 13 columns]"
      ]
     },
     "execution_count": 3,
     "metadata": {},
     "output_type": "execute_result"
    }
   ],
   "source": [
    "# Prepare data.\n",
    "heart_X = heart_disease_dataset.loc[:,'age':'thal']\n",
    "heart_Y = heart_disease_dataset.loc[:,'target']\n",
    "heart_X"
   ]
  },
  {
   "cell_type": "code",
   "execution_count": 4,
   "metadata": {},
   "outputs": [
    {
     "name": "stdout",
     "output_type": "stream",
     "text": [
      "303\n"
     ]
    },
    {
     "data": {
      "text/plain": [
       "array([[63.,  1.,  3., ...,  0.,  0.,  1.],\n",
       "       [37.,  1.,  2., ...,  0.,  0.,  2.],\n",
       "       [41.,  0.,  1., ...,  2.,  0.,  2.],\n",
       "       ...,\n",
       "       [68.,  1.,  0., ...,  1.,  2.,  3.],\n",
       "       [57.,  1.,  0., ...,  1.,  1.,  3.],\n",
       "       [57.,  0.,  1., ...,  1.,  1.,  2.]])"
      ]
     },
     "execution_count": 4,
     "metadata": {},
     "output_type": "execute_result"
    }
   ],
   "source": [
    "heart_X = heart_X.values\n",
    "print(len(heart_X))\n",
    "heart_X"
   ]
  },
  {
   "cell_type": "code",
   "execution_count": 5,
   "metadata": {},
   "outputs": [
    {
     "data": {
      "text/plain": [
       "(303, 13)"
      ]
     },
     "execution_count": 5,
     "metadata": {},
     "output_type": "execute_result"
    }
   ],
   "source": [
    "heart_X.shape"
   ]
  },
  {
   "cell_type": "code",
   "execution_count": 6,
   "metadata": {},
   "outputs": [
    {
     "name": "stdout",
     "output_type": "stream",
     "text": [
      "<class 'pandas.core.series.Series'>\n"
     ]
    },
    {
     "data": {
      "text/plain": [
       "array([1, 1, 1, 1, 1, 1, 1, 1, 1, 1, 1, 1, 1, 1, 1, 1, 1, 1, 1, 1, 1, 1,\n",
       "       1, 1, 1, 1, 1, 1, 1, 1, 1, 1, 1, 1, 1, 1, 1, 1, 1, 1, 1, 1, 1, 1,\n",
       "       1, 1, 1, 1, 1, 1, 1, 1, 1, 1, 1, 1, 1, 1, 1, 1, 1, 1, 1, 1, 1, 1,\n",
       "       1, 1, 1, 1, 1, 1, 1, 1, 1, 1, 1, 1, 1, 1, 1, 1, 1, 1, 1, 1, 1, 1,\n",
       "       1, 1, 1, 1, 1, 1, 1, 1, 1, 1, 1, 1, 1, 1, 1, 1, 1, 1, 1, 1, 1, 1,\n",
       "       1, 1, 1, 1, 1, 1, 1, 1, 1, 1, 1, 1, 1, 1, 1, 1, 1, 1, 1, 1, 1, 1,\n",
       "       1, 1, 1, 1, 1, 1, 1, 1, 1, 1, 1, 1, 1, 1, 1, 1, 1, 1, 1, 1, 1, 1,\n",
       "       1, 1, 1, 1, 1, 1, 1, 1, 1, 1, 1, 0, 0, 0, 0, 0, 0, 0, 0, 0, 0, 0,\n",
       "       0, 0, 0, 0, 0, 0, 0, 0, 0, 0, 0, 0, 0, 0, 0, 0, 0, 0, 0, 0, 0, 0,\n",
       "       0, 0, 0, 0, 0, 0, 0, 0, 0, 0, 0, 0, 0, 0, 0, 0, 0, 0, 0, 0, 0, 0,\n",
       "       0, 0, 0, 0, 0, 0, 0, 0, 0, 0, 0, 0, 0, 0, 0, 0, 0, 0, 0, 0, 0, 0,\n",
       "       0, 0, 0, 0, 0, 0, 0, 0, 0, 0, 0, 0, 0, 0, 0, 0, 0, 0, 0, 0, 0, 0,\n",
       "       0, 0, 0, 0, 0, 0, 0, 0, 0, 0, 0, 0, 0, 0, 0, 0, 0, 0, 0, 0, 0, 0,\n",
       "       0, 0, 0, 0, 0, 0, 0, 0, 0, 0, 0, 0, 0, 0, 0, 0, 0])"
      ]
     },
     "execution_count": 6,
     "metadata": {},
     "output_type": "execute_result"
    }
   ],
   "source": [
    "print(type(heart_Y))\n",
    "heart_Y.values"
   ]
  },
  {
   "cell_type": "code",
   "execution_count": 7,
   "metadata": {},
   "outputs": [],
   "source": [
    "# fix random seed for reproducibility\n",
    "seed = 7\n",
    "np.random.seed(seed)\n",
    "threshold_acc = 0.87"
   ]
  },
  {
   "cell_type": "code",
   "execution_count": 8,
   "metadata": {},
   "outputs": [],
   "source": [
    "def fit_model(X,Y,model,epochs_val,batch_size_val,verbose_val=False):\n",
    "    history = model.fit(X,Y,epochs=epochs_val,batch_size=batch_size_val,verbose=verbose_val)\n",
    "    acc_values = history.history['acc']\n",
    "    print(\"Accuracy Stats: %.2f (%.2f)\" % (results.mean()*100, results.std()*100))"
   ]
  },
  {
   "cell_type": "code",
   "execution_count": 9,
   "metadata": {},
   "outputs": [],
   "source": [
    "class ModelConfig(tf.keras.callbacks.Callback):\n",
    "    def on_epoch_end(self,epoch,logs={}):\n",
    "        if logs['acc'] <= threshold_acc:\n",
    "            print(\"\\nReached 87% accuracy so cancelling training!\\n\")\n",
    "            self.model.stop_training = True\n",
    "model_callback = ModelConfig()            "
   ]
  },
  {
   "cell_type": "markdown",
   "metadata": {},
   "source": [
    "## Baseline Model."
   ]
  },
  {
   "cell_type": "code",
   "execution_count": 10,
   "metadata": {},
   "outputs": [],
   "source": [
    "def baseline_model():\n",
    "    model = Sequential()\n",
    "    model.add(Dense(13,input_dim=13,activation='relu'))\n",
    "    model.add(Dense(13,activation='relu'))\n",
    "    model.add(Dense(1,activation='sigmoid'))\n",
    "    # Compile.\n",
    "    model.compile(optimizer='adam',loss='binary_crossentropy',metrics=['acc'])\n",
    "    return model"
   ]
  },
  {
   "cell_type": "code",
   "execution_count": 11,
   "metadata": {},
   "outputs": [
    {
     "name": "stdout",
     "output_type": "stream",
     "text": [
      "WARNING:tensorflow:From /opt/anaconda3/envs/tf/lib/python3.7/site-packages/tensorflow_core/python/ops/resource_variable_ops.py:1630: calling BaseResourceVariable.__init__ (from tensorflow.python.ops.resource_variable_ops) with constraint is deprecated and will be removed in a future version.\n",
      "Instructions for updating:\n",
      "If using Keras pass *_constraint arguments to layers.\n",
      "WARNING:tensorflow:From /opt/anaconda3/envs/tf/lib/python3.7/site-packages/tensorflow_core/python/ops/nn_impl.py:183: where (from tensorflow.python.ops.array_ops) is deprecated and will be removed in a future version.\n",
      "Instructions for updating:\n",
      "Use tf.where in 2.0, which has the same broadcast rule as np.where\n",
      "Standardized: 81.84% (5.65%)\n"
     ]
    }
   ],
   "source": [
    "estimator = KerasClassifier(build_fn=baseline_model,epochs=100,batch_size=5,verbose=False)\n",
    "kfold = StratifiedKFold(n_splits=10,shuffle=True,random_state=seed)\n",
    "results = cross_val_score(estimator,heart_X,y=heart_Y,cv=kfold)\n",
    "print(\"Standardized: %.2f%% (%.2f%%)\" % (results.mean()*100, results.std()*100))"
   ]
  },
  {
   "cell_type": "code",
   "execution_count": 12,
   "metadata": {},
   "outputs": [
    {
     "name": "stdout",
     "output_type": "stream",
     "text": [
      "Standardized: 80.20% (5.73%)\n"
     ]
    }
   ],
   "source": [
    "# Data Preparation using Sicket Learn Standardization.\n",
    "estimators = []\n",
    "estimators.append(('standardize',StandardScaler()))\n",
    "estimators.append(('mlp',KerasClassifier(build_fn=baseline_model,epochs=100,batch_size=5,verbose=False)))\n",
    "kfold = StratifiedKFold(n_splits=10,shuffle=True,random_state=seed)\n",
    "pipeline = Pipeline(estimators)\n",
    "results = cross_val_score(pipeline,heart_X,y=heart_Y,cv=kfold)\n",
    "print(\"Standardized: %.2f%% (%.2f%%)\" % (results.mean()*100, results.std()*100))"
   ]
  },
  {
   "cell_type": "markdown",
   "metadata": {},
   "source": [
    "## Smaller Model"
   ]
  },
  {
   "cell_type": "code",
   "execution_count": 13,
   "metadata": {},
   "outputs": [],
   "source": [
    "def smaller_model():\n",
    "    model = Sequential()\n",
    "    model.add(Dense(13,input_dim=13,activation='relu'))\n",
    "    model.add(Dense(6,activation='relu'))\n",
    "    model.add(Dense(1,activation='sigmoid'))\n",
    "    # Compile.\n",
    "    model.compile(optimizer='adam',loss='binary_crossentropy',metrics=['acc'])\n",
    "    return model"
   ]
  },
  {
   "cell_type": "code",
   "execution_count": 14,
   "metadata": {},
   "outputs": [
    {
     "name": "stdout",
     "output_type": "stream",
     "text": [
      "Smaller Network Standardized: 79.52% (4.94%)\n"
     ]
    }
   ],
   "source": [
    "estimators = []\n",
    "estimators.append(('standardize',StandardScaler()))\n",
    "estimators.append(('mlp',KerasClassifier(build_fn=smaller_model,epochs=100,batch_size=5,verbose=False)))\n",
    "kfold = StratifiedKFold(n_splits=10,shuffle=True,random_state=seed)\n",
    "pipeline = Pipeline(estimators)\n",
    "results = cross_val_score(pipeline,heart_X,y=heart_Y,cv=kfold)\n",
    "print(\"Smaller Network Standardized: %.2f%% (%.2f%%)\" % (results.mean()*100, results.std()*100))"
   ]
  },
  {
   "cell_type": "markdown",
   "metadata": {},
   "source": [
    "## Larger Model"
   ]
  },
  {
   "cell_type": "code",
   "execution_count": 15,
   "metadata": {},
   "outputs": [],
   "source": [
    "def larger_model():\n",
    "    model = Sequential()\n",
    "    model.add(Dense(13,input_dim=13,activation='relu'))\n",
    "    model.add(Dense(13,activation='relu'))\n",
    "    model.add(Dense(6,activation='relu'))\n",
    "    model.add(Dense(1,activation='sigmoid'))\n",
    "    # Compile.\n",
    "    model.compile(optimizer='adam',loss='binary_crossentropy',metrics=['acc'])\n",
    "    return model"
   ]
  },
  {
   "cell_type": "code",
   "execution_count": 16,
   "metadata": {},
   "outputs": [
    {
     "name": "stdout",
     "output_type": "stream",
     "text": [
      "Larger Network Standardized: 79.83% (7.22%)\n"
     ]
    }
   ],
   "source": [
    "estimators = []\n",
    "estimators.append(('standardize',StandardScaler()))\n",
    "estimators.append(('mlp',KerasClassifier(build_fn=larger_model,epochs=100,batch_size=5,verbose=False)))\n",
    "kfold = StratifiedKFold(n_splits=10,shuffle=True,random_state=seed)\n",
    "pipeline = Pipeline(estimators)\n",
    "results = cross_val_score(pipeline,heart_X,y=heart_Y,cv=kfold)\n",
    "print(\"Larger Network Standardized: %.2f%% (%.2f%%)\" % (results.mean()*100, results.std()*100))"
   ]
  },
  {
   "cell_type": "markdown",
   "metadata": {},
   "source": [
    "## Overfitting the Model."
   ]
  },
  {
   "cell_type": "code",
   "execution_count": 17,
   "metadata": {},
   "outputs": [],
   "source": [
    "def create_overfit_model():\n",
    "    model = Sequential()\n",
    "    model.add(Dense(13,input_dim=13,activation='relu'))\n",
    "    model.add(Dense(26,activation='relu'))\n",
    "    model.add(Dense(13,activation='relu'))\n",
    "    model.add(Dense(1,activation='sigmoid'))\n",
    "    # Compile.\n",
    "    model.compile(optimizer='adam',loss='binary_crossentropy',metrics=['acc'])\n",
    "    return model"
   ]
  },
  {
   "cell_type": "code",
   "execution_count": 18,
   "metadata": {},
   "outputs": [
    {
     "name": "stdout",
     "output_type": "stream",
     "text": [
      "Overfit Network Standardized: 76.55% (4.86%)\n"
     ]
    }
   ],
   "source": [
    "estimators = []\n",
    "estimators.append(('standardize', StandardScaler()))\n",
    "estimators.append(('mlp',KerasClassifier(build_fn=create_overfit_model,epochs=150,batch_size=5, verbose=0)))\n",
    "kfold = StratifiedKFold(n_splits=10,shuffle=True,random_state=seed)\n",
    "pipeline = Pipeline(estimators)\n",
    "results = cross_val_score(pipeline,heart_X,y=heart_Y,cv=kfold)\n",
    "print(\"Overfit Network Standardized: %.2f%% (%.2f%%)\" % (results.mean()*100, results.std()*100))"
   ]
  },
  {
   "cell_type": "code",
   "execution_count": 19,
   "metadata": {
    "scrolled": true
   },
   "outputs": [
    {
     "name": "stdout",
     "output_type": "stream",
     "text": [
      "Number of splits.\n",
      "2\n",
      "StratifiedKFold(n_splits=2, random_state=None, shuffle=False)\n",
      "TRAIN: [1 3] TEST: [0 2]\n",
      "TRAIN: [0 2] TEST: [1 3]\n",
      "\n",
      "Train Set\n",
      "[[1 2]\n",
      " [1 2]]\n",
      "\n",
      "Test Set\n",
      "[[3 4]\n",
      " [3 4]]\n"
     ]
    }
   ],
   "source": [
    "X = np.array([[1, 2], [3, 4], [1, 2], [3, 4]])\n",
    "y = np.array([0, 0, 1, 1])\n",
    "skf = StratifiedKFold(n_splits=2)\n",
    "print(\"Number of splits.\")\n",
    "print(skf.get_n_splits(X, y))\n",
    "print(skf)\n",
    "StratifiedKFold(n_splits=2, random_state=None, shuffle=False)\n",
    "for train_index, test_index in skf.split(X, y):\n",
    "    print(\"TRAIN:\", train_index, \"TEST:\", test_index)\n",
    "    X_train, X_test = X[train_index], X[test_index]\n",
    "print()\n",
    "print(\"Train Set\")\n",
    "print(X_train)\n",
    "print()\n",
    "print(\"Test Set\")\n",
    "print(X_test)\n",
    "    "
   ]
  },
  {
   "cell_type": "markdown",
   "metadata": {},
   "source": [
    "## Tuning Model"
   ]
  },
  {
   "cell_type": "code",
   "execution_count": 20,
   "metadata": {},
   "outputs": [],
   "source": [
    "class MyModel(tf.keras.Model):\n",
    "     def __init__(self):\n",
    "        super(MyModel,self).__init__()\n",
    "        self.dense1 = Dense(13,activation='relu')\n",
    "        self.dense2 = Dense(13,activation='relu')\n",
    "        self.dense3 = Dense(1,activation='sigmoid')\n",
    "    \n",
    "     def call(self,inputs):\n",
    "        x = self.dense1(inputs)\n",
    "        x = self.dense2(x)\n",
    "        return self.dense3(x)"
   ]
  },
  {
   "cell_type": "code",
   "execution_count": 21,
   "metadata": {},
   "outputs": [
    {
     "name": "stdout",
     "output_type": "stream",
     "text": [
      "Accuracy Stats: 76.55% (4.86%)\n"
     ]
    }
   ],
   "source": [
    "def get_class_model():\n",
    "    inputs = tf.keras.Input(shape=(13,))\n",
    "    mymodel = MyModel()\n",
    "    outputs = mymodel.call(inputs)\n",
    "    # Keras Model.\n",
    "    model = tf.keras.Model(inputs,outputs)\n",
    "    # Compile.\n",
    "    model.compile(optimizer='adam',loss='binary_crossentropy',metrics=['acc'])\n",
    "    return model\n",
    "\n",
    "my_model = get_class_model()\n",
    "history = my_model.fit(heart_X,heart_Y,epochs=100,batch_size=5,verbose=False)\n",
    "acc_values = history.history['acc']\n",
    "print(\"Accuracy Stats: %.2f%% (%.2f%%)\" % (results.mean()*100, results.std()*100))"
   ]
  },
  {
   "cell_type": "code",
   "execution_count": 22,
   "metadata": {},
   "outputs": [
    {
     "name": "stdout",
     "output_type": "stream",
     "text": [
      "Accuracy Stats: 76.55 (4.86)\n"
     ]
    }
   ],
   "source": [
    "fit_model(heart_X,heart_Y,get_class_model(),120,5)"
   ]
  },
  {
   "cell_type": "code",
   "execution_count": 23,
   "metadata": {},
   "outputs": [],
   "source": [
    "# Tuning Model.\n",
    "def create_tuned_model():\n",
    "    model = Sequential()\n",
    "    model.add(Dense(13,input_dim=13,activation='relu'))\n",
    "    model.add(Dense(13,activation='relu'))\n",
    "    model.add(Dense(13,activation='relu')) ## Added hidded layer.\n",
    "    model.add(Dense(1,activation='sigmoid'))\n",
    "    # Compile.\n",
    "    model.compile(optimizer='adam',loss='binary_crossentropy',metrics=['acc'])\n",
    "    return model"
   ]
  },
  {
   "cell_type": "code",
   "execution_count": 24,
   "metadata": {},
   "outputs": [
    {
     "name": "stdout",
     "output_type": "stream",
     "text": [
      "Larger: 78.87% (6.00%)\n"
     ]
    }
   ],
   "source": [
    "estimators = []\n",
    "estimators.append(('standardize', StandardScaler()))\n",
    "estimators.append(('mlp', KerasClassifier(build_fn=create_tuned_model, epochs=100, batch_size=5, verbose=0)))\n",
    "pipeline = Pipeline(estimators)\n",
    "kfold = StratifiedKFold(n_splits=10, shuffle=True, random_state=seed)\n",
    "results = cross_val_score(pipeline, heart_X, heart_Y, cv=kfold)\n",
    "print(\"Larger: %.2f%% (%.2f%%)\" % (results.mean()*100, results.std()*100))"
   ]
  },
  {
   "cell_type": "markdown",
   "metadata": {},
   "source": [
    "## Keras Functional API"
   ]
  },
  {
   "cell_type": "code",
   "execution_count": 25,
   "metadata": {},
   "outputs": [],
   "source": [
    "def functional_model():\n",
    "    inputs = tf.keras.Input(shape=(13,))\n",
    "    x = Dense(13, activation='relu')(inputs)\n",
    "    x = Dense(13, activation='relu')(x)\n",
    "    x = Dense(13, activation='relu')(x)\n",
    "    output = Dense(1, activation='sigmoid')(x)\n",
    "    # Compile.\n",
    "    model = tf.keras.Model(inputs,output)\n",
    "    model.compile(loss='binary_crossentropy',optimizer='adam',metrics=['acc'])\n",
    "    return model"
   ]
  },
  {
   "cell_type": "code",
   "execution_count": 26,
   "metadata": {},
   "outputs": [
    {
     "name": "stdout",
     "output_type": "stream",
     "text": [
      "Accuracy: Mean 78.36% and Standard Deviation 7.59%\n"
     ]
    }
   ],
   "source": [
    "model = functional_model()\n",
    "history = model.fit(heart_X,heart_Y,batch_size=5,epochs=100,verbose=0)\n",
    "history_dict = history.history\n",
    "all_acc_scores = history_dict['acc']\n",
    "print(\"Accuracy: Mean %.2f%% and Standard Deviation %.2f%%\" %(np.mean(all_acc_scores)*100, np.std(all_acc_scores)*100))"
   ]
  },
  {
   "cell_type": "code",
   "execution_count": 27,
   "metadata": {},
   "outputs": [],
   "source": [
    "# plt.hist(np.concatenate(history_dict['acc'],history_dict['loss']).cumsum(),bins=2)"
   ]
  },
  {
   "cell_type": "code",
   "execution_count": 28,
   "metadata": {},
   "outputs": [
    {
     "data": {
      "text/plain": [
       "[<matplotlib.lines.Line2D at 0x1a46740890>]"
      ]
     },
     "execution_count": 28,
     "metadata": {},
     "output_type": "execute_result"
    },
    {
     "data": {
      "image/png": "[encoded data removed]",
      "text/plain": [
       "<Figure size 432x288 with 1 Axes>"
      ]
     },
     "metadata": {
      "needs_background": "light"
     },
     "output_type": "display_data"
    }
   ],
   "source": [
    "plt.plot(history_dict['acc'],marker='o')"
   ]
  },
  {
   "cell_type": "code",
   "execution_count": 29,
   "metadata": {},
   "outputs": [
    {
     "data": {
      "text/plain": [
       "<matplotlib.collections.PathCollection at 0x1a467d8650>"
      ]
     },
     "execution_count": 29,
     "metadata": {},
     "output_type": "execute_result"
    },
    {
     "data": {
      "image/png": "[encoded data removed]",
      "text/plain": [
       "<Figure size 432x288 with 1 Axes>"
      ]
     },
     "metadata": {
      "needs_background": "light"
     },
     "output_type": "display_data"
    }
   ],
   "source": [
    "# print(history_dict['loss']*100)\n",
    "plt.scatter(history_dict['acc'],history_dict['loss'], color='b')"
   ]
  },
  {
   "cell_type": "code",
   "execution_count": 30,
   "metadata": {},
   "outputs": [
    {
     "data": {
      "text/plain": [
       "<matplotlib.collections.PathCollection at 0x1a46790b10>"
      ]
     },
     "execution_count": 30,
     "metadata": {},
     "output_type": "execute_result"
    },
    {
     "data": {
      "image/png": "[encoded data removed]",
      "text/plain": [
       "<Figure size 432x288 with 1 Axes>"
      ]
     },
     "metadata": {
      "needs_background": "light"
     },
     "output_type": "display_data"
    }
   ],
   "source": [
    "plt.scatter(np.random.randn(0,1),np.random.rand(0,1), color='b')"
   ]
  },
  {
   "cell_type": "code",
   "execution_count": 31,
   "metadata": {},
   "outputs": [
    {
     "data": {
      "text/plain": [
       "(array([ 1.,  1.,  0.,  1.,  1.,  4.,  8., 12., 29., 43.]),\n",
       " array([0.39933994, 0.44521454, 0.4910891 , 0.5369637 , 0.5828383 ,\n",
       "        0.6287129 , 0.6745875 , 0.720462  , 0.7663366 , 0.8122112 ,\n",
       "        0.8580858 ], dtype=float32),\n",
       " <a list of 10 Patch objects>)"
      ]
     },
     "execution_count": 31,
     "metadata": {},
     "output_type": "execute_result"
    },
    {
     "data": {
      "image/png": "[encoded data removed]",
      "text/plain": [
       "<Figure size 432x288 with 1 Axes>"
      ]
     },
     "metadata": {
      "needs_background": "light"
     },
     "output_type": "display_data"
    }
   ],
   "source": [
    "plt.hist(history_dict['acc'])"
   ]
  },
  {
   "cell_type": "markdown",
   "metadata": {},
   "source": [
    "## Model Subclassing."
   ]
  },
  {
   "cell_type": "code",
   "execution_count": 32,
   "metadata": {},
   "outputs": [],
   "source": [
    "# On epoch end.\n",
    "class Model_Config(tf.keras.callbacks.Callback):\n",
    "    def on_epoch_end(self,epoch,logs):\n",
    "        if logs.get(\"acc\") >= 0.85:\n",
    "            print(\"Accuracy exceeded 85%\")\n",
    "            self.model.stop_training = True\n",
    "model_callbacks = Model_Config()                        "
   ]
  },
  {
   "cell_type": "code",
   "execution_count": 33,
   "metadata": {},
   "outputs": [
    {
     "name": "stdout",
     "output_type": "stream",
     "text": [
      "Train on 303 samples\n",
      "Epoch 1/100\n",
      "303/303 [==============================] - 1s 5ms/sample - loss: 2.8377 - acc: 0.4818\n",
      "Epoch 2/100\n",
      "303/303 [==============================] - 0s 793us/sample - loss: 0.9801 - acc: 0.6205\n",
      "Epoch 3/100\n",
      "303/303 [==============================] - 0s 761us/sample - loss: 0.9032 - acc: 0.6172\n",
      "Epoch 4/100\n",
      "303/303 [==============================] - 0s 731us/sample - loss: 0.8297 - acc: 0.6601\n",
      "Epoch 5/100\n",
      "303/303 [==============================] - 0s 763us/sample - loss: 0.7255 - acc: 0.6733\n",
      "Epoch 6/100\n",
      "303/303 [==============================] - 0s 936us/sample - loss: 0.6769 - acc: 0.6997\n",
      "Epoch 7/100\n",
      "303/303 [==============================] - 0s 759us/sample - loss: 0.6076 - acc: 0.7228\n",
      "Epoch 8/100\n",
      "303/303 [==============================] - 0s 760us/sample - loss: 0.6812 - acc: 0.6568\n",
      "Epoch 9/100\n",
      "303/303 [==============================] - 0s 763us/sample - loss: 0.5874 - acc: 0.7063\n",
      "Epoch 10/100\n",
      "303/303 [==============================] - 0s 768us/sample - loss: 0.5498 - acc: 0.7525\n",
      "Epoch 11/100\n",
      "303/303 [==============================] - 0s 739us/sample - loss: 0.5407 - acc: 0.7129\n",
      "Epoch 12/100\n",
      "303/303 [==============================] - 0s 723us/sample - loss: 0.5071 - acc: 0.7525\n",
      "Epoch 13/100\n",
      "303/303 [==============================] - 0s 742us/sample - loss: 0.4821 - acc: 0.7657\n",
      "Epoch 14/100\n",
      "303/303 [==============================] - 0s 740us/sample - loss: 0.4978 - acc: 0.7525\n",
      "Epoch 15/100\n",
      "303/303 [==============================] - 0s 777us/sample - loss: 0.4865 - acc: 0.7888\n",
      "Epoch 16/100\n",
      "303/303 [==============================] - 0s 795us/sample - loss: 0.4639 - acc: 0.7492\n",
      "Epoch 17/100\n",
      "303/303 [==============================] - 0s 788us/sample - loss: 0.5309 - acc: 0.7525\n",
      "Epoch 18/100\n",
      "303/303 [==============================] - 0s 800us/sample - loss: 0.4451 - acc: 0.7822\n",
      "Epoch 19/100\n",
      "303/303 [==============================] - 0s 836us/sample - loss: 0.4653 - acc: 0.7690\n",
      "Epoch 20/100\n",
      "303/303 [==============================] - 0s 847us/sample - loss: 0.4328 - acc: 0.7987\n",
      "Epoch 21/100\n",
      "303/303 [==============================] - 0s 853us/sample - loss: 0.4999 - acc: 0.7756\n",
      "Epoch 22/100\n",
      "303/303 [==============================] - 0s 815us/sample - loss: 0.4290 - acc: 0.7888\n",
      "Epoch 23/100\n",
      "303/303 [==============================] - 0s 875us/sample - loss: 0.4752 - acc: 0.7426\n",
      "Epoch 24/100\n",
      "303/303 [==============================] - 0s 825us/sample - loss: 0.4664 - acc: 0.7624\n",
      "Epoch 25/100\n",
      "303/303 [==============================] - 0s 874us/sample - loss: 0.4606 - acc: 0.7789\n",
      "Epoch 26/100\n",
      "303/303 [==============================] - 0s 883us/sample - loss: 0.4144 - acc: 0.8218\n",
      "Epoch 27/100\n",
      "303/303 [==============================] - 0s 838us/sample - loss: 0.4379 - acc: 0.7855\n",
      "Epoch 28/100\n",
      "303/303 [==============================] - 0s 941us/sample - loss: 0.3995 - acc: 0.8086\n",
      "Epoch 29/100\n",
      "303/303 [==============================] - 0s 851us/sample - loss: 0.4230 - acc: 0.7987\n",
      "Epoch 30/100\n",
      "303/303 [==============================] - 0s 849us/sample - loss: 0.4091 - acc: 0.8251\n",
      "Epoch 31/100\n",
      "303/303 [==============================] - 0s 885us/sample - loss: 0.4141 - acc: 0.7954\n",
      "Epoch 32/100\n",
      "303/303 [==============================] - 0s 821us/sample - loss: 0.3879 - acc: 0.8350\n",
      "Epoch 33/100\n",
      "303/303 [==============================] - 0s 808us/sample - loss: 0.4014 - acc: 0.7987\n",
      "Epoch 34/100\n",
      "303/303 [==============================] - 0s 868us/sample - loss: 0.4135 - acc: 0.8152\n",
      "Epoch 35/100\n",
      "303/303 [==============================] - 0s 854us/sample - loss: 0.3835 - acc: 0.8251\n",
      "Epoch 36/100\n",
      "303/303 [==============================] - 0s 873us/sample - loss: 0.4596 - acc: 0.7723\n",
      "Epoch 37/100\n",
      "303/303 [==============================] - 0s 796us/sample - loss: 0.4297 - acc: 0.8152\n",
      "Epoch 38/100\n",
      "303/303 [==============================] - 0s 777us/sample - loss: 0.4022 - acc: 0.8152\n",
      "Epoch 39/100\n",
      "303/303 [==============================] - 0s 766us/sample - loss: 0.4354 - acc: 0.8020\n",
      "Epoch 40/100\n",
      "303/303 [==============================] - 0s 772us/sample - loss: 0.3905 - acc: 0.8152\n",
      "Epoch 41/100\n",
      "303/303 [==============================] - 0s 780us/sample - loss: 0.4525 - acc: 0.7789\n",
      "Epoch 42/100\n",
      "303/303 [==============================] - 0s 797us/sample - loss: 0.3819 - acc: 0.8284\n",
      "Epoch 43/100\n",
      "303/303 [==============================] - 0s 776us/sample - loss: 0.4038 - acc: 0.8152\n",
      "Epoch 44/100\n",
      "303/303 [==============================] - 0s 730us/sample - loss: 0.4696 - acc: 0.7789\n",
      "Epoch 45/100\n",
      "303/303 [==============================] - 0s 745us/sample - loss: 0.3867 - acc: 0.8218\n",
      "Epoch 46/100\n",
      "303/303 [==============================] - 0s 805us/sample - loss: 0.4076 - acc: 0.8053\n",
      "Epoch 47/100\n",
      "303/303 [==============================] - 0s 787us/sample - loss: 0.4690 - acc: 0.7921\n",
      "Epoch 48/100\n",
      "303/303 [==============================] - 0s 750us/sample - loss: 0.3830 - acc: 0.8152\n",
      "Epoch 49/100\n",
      "303/303 [==============================] - 0s 774us/sample - loss: 0.3746 - acc: 0.8482\n",
      "Epoch 50/100\n",
      "303/303 [==============================] - 0s 769us/sample - loss: 0.4490 - acc: 0.8086\n",
      "Epoch 51/100\n",
      "303/303 [==============================] - 0s 954us/sample - loss: 0.3696 - acc: 0.8284\n",
      "Epoch 52/100\n",
      "303/303 [==============================] - 0s 870us/sample - loss: 0.3750 - acc: 0.8416\n",
      "Epoch 53/100\n",
      "303/303 [==============================] - 0s 1ms/sample - loss: 0.3586 - acc: 0.8350\n",
      "Epoch 54/100\n",
      "303/303 [==============================] - 0s 851us/sample - loss: 0.4198 - acc: 0.8119\n",
      "Epoch 55/100\n",
      "303/303 [==============================] - 0s 771us/sample - loss: 0.4296 - acc: 0.8020\n",
      "Epoch 56/100\n",
      "303/303 [==============================] - 0s 836us/sample - loss: 0.3777 - acc: 0.8350\n",
      "Epoch 57/100\n",
      "303/303 [==============================] - 0s 768us/sample - loss: 0.3649 - acc: 0.8482\n",
      "Epoch 58/100\n",
      "303/303 [==============================] - 0s 765us/sample - loss: 0.4394 - acc: 0.7954\n",
      "Epoch 59/100\n",
      "303/303 [==============================] - 0s 1ms/sample - loss: 0.4351 - acc: 0.8218\n",
      "Epoch 60/100\n",
      "303/303 [==============================] - 0s 774us/sample - loss: 0.4263 - acc: 0.8218\n",
      "Epoch 61/100\n",
      "303/303 [==============================] - 0s 811us/sample - loss: 0.3804 - acc: 0.8053\n",
      "Epoch 62/100\n",
      "303/303 [==============================] - 0s 819us/sample - loss: 0.4632 - acc: 0.7855\n",
      "Epoch 63/100\n",
      "303/303 [==============================] - 0s 884us/sample - loss: 0.4303 - acc: 0.8020\n",
      "Epoch 64/100\n",
      "303/303 [==============================] - 0s 778us/sample - loss: 0.4041 - acc: 0.8185\n",
      "Epoch 65/100\n",
      "303/303 [==============================] - 0s 846us/sample - loss: 0.4172 - acc: 0.7822\n",
      "Epoch 66/100\n",
      "303/303 [==============================] - 0s 865us/sample - loss: 0.3776 - acc: 0.8284\n",
      "Epoch 67/100\n",
      "303/303 [==============================] - 0s 790us/sample - loss: 0.3733 - acc: 0.8416\n",
      "Epoch 68/100\n",
      "303/303 [==============================] - 0s 853us/sample - loss: 0.4540 - acc: 0.7855\n",
      "Epoch 69/100\n",
      "303/303 [==============================] - 0s 767us/sample - loss: 0.4040 - acc: 0.8119\n",
      "Epoch 70/100\n",
      "303/303 [==============================] - 0s 706us/sample - loss: 0.4132 - acc: 0.8020\n",
      "Epoch 71/100\n",
      "303/303 [==============================] - 0s 725us/sample - loss: 0.3836 - acc: 0.8218\n",
      "Epoch 72/100\n",
      "303/303 [==============================] - 0s 720us/sample - loss: 0.4359 - acc: 0.7888\n",
      "Epoch 73/100\n",
      "303/303 [==============================] - 0s 774us/sample - loss: 0.3935 - acc: 0.8020\n",
      "Epoch 74/100\n",
      "303/303 [==============================] - 0s 773us/sample - loss: 0.3893 - acc: 0.8317\n",
      "Epoch 75/100\n",
      "303/303 [==============================] - 0s 773us/sample - loss: 0.3686 - acc: 0.8416\n",
      "Epoch 76/100\n",
      "303/303 [==============================] - 0s 837us/sample - loss: 0.3475 - acc: 0.8482\n",
      "Epoch 77/100\n",
      "303/303 [==============================] - 0s 772us/sample - loss: 0.4125 - acc: 0.8152\n",
      "Epoch 78/100\n",
      "303/303 [==============================] - 0s 782us/sample - loss: 0.3813 - acc: 0.8251\n",
      "Epoch 79/100\n",
      "303/303 [==============================] - 0s 754us/sample - loss: 0.3828 - acc: 0.8251\n",
      "Epoch 80/100\n",
      "303/303 [==============================] - 0s 760us/sample - loss: 0.3690 - acc: 0.8086\n",
      "Epoch 81/100\n",
      "303/303 [==============================] - 0s 793us/sample - loss: 0.4491 - acc: 0.8053\n",
      "Epoch 82/100\n"
     ]
    },
    {
     "name": "stdout",
     "output_type": "stream",
     "text": [
      "303/303 [==============================] - 0s 815us/sample - loss: 0.3868 - acc: 0.8218\n",
      "Epoch 83/100\n",
      "303/303 [==============================] - 0s 747us/sample - loss: 0.4195 - acc: 0.8020\n",
      "Epoch 84/100\n",
      "303/303 [==============================] - 0s 731us/sample - loss: 0.3849 - acc: 0.8350\n",
      "Epoch 85/100\n",
      "303/303 [==============================] - 0s 764us/sample - loss: 0.4436 - acc: 0.8152\n",
      "Epoch 86/100\n",
      "303/303 [==============================] - 0s 779us/sample - loss: 0.4494 - acc: 0.7822\n",
      "Epoch 87/100\n",
      "303/303 [==============================] - 0s 762us/sample - loss: 0.3762 - acc: 0.8350\n",
      "Epoch 88/100\n",
      "303/303 [==============================] - 0s 720us/sample - loss: 0.4026 - acc: 0.8119\n",
      "Epoch 89/100\n",
      "270/303 [=========================>....] - ETA: 0s - loss: 0.3743 - acc: 0.8519Accuracy exceeded 85%\n",
      "303/303 [==============================] - 0s 784us/sample - loss: 0.3601 - acc: 0.8515\n"
     ]
    },
    {
     "data": {
      "text/plain": [
       "<tensorflow.python.keras.callbacks.History at 0x1a4963de10>"
      ]
     },
     "execution_count": 33,
     "metadata": {},
     "output_type": "execute_result"
    }
   ],
   "source": [
    "class HeartModel(tf.keras.Model):\n",
    "    def __init__(self):\n",
    "        super(tf.keras.Model).__init__()\n",
    "        self.dense1 = Dense(13, activation='relu')\n",
    "        self.dense2 = Dense(13, activation='relu')\n",
    "        self.dense3 = Dense(13, activation='relu')\n",
    "        self.dense4 = Dense(1, activation='sigmoid')\n",
    "   \n",
    "    def call(self,inputs):\n",
    "        x = self.dense1(inputs)\n",
    "        x = self.dense2(x)\n",
    "        x = self.dense3(x)\n",
    "        return self.dense4(x)\n",
    "    \n",
    "def subclassed_heart_model(model_class):\n",
    "    inputs = tf.keras.Input(shape=(13,))\n",
    "    mymodel = MyModel()\n",
    "    outputs = mymodel.call(inputs)\n",
    "    # Keras Model.\n",
    "    model = tf.keras.Model(inputs,outputs)\n",
    "    # Compile.\n",
    "    model.compile(optimizer='adam',loss='binary_crossentropy',metrics=['acc'])\n",
    "    return model\n",
    "\n",
    "model = subclassed_heart_model(HeartModel)\n",
    "model.fit(heart_X,heart_Y,epochs=100,batch_size=5,callbacks=[model_callbacks])"
   ]
  },
  {
   "cell_type": "markdown",
   "metadata": {},
   "source": [
    "## K-Fold Cross Validation"
   ]
  },
  {
   "cell_type": "code",
   "execution_count": 34,
   "metadata": {},
   "outputs": [
    {
     "name": "stdout",
     "output_type": "stream",
     "text": [
      "Number of Samples: 30\n",
      "K-Fold #0\n",
      "K-Fold #1\n",
      "K-Fold #2\n",
      "K-Fold #3\n",
      "K-Fold #4\n",
      "K-Fold #5\n",
      "K-Fold #6\n",
      "K-Fold #7\n",
      "K-Fold #8\n",
      "K-Fold #9\n"
     ]
    }
   ],
   "source": [
    "k = 10\n",
    "number_of_samples = len(heart_X) // k\n",
    "number_of_epochs = 100\n",
    "print(\"Number of Samples: {}\".format(number_of_samples))\n",
    "#\n",
    "np.random.shuffle(heart_X)\n",
    "#\n",
    "validation_scores = []\n",
    "# heart_X[0]\n",
    "#\n",
    "for i in range(k):\n",
    "    print(f\"K-Fold #{str(i)}\")\n",
    "    val_data = heart_X[i * number_of_samples:(i+1)*number_of_samples]\n",
    "    val_targets = heart_Y[i * number_of_samples:(i+1)*number_of_samples]\n",
    "    #\n",
    "    partial_dataset_train = np.concatenate([heart_X[:i*number_of_samples],heart_X[(i+1)*number_of_samples:]])\n",
    "    partial_dataset_target = np.concatenate([heart_Y[:i*number_of_samples],heart_Y[(i+1)*number_of_samples:]])\n",
    "    #\n",
    "    model = subclassed_heart_model(HeartModel)\n",
    "    model.fit(partial_dataset_train,partial_dataset_target,epochs=number_of_epochs,batch_size=1,verbose=0)\n",
    "    # Evaluate.\n",
    "    val_mse, val_mae = model.evaluate(val_data,val_targets,verbose=0)\n",
    "    validation_scores.append(val_mae)"
   ]
  },
  {
   "cell_type": "code",
   "execution_count": 35,
   "metadata": {},
   "outputs": [
    {
     "name": "stdout",
     "output_type": "stream",
     "text": [
      "K-Fold Mean Accuracy:21.33333384990692 and Standard Deviation: 18.390819430351257\n"
     ]
    }
   ],
   "source": [
    "print(f\"K-Fold Mean Accuracy:{str(np.mean(validation_scores)*100)} and Standard Deviation: {str(np.std(validation_scores)*100)}\")"
   ]
  },
  {
   "cell_type": "code",
   "execution_count": 36,
   "metadata": {},
   "outputs": [
    {
     "data": {
      "text/plain": [
       "array([ 35.,   1.,   1., 122., 192.,   0.,   1., 174.,   0.,   0.,   2.,\n",
       "         0.,   2.])"
      ]
     },
     "execution_count": 36,
     "metadata": {},
     "output_type": "execute_result"
    }
   ],
   "source": [
    "heart_X[0]"
   ]
  },
  {
   "cell_type": "code",
   "execution_count": null,
   "metadata": {},
   "outputs": [],
   "source": []
  }
 ],
 "metadata": {
  "kernelspec": {
   "display_name": "Python 3",
   "language": "python",
   "name": "python3"
  },
  "language_info": {
   "codemirror_mode": {
    "name": "ipython",
    "version": 3
   },
   "file_extension": ".py",
   "mimetype": "text/x-python",
   "name": "python",
   "nbconvert_exporter": "python",
   "pygments_lexer": "ipython3",
   "version": "3.7.5"
  }
 },
 "nbformat": 4,
 "nbformat_minor": 2
}
