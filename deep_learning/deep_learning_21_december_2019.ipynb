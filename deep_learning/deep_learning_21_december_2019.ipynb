{
 "cells": [
  {
   "cell_type": "code",
   "execution_count": 1,
   "metadata": {},
   "outputs": [],
   "source": [
    "import tensorflow as tf\n",
    "from tensorflow.keras.datasets import imdb\n",
    "from tensorflow.keras import models\n",
    "from tensorflow.keras import layers\n",
    "from tensorflow.keras import optimizers\n",
    "from tensorflow.keras import losses\n",
    "from tensorflow.keras import metrics\n",
    "import numpy as np\n",
    "import matplotlib.pyplot as plt"
   ]
  },
  {
   "cell_type": "code",
   "execution_count": 2,
   "metadata": {},
   "outputs": [],
   "source": [
    "(train_data, train_labels), (test_data, test_labels) = imdb.load_data(num_words=10000)"
   ]
  },
  {
   "cell_type": "code",
   "execution_count": 3,
   "metadata": {},
   "outputs": [
    {
     "data": {
      "text/plain": [
       "[1,\n",
       " 14,\n",
       " 22,\n",
       " 16,\n",
       " 43,\n",
       " 530,\n",
       " 973,\n",
       " 1622,\n",
       " 1385,\n",
       " 65,\n",
       " 458,\n",
       " 4468,\n",
       " 66,\n",
       " 3941,\n",
       " 4,\n",
       " 173,\n",
       " 36,\n",
       " 256,\n",
       " 5,\n",
       " 25,\n",
       " 100,\n",
       " 43,\n",
       " 838,\n",
       " 112,\n",
       " 50,\n",
       " 670,\n",
       " 2,\n",
       " 9,\n",
       " 35,\n",
       " 480,\n",
       " 284,\n",
       " 5,\n",
       " 150,\n",
       " 4,\n",
       " 172,\n",
       " 112,\n",
       " 167,\n",
       " 2,\n",
       " 336,\n",
       " 385,\n",
       " 39,\n",
       " 4,\n",
       " 172,\n",
       " 4536,\n",
       " 1111,\n",
       " 17,\n",
       " 546,\n",
       " 38,\n",
       " 13,\n",
       " 447,\n",
       " 4,\n",
       " 192,\n",
       " 50,\n",
       " 16,\n",
       " 6,\n",
       " 147,\n",
       " 2025,\n",
       " 19,\n",
       " 14,\n",
       " 22,\n",
       " 4,\n",
       " 1920,\n",
       " 4613,\n",
       " 469,\n",
       " 4,\n",
       " 22,\n",
       " 71,\n",
       " 87,\n",
       " 12,\n",
       " 16,\n",
       " 43,\n",
       " 530,\n",
       " 38,\n",
       " 76,\n",
       " 15,\n",
       " 13,\n",
       " 1247,\n",
       " 4,\n",
       " 22,\n",
       " 17,\n",
       " 515,\n",
       " 17,\n",
       " 12,\n",
       " 16,\n",
       " 626,\n",
       " 18,\n",
       " 2,\n",
       " 5,\n",
       " 62,\n",
       " 386,\n",
       " 12,\n",
       " 8,\n",
       " 316,\n",
       " 8,\n",
       " 106,\n",
       " 5,\n",
       " 4,\n",
       " 2223,\n",
       " 5244,\n",
       " 16,\n",
       " 480,\n",
       " 66,\n",
       " 3785,\n",
       " 33,\n",
       " 4,\n",
       " 130,\n",
       " 12,\n",
       " 16,\n",
       " 38,\n",
       " 619,\n",
       " 5,\n",
       " 25,\n",
       " 124,\n",
       " 51,\n",
       " 36,\n",
       " 135,\n",
       " 48,\n",
       " 25,\n",
       " 1415,\n",
       " 33,\n",
       " 6,\n",
       " 22,\n",
       " 12,\n",
       " 215,\n",
       " 28,\n",
       " 77,\n",
       " 52,\n",
       " 5,\n",
       " 14,\n",
       " 407,\n",
       " 16,\n",
       " 82,\n",
       " 2,\n",
       " 8,\n",
       " 4,\n",
       " 107,\n",
       " 117,\n",
       " 5952,\n",
       " 15,\n",
       " 256,\n",
       " 4,\n",
       " 2,\n",
       " 7,\n",
       " 3766,\n",
       " 5,\n",
       " 723,\n",
       " 36,\n",
       " 71,\n",
       " 43,\n",
       " 530,\n",
       " 476,\n",
       " 26,\n",
       " 400,\n",
       " 317,\n",
       " 46,\n",
       " 7,\n",
       " 4,\n",
       " 2,\n",
       " 1029,\n",
       " 13,\n",
       " 104,\n",
       " 88,\n",
       " 4,\n",
       " 381,\n",
       " 15,\n",
       " 297,\n",
       " 98,\n",
       " 32,\n",
       " 2071,\n",
       " 56,\n",
       " 26,\n",
       " 141,\n",
       " 6,\n",
       " 194,\n",
       " 7486,\n",
       " 18,\n",
       " 4,\n",
       " 226,\n",
       " 22,\n",
       " 21,\n",
       " 134,\n",
       " 476,\n",
       " 26,\n",
       " 480,\n",
       " 5,\n",
       " 144,\n",
       " 30,\n",
       " 5535,\n",
       " 18,\n",
       " 51,\n",
       " 36,\n",
       " 28,\n",
       " 224,\n",
       " 92,\n",
       " 25,\n",
       " 104,\n",
       " 4,\n",
       " 226,\n",
       " 65,\n",
       " 16,\n",
       " 38,\n",
       " 1334,\n",
       " 88,\n",
       " 12,\n",
       " 16,\n",
       " 283,\n",
       " 5,\n",
       " 16,\n",
       " 4472,\n",
       " 113,\n",
       " 103,\n",
       " 32,\n",
       " 15,\n",
       " 16,\n",
       " 5345,\n",
       " 19,\n",
       " 178,\n",
       " 32]"
      ]
     },
     "execution_count": 3,
     "metadata": {},
     "output_type": "execute_result"
    }
   ],
   "source": [
    "train_data[0] #Single review."
   ]
  },
  {
   "cell_type": "code",
   "execution_count": 4,
   "metadata": {},
   "outputs": [],
   "source": [
    "def vectorize_sequences(sequences, dimension=10000):\n",
    "    results = np.zeros((len(sequences), dimension))\n",
    "    for i, sequence in enumerate(sequences):\n",
    "        results[i, sequence] = 1.\n",
    "    return results\n",
    "\n",
    "x_train = vectorize_sequences(train_data)\n",
    "x_test = vectorize_sequences(test_data)"
   ]
  },
  {
   "cell_type": "code",
   "execution_count": 5,
   "metadata": {},
   "outputs": [],
   "source": [
    "# You should also vectorize your labels, which is straightforward\n",
    "y_train = np.asarray(train_labels).astype('float32')\n",
    "y_test = np.asarray(test_labels).astype('float32')"
   ]
  },
  {
   "cell_type": "code",
   "execution_count": 6,
   "metadata": {},
   "outputs": [
    {
     "name": "stdout",
     "output_type": "stream",
     "text": [
      "WARNING:tensorflow:From /opt/anaconda3/envs/tf/lib/python3.7/site-packages/tensorflow_core/python/ops/resource_variable_ops.py:1630: calling BaseResourceVariable.__init__ (from tensorflow.python.ops.resource_variable_ops) with constraint is deprecated and will be removed in a future version.\n",
      "Instructions for updating:\n",
      "If using Keras pass *_constraint arguments to layers.\n"
     ]
    }
   ],
   "source": [
    "model = models.Sequential()\n",
    "model.add(layers.Dense(16, activation='relu', input_shape=(10000,)))\n",
    "model.add(layers.Dense(16, activation='relu'))\n",
    "model.add(layers.Dense(1, activation='sigmoid'))"
   ]
  },
  {
   "cell_type": "markdown",
   "metadata": {},
   "source": [
    "Validation because we don't want to expose our test data, until knowing that our model will behave properly."
   ]
  },
  {
   "cell_type": "code",
   "execution_count": 7,
   "metadata": {},
   "outputs": [
    {
     "name": "stdout",
     "output_type": "stream",
     "text": [
      "WARNING:tensorflow:From /opt/anaconda3/envs/tf/lib/python3.7/site-packages/tensorflow_core/python/ops/nn_impl.py:183: where (from tensorflow.python.ops.array_ops) is deprecated and will be removed in a future version.\n",
      "Instructions for updating:\n",
      "Use tf.where in 2.0, which has the same broadcast rule as np.where\n",
      "Train on 15000 samples, validate on 10000 samples\n",
      "Epoch 1/10\n",
      "15000/15000 [==============================] - 2s 163us/sample - loss: 0.5305 - acc: 0.7875 - val_loss: 0.4076 - val_acc: 0.8702\n",
      "Epoch 2/10\n",
      "15000/15000 [==============================] - 1s 85us/sample - loss: 0.3225 - acc: 0.9032 - val_loss: 0.3237 - val_acc: 0.8781\n",
      "Epoch 3/10\n",
      "15000/15000 [==============================] - 1s 87us/sample - loss: 0.2351 - acc: 0.9246 - val_loss: 0.2811 - val_acc: 0.8934\n",
      "Epoch 4/10\n",
      "15000/15000 [==============================] - 1s 85us/sample - loss: 0.1856 - acc: 0.9391 - val_loss: 0.2773 - val_acc: 0.8883\n",
      "Epoch 5/10\n",
      "15000/15000 [==============================] - 1s 84us/sample - loss: 0.1485 - acc: 0.9535 - val_loss: 0.3191 - val_acc: 0.8747\n",
      "Epoch 6/10\n",
      "15000/15000 [==============================] - 1s 85us/sample - loss: 0.1242 - acc: 0.9627 - val_loss: 0.2888 - val_acc: 0.8864\n",
      "Epoch 7/10\n",
      "15000/15000 [==============================] - 1s 87us/sample - loss: 0.1048 - acc: 0.9677 - val_loss: 0.3043 - val_acc: 0.8844\n",
      "Epoch 8/10\n",
      "15000/15000 [==============================] - 1s 92us/sample - loss: 0.0851 - acc: 0.9769 - val_loss: 0.3214 - val_acc: 0.8835\n",
      "Epoch 9/10\n",
      "15000/15000 [==============================] - 1s 89us/sample - loss: 0.0716 - acc: 0.9809 - val_loss: 0.3532 - val_acc: 0.8801\n",
      "Epoch 10/10\n",
      "15000/15000 [==============================] - 1s 93us/sample - loss: 0.0600 - acc: 0.9849 - val_loss: 0.3655 - val_acc: 0.8778\n"
     ]
    }
   ],
   "source": [
    "x_val = x_train[:10000]\n",
    "partial_x_train = x_train[10000:]\n",
    "y_val = y_train[:10000]\n",
    "partial_y_train = y_train[10000:]\n",
    "model.compile(optimizer='rmsprop', loss='binary_crossentropy',metrics=['acc'])\n",
    "#\n",
    "history = model.fit(partial_x_train, partial_y_train,epochs=10, batch_size=512, validation_data=(x_val, y_val))"
   ]
  },
  {
   "cell_type": "code",
   "execution_count": 8,
   "metadata": {},
   "outputs": [
    {
     "data": {
      "text/plain": [
       "{'loss': [0.5304885532220205,\n",
       "  0.3225056706428528,\n",
       "  0.23512190188566845,\n",
       "  0.18559109115997952,\n",
       "  0.1484595154762268,\n",
       "  0.12420303327639898,\n",
       "  0.10480498770872752,\n",
       "  0.08513182152509689,\n",
       "  0.07156576076745987,\n",
       "  0.0600485995610555],\n",
       " 'acc': [0.78746665,\n",
       "  0.9032,\n",
       "  0.9246,\n",
       "  0.93906665,\n",
       "  0.95353335,\n",
       "  0.9626667,\n",
       "  0.9676667,\n",
       "  0.97693336,\n",
       "  0.9809333,\n",
       "  0.9848667],\n",
       " 'val_loss': [0.40755179958343507,\n",
       "  0.3236513400554657,\n",
       "  0.28106950299739836,\n",
       "  0.27732420811653136,\n",
       "  0.3190707922458649,\n",
       "  0.28883121428489683,\n",
       "  0.30429794397354126,\n",
       "  0.32137285480499267,\n",
       "  0.35324471955299375,\n",
       "  0.36550308322906494],\n",
       " 'val_acc': [0.8702,\n",
       "  0.8781,\n",
       "  0.8934,\n",
       "  0.8883,\n",
       "  0.8747,\n",
       "  0.8864,\n",
       "  0.8844,\n",
       "  0.8835,\n",
       "  0.8801,\n",
       "  0.8778]}"
      ]
     },
     "execution_count": 8,
     "metadata": {},
     "output_type": "execute_result"
    }
   ],
   "source": [
    "history_dict = history.history \n",
    "history_dict"
   ]
  },
  {
   "cell_type": "code",
   "execution_count": 9,
   "metadata": {},
   "outputs": [],
   "source": [
    "history_dict = history.history\n",
    "acc = history_dict['acc']\n",
    "loss_values = history_dict['loss']\n",
    "val_loss_values = history_dict['val_loss']\n",
    "epochs = range(1, len(acc) + 1)\n",
    "# Drawing a plot."
   ]
  },
  {
   "cell_type": "code",
   "execution_count": 10,
   "metadata": {},
   "outputs": [],
   "source": [
    "# Homework: Examples upto 3.5.8 topic."
   ]
  },
  {
   "cell_type": "code",
   "execution_count": 11,
   "metadata": {},
   "outputs": [
    {
     "name": "stdout",
     "output_type": "stream",
     "text": [
      "hello\n"
     ]
    }
   ],
   "source": [
    "print(\"hello\")"
   ]
  },
  {
   "cell_type": "code",
   "execution_count": 14,
   "metadata": {},
   "outputs": [
    {
     "name": "stdout",
     "output_type": "stream",
     "text": [
      "Train on 15000 samples, validate on 10000 samples\n",
      "Epoch 1/10\n",
      "15000/15000 [==============================] - 1s 82us/sample - loss: 0.0073 - acc: 0.9989 - val_loss: 0.7081 - val_acc: 0.8647\n",
      "Epoch 2/10\n",
      "15000/15000 [==============================] - 1s 81us/sample - loss: 0.0029 - acc: 0.9999 - val_loss: 0.7447 - val_acc: 0.8602\n",
      "Epoch 3/10\n",
      "15000/15000 [==============================] - 1s 82us/sample - loss: 0.0066 - acc: 0.9986 - val_loss: 0.7815 - val_acc: 0.8644\n",
      "Epoch 4/10\n",
      "15000/15000 [==============================] - 1s 82us/sample - loss: 0.0017 - acc: 0.9999 - val_loss: 0.8021 - val_acc: 0.8641\n",
      "Epoch 5/10\n",
      "15000/15000 [==============================] - 1s 83us/sample - loss: 0.0036 - acc: 0.9992 - val_loss: 0.8399 - val_acc: 0.8610\n",
      "Epoch 6/10\n",
      "15000/15000 [==============================] - 1s 84us/sample - loss: 0.0010 - acc: 0.9999 - val_loss: 0.8636 - val_acc: 0.8613\n",
      "Epoch 7/10\n",
      "15000/15000 [==============================] - 1s 85us/sample - loss: 8.6944e-04 - acc: 1.0000 - val_loss: 1.0193 - val_acc: 0.8580\n",
      "Epoch 8/10\n",
      "15000/15000 [==============================] - 1s 87us/sample - loss: 0.0013 - acc: 0.9999 - val_loss: 0.9362 - val_acc: 0.8607\n",
      "Epoch 9/10\n",
      "15000/15000 [==============================] - 1s 93us/sample - loss: 0.0037 - acc: 0.9990 - val_loss: 0.9853 - val_acc: 0.8601\n",
      "Epoch 10/10\n",
      "15000/15000 [==============================] - 1s 92us/sample - loss: 3.5871e-04 - acc: 1.0000 - val_loss: 0.9975 - val_acc: 0.8585\n"
     ]
    }
   ],
   "source": [
    "# With a smaller model.\n",
    "def smaller_model():\n",
    "    model = models.Sequential()\n",
    "    model.add(layers.Dense(4, activation='relu', input_shape=(10000,)))\n",
    "    model.add(layers.Dense(4, activation='relu'))\n",
    "    model.add(layers.Dense(1, activation='sigmoid'))\n",
    "    # Compile.\n",
    "    model.compile(optimizer='rmsprop', loss='binary_crossentropy',metrics=['acc'])\n",
    "    return model\n",
    "\n",
    "#\n",
    "history = model.fit(partial_x_train, partial_y_train,epochs=10, batch_size=512, validation_data=(x_val, y_val))"
   ]
  },
  {
   "cell_type": "code",
   "execution_count": 15,
   "metadata": {},
   "outputs": [
    {
     "data": {
      "image/png": "[encoded data removed]",
      "text/plain": [
       "<Figure size 432x288 with 1 Axes>"
      ]
     },
     "metadata": {
      "needs_background": "light"
     },
     "output_type": "display_data"
    }
   ],
   "source": [
    "history_dict = history.history\n",
    "loss_values = history_dict['loss']\n",
    "val_loss_values = history_dict['val_loss']\n",
    "epochs = range(1, len(acc) + 1)\n",
    "plt.plot(epochs, loss_values, 'bo', label='Training loss')\n",
    "plt.plot(epochs, val_loss_values, 'b', label='Validation loss')\n",
    "plt.title('Training and validation loss')\n",
    "plt.xlabel('Epochs')\n",
    "plt.ylabel('Loss')\n",
    "plt.legend()\n",
    "plt.show()"
   ]
  },
  {
   "cell_type": "code",
   "execution_count": 17,
   "metadata": {},
   "outputs": [
    {
     "data": {
      "image/png": "[encoded data removed]",
      "text/plain": [
       "<Figure size 432x288 with 1 Axes>"
      ]
     },
     "metadata": {
      "needs_background": "light"
     },
     "output_type": "display_data"
    }
   ],
   "source": [
    "# Training accuracy and Validation accuracy.\n",
    "plt.clf()\n",
    "acc_values = history_dict['acc']\n",
    "val_acc_values = history_dict['val_acc']\n",
    "plt.plot(epochs, acc_values, 'bo', label='Training acc')\n",
    "plt.plot(epochs, val_acc_values, 'b', label='Validation acc')\n",
    "plt.title('Training and validation accuracy')\n",
    "plt.xlabel('Epochs')\n",
    "plt.ylabel('Loss')\n",
    "plt.legend()\n",
    "plt.show()"
   ]
  },
  {
   "cell_type": "code",
   "execution_count": 18,
   "metadata": {},
   "outputs": [
    {
     "name": "stdout",
     "output_type": "stream",
     "text": [
      "Train on 15000 samples, validate on 10000 samples\n",
      "Epoch 1/10\n",
      "15000/15000 [==============================] - 1s 89us/sample - loss: 3.0892e-04 - acc: 1.0000 - val_loss: 1.0262 - val_acc: 0.8576\n",
      "Epoch 2/10\n",
      "15000/15000 [==============================] - 1s 85us/sample - loss: 4.7627e-04 - acc: 0.9999 - val_loss: 1.0940 - val_acc: 0.8547\n",
      "Epoch 3/10\n",
      "15000/15000 [==============================] - 1s 88us/sample - loss: 1.9893e-04 - acc: 1.0000 - val_loss: 1.1101 - val_acc: 0.8586\n",
      "Epoch 4/10\n",
      "15000/15000 [==============================] - 1s 85us/sample - loss: 1.4908e-04 - acc: 1.0000 - val_loss: 1.1547 - val_acc: 0.8574\n",
      "Epoch 5/10\n",
      "15000/15000 [==============================] - 1s 84us/sample - loss: 0.0013 - acc: 0.9997 - val_loss: 1.2069 - val_acc: 0.8558\n",
      "Epoch 6/10\n",
      "15000/15000 [==============================] - 1s 87us/sample - loss: 7.9638e-05 - acc: 1.0000 - val_loss: 1.2195 - val_acc: 0.8554\n",
      "Epoch 7/10\n",
      "15000/15000 [==============================] - 1s 94us/sample - loss: 6.7822e-05 - acc: 1.0000 - val_loss: 1.2482 - val_acc: 0.8559\n",
      "Epoch 8/10\n",
      "15000/15000 [==============================] - 1s 91us/sample - loss: 0.0019 - acc: 0.9994 - val_loss: 1.3062 - val_acc: 0.8562\n",
      "Epoch 9/10\n",
      "15000/15000 [==============================] - 1s 89us/sample - loss: 5.2804e-05 - acc: 1.0000 - val_loss: 1.2980 - val_acc: 0.8558\n",
      "Epoch 10/10\n",
      "15000/15000 [==============================] - 1s 88us/sample - loss: 4.2320e-05 - acc: 1.0000 - val_loss: 1.3114 - val_acc: 0.8541\n"
     ]
    }
   ],
   "source": [
    "# With higher model capacity.\n",
    "def larger_model():\n",
    "    model = models.Sequential()\n",
    "    model.add(layers.Dense(512, activation='relu', input_shape=(10000,)))\n",
    "    model.add(layers.Dense(512, activation='relu'))\n",
    "    model.add(layers.Dense(1, activation='sigmoid'))\n",
    "    # Compile.\n",
    "    model.compile(optimizer='rmsprop', loss='binary_crossentropy',metrics=['acc'])\n",
    "    return model\n",
    "\n",
    "history = model.fit(partial_x_train, partial_y_train,epochs=10, batch_size=512, validation_data=(x_val, y_val))"
   ]
  },
  {
   "cell_type": "code",
   "execution_count": 19,
   "metadata": {},
   "outputs": [
    {
     "data": {
      "image/png": "[encoded data removed]",
      "text/plain": [
       "<Figure size 432x288 with 1 Axes>"
      ]
     },
     "metadata": {
      "needs_background": "light"
     },
     "output_type": "display_data"
    }
   ],
   "source": [
    "# Training loss and Validation loss.\n",
    "plt.clf()\n",
    "history_dict = history.history\n",
    "loss_values = history_dict['loss']\n",
    "val_loss_values = history_dict['val_loss']\n",
    "epochs = range(1, len(acc) + 1)\n",
    "plt.plot(epochs, loss_values, 'bo', label='Training loss')\n",
    "plt.plot(epochs, val_loss_values, 'b', label='Validation loss')\n",
    "plt.title('Training and validation loss')\n",
    "plt.xlabel('Epochs')\n",
    "plt.ylabel('Loss')\n",
    "plt.legend()\n",
    "plt.show()"
   ]
  },
  {
   "cell_type": "code",
   "execution_count": 20,
   "metadata": {},
   "outputs": [
    {
     "data": {
      "image/png": "[encoded data removed]",
      "text/plain": [
       "<Figure size 432x288 with 1 Axes>"
      ]
     },
     "metadata": {
      "needs_background": "light"
     },
     "output_type": "display_data"
    }
   ],
   "source": [
    "# Training accuracy and Validation accuracy.\n",
    "plt.clf()\n",
    "acc_values = history_dict['acc']\n",
    "val_acc_values = history_dict['val_acc']\n",
    "plt.plot(epochs, acc_values, 'bo', label='Training acc')\n",
    "plt.plot(epochs, val_acc_values, 'b', label='Validation acc')\n",
    "plt.title('Training and validation accuracy')\n",
    "plt.xlabel('Epochs')\n",
    "plt.ylabel('Loss')\n",
    "plt.legend()\n",
    "plt.show()"
   ]
  },
  {
   "cell_type": "code",
   "execution_count": null,
   "metadata": {},
   "outputs": [],
   "source": []
  }
 ],
 "metadata": {
  "kernelspec": {
   "display_name": "Python 3",
   "language": "python",
   "name": "python3"
  },
  "language_info": {
   "codemirror_mode": {
    "name": "ipython",
    "version": 3
   },
   "file_extension": ".py",
   "mimetype": "text/x-python",
   "name": "python",
   "nbconvert_exporter": "python",
   "pygments_lexer": "ipython3",
   "version": "3.7.5"
  }
 },
 "nbformat": 4,
 "nbformat_minor": 2
}
