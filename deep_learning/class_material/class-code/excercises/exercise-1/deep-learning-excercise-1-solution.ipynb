{
 "cells": [
  {
   "cell_type": "code",
   "execution_count": 2,
   "metadata": {},
   "outputs": [],
   "source": [
    "import tensorflow as tf\n",
    "from tensorflow.keras import models, layers\n",
    "from tensorflow.keras.utils import to_categorical"
   ]
  },
  {
   "cell_type": "code",
   "execution_count": 3,
   "metadata": {},
   "outputs": [],
   "source": [
    "threshold_accuracy = 0.99\n",
    "class Model_Config(tf.keras.callbacks.Callback):\n",
    "    def on_epoch_end(self,epoch,logs:{}):\n",
    "        if logs.get(\"acc\") >= threshold_accuracy:\n",
    "            print(\"\\nReached 99% accuracy so cancelling training!\\n\")\n",
    "            self.model.stop_training = True\n",
    "model_callbacks = Model_Config()            "
   ]
  },
  {
   "cell_type": "code",
   "execution_count": 4,
   "metadata": {},
   "outputs": [
    {
     "name": "stdout",
     "output_type": "stream",
     "text": [
      "WARNING:tensorflow:From /opt/anaconda3/envs/tf/lib/python3.7/site-packages/tensorflow_core/python/ops/resource_variable_ops.py:1630: calling BaseResourceVariable.__init__ (from tensorflow.python.ops.resource_variable_ops) with constraint is deprecated and will be removed in a future version.\n",
      "Instructions for updating:\n",
      "If using Keras pass *_constraint arguments to layers.\n",
      "Train on 60000 samples\n",
      "Epoch 1/10\n",
      "60000/60000 [==============================] - 5s 89us/sample - loss: 0.2660 - acc: 0.9237\n",
      "Epoch 2/10\n",
      "60000/60000 [==============================] - 5s 86us/sample - loss: 0.1069 - acc: 0.9685\n",
      "Epoch 3/10\n",
      "60000/60000 [==============================] - 5s 86us/sample - loss: 0.0708 - acc: 0.9791\n",
      "Epoch 4/10\n",
      "60000/60000 [==============================] - 5s 88us/sample - loss: 0.0506 - acc: 0.9846\n",
      "Epoch 5/10\n",
      "60000/60000 [==============================] - 5s 88us/sample - loss: 0.0358 - acc: 0.9898\n",
      "Epoch 6/10\n",
      "59776/60000 [============================>.] - ETA: 0s - loss: 0.0274 - acc: 0.9924\n",
      "Reached 99% accuracy so cancelling training!\n",
      "\n",
      "60000/60000 [==============================] - 5s 88us/sample - loss: 0.0274 - acc: 0.9924\n"
     ]
    },
    {
     "data": {
      "text/plain": [
       "<tensorflow.python.keras.callbacks.History at 0x64617a810>"
      ]
     },
     "execution_count": 4,
     "metadata": {},
     "output_type": "execute_result"
    }
   ],
   "source": [
    "mnist = tf.keras.datasets.mnist\n",
    "\n",
    "(x_train, y_train),(x_test, y_test) = mnist.load_data()\n",
    "# Preparing data.\n",
    "x_train = x_train.reshape((60000, 28*28))\n",
    "x_train = x_train.astype(\"float32\") / 255.0\n",
    "x_test = x_test.reshape((10000, 28*28))\n",
    "x_test = x_test.astype(\"float32\") / 255.0\n",
    "\n",
    "# Creating and Setting up Model.\n",
    "model = tf.keras.models.Sequential()\n",
    "model.add(layers.Dense(512, activation='relu', input_shape=(28 * 28,)))\n",
    "model.add(layers.Dense(10, activation='softmax'))\n",
    "\n",
    "model.compile(optimizer='adam',\n",
    "              loss='sparse_categorical_crossentropy',\n",
    "              metrics=['accuracy'])\n",
    "#Training model.\n",
    "model.fit(x_train,y_train,epochs=10,batch_size=128,callbacks=[model_callbacks])"
   ]
  },
  {
   "cell_type": "code",
   "execution_count": null,
   "metadata": {},
   "outputs": [],
   "source": []
  }
 ],
 "metadata": {
  "kernelspec": {
   "display_name": "Python 3",
   "language": "python",
   "name": "python3"
  },
  "language_info": {
   "codemirror_mode": {
    "name": "ipython",
    "version": 3
   },
   "file_extension": ".py",
   "mimetype": "text/x-python",
   "name": "python",
   "nbconvert_exporter": "python",
   "pygments_lexer": "ipython3",
   "version": "3.7.5"
  }
 },
 "nbformat": 4,
 "nbformat_minor": 2
}
