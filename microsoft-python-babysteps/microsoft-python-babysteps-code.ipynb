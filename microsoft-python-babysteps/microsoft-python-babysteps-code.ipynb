{
 "cells": [
  {
   "cell_type": "markdown",
   "metadata": {},
   "source": [
    "# Operator and Formating Data Types"
   ]
  },
  {
   "cell_type": "code",
   "execution_count": 3,
   "metadata": {},
   "outputs": [
    {
     "data": {
      "text/plain": [
       "4"
      ]
     },
     "execution_count": 3,
     "metadata": {},
     "output_type": "execute_result"
    }
   ],
   "source": [
    "2 * 2"
   ]
  },
  {
   "cell_type": "markdown",
   "metadata": {},
   "source": [
    "# Formatting Numbers"
   ]
  },
  {
   "cell_type": "code",
   "execution_count": 18,
   "metadata": {},
   "outputs": [
    {
     "name": "stdout",
     "output_type": "stream",
     "text": [
      "I have 6 cats.\n",
      "I have  6 cats.\n",
      "I have 6.000000 cats\n",
      "I have 6.000 cats\n",
      "I have 6.00 cats\n"
     ]
    }
   ],
   "source": [
    "print(\"I have %d cats.\"%6)\n",
    "print(\"I have %2d cats.\"%6)\n",
    "print(\"I have %f cats\" %6)\n",
    "print(\"I have %.3f cats\" %6)\n",
    "print(\"I have %.2f cats\" %6)"
   ]
  },
  {
   "cell_type": "markdown",
   "metadata": {},
   "source": [
    "## Formatting using format()"
   ]
  },
  {
   "cell_type": "code",
   "execution_count": 32,
   "metadata": {},
   "outputs": [
    {
     "name": "stdout",
     "output_type": "stream",
     "text": [
      "I have 5 cats.\n",
      "I have 6.0 cats.\n",
      "I have 6 cats.\n",
      "I have  5 cats.\n",
      "I have 6.000000 cats\n",
      "I have 6.000 cats\n",
      "I have 6.00 cats\n",
      "\n",
      "This article is written in Python\n"
     ]
    }
   ],
   "source": [
    "print(\"I have {} cats.\".format(5))\n",
    "print(\"I have {} cats.\".format(6.00))\n",
    "print(\"I have {} cats.\".format(6))\n",
    "print(\"I have {0:2} cats.\".format(5))\n",
    "print(\"I have {:f} cats\" .format(6))\n",
    "print(\"I have {:.3f} cats\" .format(6))\n",
    "print(\"I have {:.2f} cats\" .format(6))\n",
    "print()\n",
    "# using format option for a \n",
    "# value stored in a variable \n",
    "str = \"This article is written in {}\"\n",
    "print (str.format(\"Python\")) "
   ]
  },
  {
   "attachments": {},
   "cell_type": "markdown",
   "metadata": {},
   "source": [
    "# Excercise\n",
    "Have the user enter the cost of the loan, the interest rate, and the number of years for the loan\n",
    "Calculate monthly payments with the following formula:\n",
    "    1. M = L[i(1+i)n] / [(1+i)n-1]\n",
    "    2. M = monthly payment\n",
    "    3. L = Loan amount \n",
    "    4. i = interest rate (for an interest rate of 5%, i = 0.05)\n",
    "    5. n = Number of years\n"
   ]
  },
  {
   "cell_type": "code",
   "execution_count": 3,
   "metadata": {},
   "outputs": [
    {
     "name": "stdout",
     "output_type": "stream",
     "text": [
      "Enter Loan Amount:22000.0\n",
      "Enter Interest Rate:0.10\n",
      "Enter number of years:4\n"
     ]
    },
    {
     "data": {
      "text/plain": [
       "2933.3333333333335"
      ]
     },
     "execution_count": 3,
     "metadata": {},
     "output_type": "execute_result"
    }
   ],
   "source": [
    "L = float(input(\"Enter Loan Amount:\"))\n",
    "i = float(input(\"Enter Interest Rate:\"))\n",
    "n = float(input(\"Enter number of years:\"))\n",
    "\n",
    "M = L*(i*(1+i)*n) / ((1+i)*(n-1))\n",
    "M"
   ]
  },
  {
   "cell_type": "code",
   "execution_count": null,
   "metadata": {},
   "outputs": [],
   "source": []
  }
 ],
 "metadata": {
  "kernelspec": {
   "display_name": "Python 3",
   "language": "python",
   "name": "python3"
  },
  "language_info": {
   "codemirror_mode": {
    "name": "ipython",
    "version": 3
   },
   "file_extension": ".py",
   "mimetype": "text/x-python",
   "name": "python",
   "nbconvert_exporter": "python",
   "pygments_lexer": "ipython3",
   "version": "3.7.4"
  }
 },
 "nbformat": 4,
 "nbformat_minor": 2
}
