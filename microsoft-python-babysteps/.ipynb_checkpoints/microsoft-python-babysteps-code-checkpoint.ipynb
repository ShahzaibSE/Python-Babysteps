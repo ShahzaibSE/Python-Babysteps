{
 "cells": [
  {
   "cell_type": "markdown",
   "metadata": {},
   "source": [
    "# Operator and Formating Data Types"
   ]
  },
  {
   "cell_type": "code",
   "execution_count": 3,
   "metadata": {},
   "outputs": [
    {
     "data": {
      "text/plain": [
       "4"
      ]
     },
     "execution_count": 3,
     "metadata": {},
     "output_type": "execute_result"
    }
   ],
   "source": [
    "2 * 2"
   ]
  },
  {
   "cell_type": "markdown",
   "metadata": {},
   "source": [
    "# Formatting Numbers"
   ]
  },
  {
   "cell_type": "code",
   "execution_count": 18,
   "metadata": {},
   "outputs": [
    {
     "name": "stdout",
     "output_type": "stream",
     "text": [
      "I have 6 cats.\n",
      "I have  6 cats.\n",
      "I have 6.000000 cats\n",
      "I have 6.000 cats\n",
      "I have 6.00 cats\n"
     ]
    }
   ],
   "source": [
    "print(\"I have %d cats.\"%6)\n",
    "print(\"I have %2d cats.\"%6)\n",
    "print(\"I have %f cats\" %6)\n",
    "print(\"I have %.3f cats\" %6)\n",
    "print(\"I have %.2f cats\" %6)"
   ]
  },
  {
   "cell_type": "markdown",
   "metadata": {},
   "source": [
    "## Formatting using format()"
   ]
  },
  {
   "cell_type": "code",
   "execution_count": 32,
   "metadata": {},
   "outputs": [
    {
     "name": "stdout",
     "output_type": "stream",
     "text": [
      "I have 5 cats.\n",
      "I have 6.0 cats.\n",
      "I have 6 cats.\n",
      "I have  5 cats.\n",
      "I have 6.000000 cats\n",
      "I have 6.000 cats\n",
      "I have 6.00 cats\n",
      "\n",
      "This article is written in Python\n"
     ]
    }
   ],
   "source": [
    "print(\"I have {} cats.\".format(5))\n",
    "print(\"I have {} cats.\".format(6.00))\n",
    "print(\"I have {} cats.\".format(6))\n",
    "print(\"I have {0:2} cats.\".format(5))\n",
    "print(\"I have {:f} cats\" .format(6))\n",
    "print(\"I have {:.3f} cats\" .format(6))\n",
    "print(\"I have {:.2f} cats\" .format(6))\n",
    "print()\n",
    "# using format option for a \n",
    "# value stored in a variable \n",
    "str = \"This article is written in {}\"\n",
    "print (str.format(\"Python\")) "
   ]
  },
  {
   "attachments": {},
   "cell_type": "markdown",
   "metadata": {},
   "source": [
    "# Excercise\n",
    "Have the user enter the cost of the loan, the interest rate, and the number of years for the loan\n",
    "Calculate monthly payments with the following formula:\n",
    "    1. M = L[i(1+i)n] / [(1+i)n-1]\n",
    "    2. M = monthly payment\n",
    "    3. L = Loan amount \n",
    "    4. i = interest rate (for an interest rate of 5%, i = 0.05)\n",
    "    5. n = Number of years\n"
   ]
  },
  {
   "cell_type": "code",
   "execution_count": 2,
   "metadata": {},
   "outputs": [
    {
     "name": "stdout",
     "output_type": "stream",
     "text": [
      "Enter Loan Amount:22000.0\n",
      "Enter Interest Rate:0.10\n",
      "Enter number of years:4\n"
     ]
    },
    {
     "ename": "TypeError",
     "evalue": "'float' object is not callable",
     "output_type": "error",
     "traceback": [
      "\u001b[0;31m---------------------------------------------------------------------------\u001b[0m",
      "\u001b[0;31mTypeError\u001b[0m                                 Traceback (most recent call last)",
      "\u001b[0;32m<ipython-input-2-b6a86e74f551>\u001b[0m in \u001b[0;36m<module>\u001b[0;34m\u001b[0m\n\u001b[1;32m      3\u001b[0m \u001b[0mn\u001b[0m \u001b[0;34m=\u001b[0m \u001b[0mfloat\u001b[0m\u001b[0;34m(\u001b[0m\u001b[0minput\u001b[0m\u001b[0;34m(\u001b[0m\u001b[0;34m\"Enter number of years:\"\u001b[0m\u001b[0;34m)\u001b[0m\u001b[0;34m)\u001b[0m\u001b[0;34m\u001b[0m\u001b[0;34m\u001b[0m\u001b[0m\n\u001b[1;32m      4\u001b[0m \u001b[0;34m\u001b[0m\u001b[0m\n\u001b[0;32m----> 5\u001b[0;31m \u001b[0mM\u001b[0m \u001b[0;34m=\u001b[0m \u001b[0mL\u001b[0m\u001b[0;34m(\u001b[0m\u001b[0mi\u001b[0m\u001b[0;34m*\u001b[0m\u001b[0;34m(\u001b[0m\u001b[0;36m1\u001b[0m\u001b[0;34m+\u001b[0m\u001b[0mi\u001b[0m\u001b[0;34m)\u001b[0m\u001b[0;34m*\u001b[0m\u001b[0mn\u001b[0m\u001b[0;34m)\u001b[0m \u001b[0;34m/\u001b[0m \u001b[0;34m(\u001b[0m\u001b[0;34m(\u001b[0m\u001b[0;36m1\u001b[0m\u001b[0;34m+\u001b[0m\u001b[0mi\u001b[0m\u001b[0;34m)\u001b[0m\u001b[0;34m*\u001b[0m\u001b[0;34m(\u001b[0m\u001b[0mn\u001b[0m\u001b[0;34m-\u001b[0m\u001b[0;36m1\u001b[0m\u001b[0;34m)\u001b[0m\u001b[0;34m)\u001b[0m\u001b[0;34m\u001b[0m\u001b[0;34m\u001b[0m\u001b[0m\n\u001b[0m\u001b[1;32m      6\u001b[0m \u001b[0mM\u001b[0m\u001b[0;34m\u001b[0m\u001b[0;34m\u001b[0m\u001b[0m\n",
      "\u001b[0;31mTypeError\u001b[0m: 'float' object is not callable"
     ]
    }
   ],
   "source": [
    "L = float(input(\"Enter Loan Amount:\"))\n",
    "i = float(input(\"Enter Interest Rate:\"))\n",
    "n = float(input(\"Enter number of years:\"))\n",
    "\n",
    "M = L*(i*(1+i)*n) / ((1+i)*(n-1))\n",
    "M"
   ]
  },
  {
   "cell_type": "code",
   "execution_count": null,
   "metadata": {},
   "outputs": [],
   "source": []
  }
 ],
 "metadata": {
  "kernelspec": {
   "display_name": "Python 3",
   "language": "python",
   "name": "python3"
  },
  "language_info": {
   "codemirror_mode": {
    "name": "ipython",
    "version": 3
   },
   "file_extension": ".py",
   "mimetype": "text/x-python",
   "name": "python",
   "nbconvert_exporter": "python",
   "pygments_lexer": "ipython3",
   "version": "3.7.4"
  }
 },
 "nbformat": 4,
 "nbformat_minor": 2
}
