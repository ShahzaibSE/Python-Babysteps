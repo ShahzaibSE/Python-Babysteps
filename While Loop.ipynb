{
 "cells": [
  {
   "cell_type": "code",
   "execution_count": null,
   "metadata": {},
   "outputs": [],
   "source": [
    "# Intellisense.\n",
    "%config IPCompleter.greedy=True"
   ]
  },
  {
   "cell_type": "code",
   "execution_count": 2,
   "metadata": {},
   "outputs": [
    {
     "name": "stdout",
     "output_type": "stream",
     "text": [
      "Enter your city or quit by pressing 'q'Great Falls\n",
      "Your city is cleanest.\n",
      "Enter your city or quit by pressing 'q'Honolulu\n",
      "Your city is cleanest.\n",
      "Enter your city or quit by pressing 'q'q\n"
     ]
    }
   ],
   "source": [
    "cleanest_cities = [\"Cheyenne\", \"Santa Fe\", \"Tucson\",\n",
    "\"Great Falls\", \"Honolulu\"]\n",
    "\n",
    "user_input = \"\"\n",
    "while(user_input != \"q\"):\n",
    "    user_input = input(\"Enter your city or quit by pressing 'q'\")\n",
    "    if user_input != \"q\":\n",
    "        for city in cleanest_cities:\n",
    "            if user_input == city:\n",
    "                print(\"Your city is cleanest.\")\n",
    "                break"
   ]
  },
  {
   "cell_type": "code",
   "execution_count": null,
   "metadata": {},
   "outputs": [],
   "source": [
    "\n",
    "        "
   ]
  },
  {
   "cell_type": "code",
   "execution_count": null,
   "metadata": {},
   "outputs": [],
   "source": []
  }
 ],
 "metadata": {
  "kernelspec": {
   "display_name": "Python 3",
   "language": "python",
   "name": "python3"
  },
  "language_info": {
   "codemirror_mode": {
    "name": "ipython",
    "version": 3
   },
   "file_extension": ".py",
   "mimetype": "text/x-python",
   "name": "python",
   "nbconvert_exporter": "python",
   "pygments_lexer": "ipython3",
   "version": "3.7.3"
  }
 },
 "nbformat": 4,
 "nbformat_minor": 2
}
