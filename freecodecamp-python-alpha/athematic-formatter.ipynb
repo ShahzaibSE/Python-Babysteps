{
 "cells": [
  {
   "cell_type": "code",
   "execution_count": 14,
   "metadata": {},
   "outputs": [
    {
     "name": "stdout",
     "output_type": "stream",
     "text": [
      "32 + 698\n",
      "\n",
      "   32\n",
      "+ 698\n",
      "-----\n",
      "\n",
      "3801 - 2\n",
      "\n",
      " 3801\n",
      "-   2\n",
      "-----\n",
      "\n",
      "45 + 43\n",
      "\n",
      "   45\n",
      "+  43\n",
      "-----\n",
      "\n",
      "123 + 49\n",
      "\n",
      "  123\n",
      "+  49\n",
      "-----\n",
      "\n"
     ]
    },
    {
     "data": {
      "text/plain": [
       "['123', '+', '49']"
      ]
     },
     "execution_count": 14,
     "metadata": {},
     "output_type": "execute_result"
    }
   ],
   "source": [
    "def arithmetic_arranger(problems):\n",
    "\n",
    "    line1 = \"\"\n",
    "    line2 = \"\"\n",
    "    line3 = \"\"\n",
    "    value_width = 4\n",
    "    dash = \"-----\"\n",
    "    #\n",
    "    for item in problems:\n",
    "        print(item)\n",
    "        print()\n",
    "        num1, op, num2 = item.split(\" \")\n",
    "        num1 = int(num1)\n",
    "        num2 = int(num2)\n",
    "        splitted_string = item.split(\" \")\n",
    "#         print(splitted_string)\n",
    "        if op not in [\"+\",\"-\"]:\n",
    "            return \"Error: Operator must be '+' or '-'.\"\n",
    "        if len(problems) >= 5:\n",
    "            return \"Error: Too many problems.\" \n",
    "        if type(num1) != int and type(num2) != int:\n",
    "            print(f\"Type of operand 1: {type(num1)}\")\n",
    "            print(f\"Type of operand 2: {type(num2)}\")\n",
    "            return \"Error: Numbers must only contain digits.\"\n",
    "        print(f\" {str(num1).rjust(value_width)}\\n{op}{str(num2).rjust(value_width)}\\n{dash.rjust(5)}\")\n",
    "        print()\n",
    "    arranged_problems = splitted_string\n",
    "    #\n",
    "    return arranged_problems\n",
    "\n",
    "arithmetic_arranger([\"32 + 698\", \"3801 - 2\", \"45 + 43\", \"123 + 49\"])"
   ]
  },
  {
   "cell_type": "code",
   "execution_count": null,
   "metadata": {},
   "outputs": [],
   "source": []
  },
  {
   "cell_type": "code",
   "execution_count": null,
   "metadata": {},
   "outputs": [],
   "source": []
  }
 ],
 "metadata": {
  "kernelspec": {
   "display_name": "Python 3",
   "language": "python",
   "name": "python3"
  },
  "language_info": {
   "codemirror_mode": {
    "name": "ipython",
    "version": 3
   },
   "file_extension": ".py",
   "mimetype": "text/x-python",
   "name": "python",
   "nbconvert_exporter": "python",
   "pygments_lexer": "ipython3",
   "version": "3.7.4"
  }
 },
 "nbformat": 4,
 "nbformat_minor": 2
}
