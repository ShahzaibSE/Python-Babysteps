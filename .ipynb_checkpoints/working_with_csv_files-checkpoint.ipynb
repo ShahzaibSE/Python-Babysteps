{
 "cells": [
  {
   "cell_type": "code",
   "execution_count": 33,
   "metadata": {},
   "outputs": [],
   "source": [
    "%config IPCompleter.greedy=True\n",
    "import csv\n",
    "import json"
   ]
  },
  {
   "cell_type": "code",
   "execution_count": 21,
   "metadata": {},
   "outputs": [
    {
     "name": "stdout",
     "output_type": "stream",
     "text": [
      "<_csv.reader object at 0x0000021A085193F0>\n",
      "\n",
      "['Year', 'Event', 'Winner']\n",
      "['1995', 'Best-Kept Lawn', 'None']\n",
      "['1999', 'Gobstones', 'Welch National']\n",
      "['2006', 'World Cup', 'Burkina Faso']\n"
     ]
    }
   ],
   "source": [
    "with open(\"sample.csv\") as csv_file_to_work_with:\n",
    "    csv_content = csv.reader(csv_file_to_work_with)\n",
    "    print(csv_content)\n",
    "    #\n",
    "    print()\n",
    "    for rows in csv_content:\n",
    "        print(rows)"
   ]
  },
  {
   "cell_type": "code",
   "execution_count": 22,
   "metadata": {},
   "outputs": [
    {
     "name": "stdout",
     "output_type": "stream",
     "text": [
      "['Year', 'Event', 'Winner', '1995', 'Best-Kept Lawn', 'None', '1999', 'Gobstones', 'Welch National', '2006', 'World Cup', 'Burkina Faso']\n",
      "\n",
      "[['Year', 'Event', 'Winner'], ['1995', 'Best-Kept Lawn', 'None'], ['1999', 'Gobstones', 'Welch National'], ['2006', 'World Cup', 'Burkina Faso']]\n"
     ]
    }
   ],
   "source": [
    "with open(\"sample.csv\") as f:\n",
    "     contents_of_f = csv.reader(f)\n",
    "     potter_competitions_v1 = []\n",
    "     potter_competitions_v2 = []\n",
    "     for each_line in contents_of_f:\n",
    "       potter_competitions_v1 += each_line     \n",
    "       potter_competitions_v2.append(each_line)\n",
    "print(potter_competitions_v1)\n",
    "print()\n",
    "print(potter_competitions_v2)    "
   ]
  },
  {
   "cell_type": "code",
   "execution_count": 28,
   "metadata": {},
   "outputs": [],
   "source": [
    "# Creating and writing to a new CSV file.\n",
    "with open(\"events.csv\", \"w\", newline=\"\\n\") as new_csv_file_to_work_with:\n",
    "    data_handler = csv.writer(new_csv_file_to_work_with, delimiter=\",\")\n",
    "    data_handler.writerow([1997, \"World Cup\", None])\n",
    "    data_handler.writerow([1998, \"Olympics\", \"Arther\"])\n",
    "# Replacing data\n",
    "with open(\"events.csv\", \"w\", newline=None) as new_csv_file_to_work_with:\n",
    "    data_handler = csv.writer(new_csv_file_to_work_with, delimiter=\",\")\n",
    "    data_handler.writerow([1992, \"World Cup\", None])\n",
    "    data_handler.writerow([1999, \"Olympics\", \"Usan Bolt\"])"
   ]
  },
  {
   "cell_type": "code",
   "execution_count": 30,
   "metadata": {},
   "outputs": [],
   "source": [
    "# Appending to a csv file.\n",
    "with open(\"events.csv\", \"a\", newline=\"\\n\") as new_csv_file_to_work_with:\n",
    "    data_handler = csv.writer(new_csv_file_to_work_with, delimiter=\",\")\n",
    "    data_handler.writerow([1992, \"World Cup\", \"Pakistan\"])\n",
    "    data_handler.writerow([1999, \"Olympics\", \"Usan Bolt\"])"
   ]
  },
  {
   "cell_type": "markdown",
   "metadata": {},
   "source": [
    "## JSON "
   ]
  },
  {
   "cell_type": "code",
   "execution_count": 34,
   "metadata": {},
   "outputs": [],
   "source": [
    "# With Lists.\n",
    "alphabet_letters = [\"a\", \"b\", \"c\"]\n",
    "#\n",
    "with open(\"alphabet_list.json\", \"w\") as f:\n",
    "     json.dump(alphabet_letters, f)"
   ]
  },
  {
   "cell_type": "code",
   "execution_count": 36,
   "metadata": {},
   "outputs": [],
   "source": [
    "customer_29876 = {\n",
    "  \"first name\": \"David\",\n",
    "  \"last name\": \"Elliott\",\n",
    "  \"address\": \"4803 Wellesley St.\",\n",
    "    \"cards\" : [\"loyalty\", \"mvp\", \"memebership\"]\n",
    "}\n",
    "\n",
    "with open(\"customer_29876.json\", \"w\") as f:\n",
    "     json.dump(customer_29876, f)   "
   ]
  },
  {
   "cell_type": "code",
   "execution_count": null,
   "metadata": {},
   "outputs": [],
   "source": [
    "# How to retrieve python list or dictionary.\n",
    "with open(\"customer_29876.json\") as f:\n",
    "     customer_29876 = json.load(f)\n",
    "print(\"Customer Info\")\n",
    "print(customer_29876)"
   ]
  },
  {
   "cell_type": "code",
   "execution_count": null,
   "metadata": {},
   "outputs": [],
   "source": [
    "# How to retrieve List from JSON.\n",
    "with open(\"alphabet_list.json\") as f:\n",
    "    alphabet_list = json.load(f)\n",
    "print(\"Alphabet list\")\n",
    "print(alphabet_list)"
   ]
  }
 ],
 "metadata": {
  "kernelspec": {
   "display_name": "Python 3",
   "language": "python",
   "name": "python3"
  },
  "language_info": {
   "codemirror_mode": {
    "name": "ipython",
    "version": 3
   },
   "file_extension": ".py",
   "mimetype": "text/x-python",
   "name": "python",
   "nbconvert_exporter": "python",
   "pygments_lexer": "ipython3",
   "version": "3.7.3"
  }
 },
 "nbformat": 4,
 "nbformat_minor": 2
}
