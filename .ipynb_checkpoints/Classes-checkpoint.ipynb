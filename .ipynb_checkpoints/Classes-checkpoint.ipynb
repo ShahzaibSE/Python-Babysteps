{
 "cells": [
  {
   "cell_type": "code",
   "execution_count": 31,
   "metadata": {},
   "outputs": [],
   "source": [
    "%config IPCompleter.greedy=True"
   ]
  },
  {
   "cell_type": "code",
   "execution_count": 35,
   "metadata": {},
   "outputs": [],
   "source": [
    "# Creating first class.\n",
    "class Patient():\n",
    "    def __init__(self, lastname, firstname, age):\n",
    "        # Must have all attributes here.\n",
    "        self.lastname = lastname\n",
    "        self.age = age\n",
    "        self.firstname = firstname\n",
    "    #  \n",
    "    def say_if_minor(self):\n",
    "        if self.age < 21:\n",
    "          print(\"This patient is a minor\")\n",
    "        \n",
    "    def change_lastname(self, lastname):\n",
    "        self.lastname = lastname"
   ]
  },
  {
   "cell_type": "code",
   "execution_count": 36,
   "metadata": {},
   "outputs": [
    {
     "data": {
      "text/plain": [
       "'Shahid'"
      ]
     },
     "execution_count": 36,
     "metadata": {},
     "output_type": "execute_result"
    }
   ],
   "source": [
    "# Create an Instance\n",
    "pid1 = Patient(\"Shaheen\", \"Asad\", 20)\n",
    "pid2 = Patient(lastname=\"Shahid\", firstname=\"Tariq\", age=23)\n",
    "pid2.lastname"
   ]
  },
  {
   "cell_type": "code",
   "execution_count": 37,
   "metadata": {},
   "outputs": [
    {
     "name": "stdout",
     "output_type": "stream",
     "text": [
      "This patient is a minor\n"
     ]
    },
    {
     "data": {
      "text/plain": [
       "'Hani'"
      ]
     },
     "execution_count": 37,
     "metadata": {},
     "output_type": "execute_result"
    }
   ],
   "source": [
    "pid1.change_lastname(\"Hani\")\n",
    "pid1.say_if_minor()\n",
    "pid1.lastname"
   ]
  },
  {
   "cell_type": "code",
   "execution_count": 20,
   "metadata": {},
   "outputs": [],
   "source": [
    "class A(object):\n",
    "    def __init__(self,atr1,atr2):\n",
    "        self.atr1 = atr1\n",
    "        self.atr2 = atr2\n",
    "    #\n",
    "    def about_me(self):\n",
    "        print(self.atr1)\n",
    "        print(self.atr2)\n",
    "#\n",
    "# Child class \n",
    "class B(A):\n",
    "#       def __init__(self, atr1, atr2): \n",
    "#                 # invoking the __init__ of the parent class  \n",
    "#                 A.__init__(self, atr1, atr2)\n",
    "        def isB():\n",
    "            return False"
   ]
  },
  {
   "cell_type": "code",
   "execution_count": 21,
   "metadata": {},
   "outputs": [
    {
     "name": "stdout",
     "output_type": "stream",
     "text": [
      "I am A's friend\n",
      "I am B\n"
     ]
    }
   ],
   "source": [
    "b_instance1 = B(atr1=\"I am the friend\", atr2=\"I am B\")\n",
    "b_instance1.about_me()"
   ]
  },
  {
   "cell_type": "code",
   "execution_count": 19,
   "metadata": {},
   "outputs": [
    {
     "name": "stdout",
     "output_type": "stream",
     "text": [
      "Geek1 False\n",
      "Geek2 True\n"
     ]
    }
   ],
   "source": [
    "# A Python program to demonstrate inheritance \n",
    "\n",
    "# Base or Super class. Note object in bracket. \n",
    "# (Generally, object is made ancestor of all classes) \n",
    "# In Python 3.x \"class Person\" is \n",
    "# equivalent to \"class Person(object)\" \n",
    "class Person: \n",
    "\t\n",
    "\t# Constructor \n",
    "\tdef __init__(self, name): \n",
    "\t\tself.name = name \n",
    "\n",
    "\t# To get name \n",
    "\tdef getName(self): \n",
    "\t\treturn self.name \n",
    "\n",
    "\t# To check if this person is employee \n",
    "\tdef isEmployee(self): \n",
    "\t\treturn False\n",
    "\n",
    "\n",
    "# Inherited or Sub class (Note Person in bracket) \n",
    "class Employee(Person): \n",
    "\n",
    "\t# Here we return true \n",
    "\tdef isEmployee(self): \n",
    "\t\treturn True\n",
    "\n",
    "# Driver code \n",
    "emp = Person(\"Geek1\") # An Object of Person \n",
    "print(emp.getName(), emp.isEmployee()) \n",
    "\n",
    "emp = Employee(\"Geek2\") # An Object of Employee \n",
    "print(emp.getName(), emp.isEmployee()) \n"
   ]
  },
  {
   "cell_type": "code",
   "execution_count": null,
   "metadata": {},
   "outputs": [],
   "source": []
  }
 ],
 "metadata": {
  "kernelspec": {
   "display_name": "Python 3",
   "language": "python",
   "name": "python3"
  },
  "language_info": {
   "codemirror_mode": {
    "name": "ipython",
    "version": 3
   },
   "file_extension": ".py",
   "mimetype": "text/x-python",
   "name": "python",
   "nbconvert_exporter": "python",
   "pygments_lexer": "ipython3",
   "version": "3.7.3"
  }
 },
 "nbformat": 4,
 "nbformat_minor": 2
}
