{
 "cells": [
  {
   "cell_type": "code",
   "execution_count": 1,
   "metadata": {},
   "outputs": [
    {
     "name": "stdout",
     "output_type": "stream",
     "text": [
      "If control comes here.\n"
     ]
    }
   ],
   "source": [
    "# When If clause has False.\n",
    "if False :\n",
    "    print(\"If control doesn't come here.\")\n",
    "else:\n",
    "    print(\"If control comes here.\")"
   ]
  },
  {
   "cell_type": "code",
   "execution_count": null,
   "metadata": {},
   "outputs": [],
   "source": [
    "# When If clause has True.\n",
    "if True :\n",
    "    print(\"If control comes here.\")\n",
    "else:\n",
    "    print(\"If control does not comes here.\")"
   ]
  },
  {
   "cell_type": "code",
   "execution_count": 2,
   "metadata": {},
   "outputs": [
    {
     "name": "stdout",
     "output_type": "stream",
     "text": [
      "Enter temperature:35\n",
      "Current Weather ...\n",
      "Weather is cloudy.\n"
     ]
    }
   ],
   "source": [
    "# Weather forcasting system.\n",
    "temp = float(input(\"Enter temperature:\"))\n",
    "# Checking temperature\n",
    "print(\"Current Weather ...\")\n",
    "if temp >= 36 and temp <= 45.0:\n",
    "   print(\"Hot.\")\n",
    "elif temp >30.0 and temp <=35 :\n",
    "   print(\"Weather is cloudy.\")\n",
    "elif temp < 20.0:\n",
    "   print(\"Winter.\") \n",
    "    \n"
   ]
  },
  {
   "cell_type": "code",
   "execution_count": 4,
   "metadata": {},
   "outputs": [
    {
     "name": "stdout",
     "output_type": "stream",
     "text": [
      "Welcome\n"
     ]
    }
   ],
   "source": [
    "system_admin = \"Shahzaib\"\n",
    "if system_admin == \"Shahzaib\": #if are lowercased.\n",
    "    print(\"Welcome\")\n",
    "else:\n",
    "   print(\"You are not system admin.\") "
   ]
  },
  {
   "cell_type": "code",
   "execution_count": 5,
   "metadata": {},
   "outputs": [
    {
     "ename": "SyntaxError",
     "evalue": "invalid syntax (<ipython-input-5-e754f7ef46c7>, line 1)",
     "output_type": "error",
     "traceback": [
      "\u001b[0;36m  File \u001b[0;32m\"<ipython-input-5-e754f7ef46c7>\"\u001b[0;36m, line \u001b[0;32m1\u001b[0m\n\u001b[0;31m    if True if False:\u001b[0m\n\u001b[0m                    ^\u001b[0m\n\u001b[0;31mSyntaxError\u001b[0m\u001b[0;31m:\u001b[0m invalid syntax\n"
     ]
    }
   ],
   "source": [
    "if True if False:\n",
    "    print(\"There are no strings on me.\")"
   ]
  },
  {
   "cell_type": "code",
   "execution_count": 7,
   "metadata": {},
   "outputs": [
    {
     "ename": "ModuleNotFoundError",
     "evalue": "No module named 'Math'",
     "output_type": "error",
     "traceback": [
      "\u001b[0;31m---------------------------------------------------------------------------\u001b[0m",
      "\u001b[0;31mModuleNotFoundError\u001b[0m                       Traceback (most recent call last)",
      "\u001b[0;32m<ipython-input-7-71ecffa85caf>\u001b[0m in \u001b[0;36m<module>\u001b[0;34m\u001b[0m\n\u001b[0;32m----> 1\u001b[0;31m \u001b[0;32mimport\u001b[0m \u001b[0mMath\u001b[0m\u001b[0;34m\u001b[0m\u001b[0;34m\u001b[0m\u001b[0m\n\u001b[0m\u001b[1;32m      2\u001b[0m \u001b[0mMath\u001b[0m\u001b[0;34m.\u001b[0m\u001b[0mpi\u001b[0m\u001b[0;34m\u001b[0m\u001b[0;34m\u001b[0m\u001b[0m\n",
      "\u001b[0;31mModuleNotFoundError\u001b[0m: No module named 'Math'"
     ]
    }
   ],
   "source": [
    "import Math\n",
    "Math.pi"
   ]
  },
  {
   "cell_type": "code",
   "execution_count": 13,
   "metadata": {},
   "outputs": [
    {
     "name": "stdout",
     "output_type": "stream",
     "text": [
      "Enter your marks:89\n",
      "Enter your marks:87\n",
      "Enter your marks:89\n",
      "Enter your marks:98\n",
      "Enter your marks:78\n",
      "Total Marks:441\n"
     ]
    }
   ],
   "source": [
    "max_marks = 500\n",
    "#\n",
    "counter = 0\n",
    "total_marks = 0\n",
    "while counter <5:\n",
    "    mark = int(input(\"Enter your marks:\"))\n",
    "    if mark <=100:\n",
    "        total_marks += mark\n",
    "    counter += 1\n",
    "print(f\"Total Marks:{total_marks}\")\n"
   ]
  },
  {
   "cell_type": "code",
   "execution_count": null,
   "metadata": {},
   "outputs": [],
   "source": [
    "# Let's take a look at Importance of Parenthesis in if statements.\n",
    "age = int(input(\"Enter Age:\"))\n",
    "res= input(\"Enter Resident:\")\n",
    "if (age > 65 or age < 21) and res == \"U.K\":\n",
    "    print(\"Age is maybe less than 21 or greater than 65 but in both conditions must be living in U.K.\")\n",
    "else:\n",
    "    print(\"I don't know.\")\n",
    "    "
   ]
  },
  {
   "cell_type": "code",
   "execution_count": null,
   "metadata": {},
   "outputs": [],
   "source": [
    "# Let's take a look at above code without parenthesis.\n",
    "age = int(input(\"Enter Age:\"))\n",
    "res= input(\"Enter Resident:\")\n",
    "if age > 65 or age < 21 and res == \"U.K\":\n",
    "    print(f\"age: {age} and resident: {res}\")\n",
    "else:\n",
    "    print(\"I don't know.\")"
   ]
  }
 ],
 "metadata": {
  "kernelspec": {
   "display_name": "Python 3",
   "language": "python",
   "name": "python3"
  },
  "language_info": {
   "codemirror_mode": {
    "name": "ipython",
    "version": 3
   },
   "file_extension": ".py",
   "mimetype": "text/x-python",
   "name": "python",
   "nbconvert_exporter": "python",
   "pygments_lexer": "ipython3",
   "version": "3.7.3"
  }
 },
 "nbformat": 4,
 "nbformat_minor": 2
}
