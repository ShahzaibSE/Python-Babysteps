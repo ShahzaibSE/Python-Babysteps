{
 "cells": [
  {
   "cell_type": "code",
   "execution_count": 2,
   "metadata": {},
   "outputs": [],
   "source": [
    "import numpy as np"
   ]
  },
  {
   "cell_type": "code",
   "execution_count": 3,
   "metadata": {},
   "outputs": [],
   "source": [
    "arr = np.arange(10,1001,10)"
   ]
  },
  {
   "cell_type": "code",
   "execution_count": 4,
   "metadata": {},
   "outputs": [
    {
     "data": {
      "text/plain": [
       "100"
      ]
     },
     "execution_count": 4,
     "metadata": {},
     "output_type": "execute_result"
    }
   ],
   "source": [
    "len(arr)"
   ]
  },
  {
   "cell_type": "code",
   "execution_count": 5,
   "metadata": {},
   "outputs": [
    {
     "data": {
      "text/plain": [
       "array([[  10,   20,   30,   40,   50,   60,   70,   80,   90,  100],\n",
       "       [ 110,  120,  130,  140,  150,  160,  170,  180,  190,  200],\n",
       "       [ 210,  220,  230,  240,  250,  260,  270,  280,  290,  300],\n",
       "       [ 310,  320,  330,  340,  350,  360,  370,  380,  390,  400],\n",
       "       [ 410,  420,  430,  440,  450,  460,  470,  480,  490,  500],\n",
       "       [ 510,  520,  530,  540,  550,  560,  570,  580,  590,  600],\n",
       "       [ 610,  620,  630,  640,  650,  660,  670,  680,  690,  700],\n",
       "       [ 710,  720,  730,  740,  750,  760,  770,  780,  790,  800],\n",
       "       [ 810,  820,  830,  840,  850,  860,  870,  880,  890,  900],\n",
       "       [ 910,  920,  930,  940,  950,  960,  970,  980,  990, 1000]])"
      ]
     },
     "execution_count": 5,
     "metadata": {},
     "output_type": "execute_result"
    }
   ],
   "source": [
    "arr.reshape(10,10)"
   ]
  },
  {
   "cell_type": "code",
   "execution_count": 6,
   "metadata": {},
   "outputs": [],
   "source": [
    "my_arr = arr.reshape(20,5)"
   ]
  },
  {
   "cell_type": "code",
   "execution_count": 7,
   "metadata": {},
   "outputs": [
    {
     "data": {
      "text/plain": [
       "array([[  10,   20,   30,   40,   50],\n",
       "       [  60,   70,   80,   90,  100],\n",
       "       [ 110,  120,  130,  140,  150],\n",
       "       [ 160,  170,  180,  190,  200],\n",
       "       [ 210,  220,  230,  240,  250],\n",
       "       [ 260,  270,  280,  290,  300],\n",
       "       [ 310,  320,  330,  340,  350],\n",
       "       [ 360,  370,  380,  390,  400],\n",
       "       [ 410,  420,  430,  440,  450],\n",
       "       [ 460,  470,  480,  490,  500],\n",
       "       [ 510,  520,  530,  540,  550],\n",
       "       [ 560,  570,  580,  590,  600],\n",
       "       [ 610,  620,  630,  640,  650],\n",
       "       [ 660,  670,  680,  690,  700],\n",
       "       [ 710,  720,  730,  740,  750],\n",
       "       [ 760,  770,  780,  790,  800],\n",
       "       [ 810,  820,  830,  840,  850],\n",
       "       [ 860,  870,  880,  890,  900],\n",
       "       [ 910,  920,  930,  940,  950],\n",
       "       [ 960,  970,  980,  990, 1000]])"
      ]
     },
     "execution_count": 7,
     "metadata": {},
     "output_type": "execute_result"
    }
   ],
   "source": [
    "arr2 = my_arr.copy()\n",
    "arr2"
   ]
  },
  {
   "cell_type": "code",
   "execution_count": 8,
   "metadata": {},
   "outputs": [
    {
     "data": {
      "text/plain": [
       "array([[  10,   20,   30,   40,   50],\n",
       "       [  60,   70,   80,   90,  100],\n",
       "       [ 110,  120,  130,  140,  150],\n",
       "       [ 160,  170,  180,  190,  200],\n",
       "       [ 210,  220,  230,  240,  250],\n",
       "       [ 260,  270,  280,  290,  300],\n",
       "       [ 310,  320,  330,  340,  350],\n",
       "       [ 360,  370,  380,  390,  400],\n",
       "       [ 410,  420,  430,  440,  450],\n",
       "       [ 460,  470,  480,  490,  500],\n",
       "       [ 510,  520,  530,  540,  550],\n",
       "       [ 560,  570,  580,  590,  600],\n",
       "       [ 610,  620,  630,  640,  650],\n",
       "       [ 660,  670,  680,  690,  700],\n",
       "       [ 710,  720,  730,  740,  750],\n",
       "       [ 760,  770,  780,  790,  800],\n",
       "       [ 810,  820,  830,  840,  850],\n",
       "       [ 860,  870,  880,  890,  900],\n",
       "       [ 910,  920,  930,  940,  950],\n",
       "       [ 960,  970,  980,  990, 1000]])"
      ]
     },
     "execution_count": 8,
     "metadata": {},
     "output_type": "execute_result"
    }
   ],
   "source": [
    "my_arr[:2,:] = 10.1\n",
    "arr2"
   ]
  },
  {
   "cell_type": "code",
   "execution_count": 9,
   "metadata": {},
   "outputs": [
    {
     "data": {
      "text/plain": [
       "array([[  10,   10,   10,   10,   10],\n",
       "       [  10,   10,   10,   10,   10],\n",
       "       [ 110,  120,  130,  140,  150],\n",
       "       [ 160,  170,  180,  190,  200],\n",
       "       [ 210,  220,  230,  240,  250],\n",
       "       [ 260,  270,  280,  290,  300],\n",
       "       [ 310,  320,  330,  340,  350],\n",
       "       [ 360,  370,  380,  390,  400],\n",
       "       [ 410,  420,  430,  440,  450],\n",
       "       [ 460,  470,  480,  490,  500],\n",
       "       [ 510,  520,  530,  540,  550],\n",
       "       [ 560,  570,  580,  590,  600],\n",
       "       [ 610,  620,  630,  640,  650],\n",
       "       [ 660,  670,  680,  690,  700],\n",
       "       [ 710,  720,  730,  740,  750],\n",
       "       [ 760,  770,  780,  790,  800],\n",
       "       [ 810,  820,  830,  840,  850],\n",
       "       [ 860,  870,  880,  890,  900],\n",
       "       [ 910,  920,  930,  940,  950],\n",
       "       [ 960,  970,  980,  990, 1000]])"
      ]
     },
     "execution_count": 9,
     "metadata": {},
     "output_type": "execute_result"
    }
   ],
   "source": [
    "# After calling copy().\n",
    "my_arr # Integer data type remained."
   ]
  },
  {
   "cell_type": "code",
   "execution_count": 10,
   "metadata": {},
   "outputs": [
    {
     "data": {
      "text/plain": [
       "array([[  10,   20,   30,   40,   50],\n",
       "       [  60,   70,   80,   90,  100],\n",
       "       [ 110,  120,  130,  140,  150],\n",
       "       [ 160,  170,  180,  190,  200],\n",
       "       [ 210,  220,  230,  240,  250],\n",
       "       [ 260,  270,  280,  290,  300],\n",
       "       [ 310,  320,  330,  340,  350],\n",
       "       [ 360,  370,  380,  390,  400],\n",
       "       [ 410,  420,  430,  440,  450],\n",
       "       [ 460,  470,  480,  490,  500],\n",
       "       [ 510,  520,  530,  540,  550],\n",
       "       [ 560,  570,  580,  590,  600],\n",
       "       [ 610,  620,  630,  640,  650],\n",
       "       [ 660,  670,  680,  690,  700],\n",
       "       [ 710,  720,  730,  740,  750],\n",
       "       [ 760,  770,  780,  790,  800],\n",
       "       [ 810,  820,  830,  840,  850],\n",
       "       [ 860,  870,  880,  890,  900],\n",
       "       [ 910,  920,  930,  940,  950],\n",
       "       [ 960,  970,  980,  990, 1000]])"
      ]
     },
     "execution_count": 10,
     "metadata": {},
     "output_type": "execute_result"
    }
   ],
   "source": [
    "my_arr = np.arange(10,1001,10).reshape(20,5)\n",
    "my_arr"
   ]
  },
  {
   "cell_type": "code",
   "execution_count": 11,
   "metadata": {},
   "outputs": [
    {
     "data": {
      "text/plain": [
       "array([[110, 120, 130, 140, 150],\n",
       "       [210, 220, 230, 240, 250]])"
      ]
     },
     "execution_count": 11,
     "metadata": {},
     "output_type": "execute_result"
    }
   ],
   "source": [
    "# Fancy Indexing.\n",
    "my_arr[[2,4]]"
   ]
  },
  {
   "cell_type": "code",
   "execution_count": 12,
   "metadata": {},
   "outputs": [
    {
     "name": "stdout",
     "output_type": "stream",
     "text": [
      "[[ 10  20  30  40  50]\n",
      " [ 60  70  80  90 100]]\n"
     ]
    },
    {
     "data": {
      "text/plain": [
       "array([[ 20,  30,  40,  50],\n",
       "       [ 70,  80,  90, 100]])"
      ]
     },
     "execution_count": 12,
     "metadata": {},
     "output_type": "execute_result"
    }
   ],
   "source": [
    "print(my_arr[:2])\n",
    "my_arr[:2,1:,]"
   ]
  },
  {
   "cell_type": "markdown",
   "metadata": {},
   "source": [
    "## 3D Array."
   ]
  },
  {
   "cell_type": "code",
   "execution_count": 13,
   "metadata": {},
   "outputs": [
    {
     "data": {
      "text/plain": [
       "array([[[ 1,  2,  3,  4],\n",
       "        [ 5,  6,  7,  8],\n",
       "        [ 9, 10, 11, 12]],\n",
       "\n",
       "       [[13, 14, 15, 16],\n",
       "        [17, 18, 19, 20],\n",
       "        [21, 22, 23, 24]]])"
      ]
     },
     "execution_count": 13,
     "metadata": {},
     "output_type": "execute_result"
    }
   ],
   "source": [
    "arr_3d = np.arange(1,25).reshape(2,3,4)\n",
    "arr_3d"
   ]
  },
  {
   "cell_type": "code",
   "execution_count": 14,
   "metadata": {},
   "outputs": [
    {
     "data": {
      "text/plain": [
       "19"
      ]
     },
     "execution_count": 14,
     "metadata": {},
     "output_type": "execute_result"
    }
   ],
   "source": [
    "arr_3d[1][1][2]"
   ]
  },
  {
   "cell_type": "code",
   "execution_count": 15,
   "metadata": {},
   "outputs": [
    {
     "data": {
      "text/plain": [
       "array([11, 12])"
      ]
     },
     "execution_count": 15,
     "metadata": {},
     "output_type": "execute_result"
    }
   ],
   "source": [
    "arr_3d[0,2,2:]"
   ]
  },
  {
   "cell_type": "code",
   "execution_count": 16,
   "metadata": {},
   "outputs": [
    {
     "data": {
      "text/plain": [
       "array([[14, 15],\n",
       "       [18, 19]])"
      ]
     },
     "execution_count": 16,
     "metadata": {},
     "output_type": "execute_result"
    }
   ],
   "source": [
    "arr_3d[1,:2,1:-1]"
   ]
  },
  {
   "cell_type": "code",
   "execution_count": 17,
   "metadata": {},
   "outputs": [
    {
     "data": {
      "text/plain": [
       "array([[14, 15, 16],\n",
       "       [18, 19, 20]])"
      ]
     },
     "execution_count": 17,
     "metadata": {},
     "output_type": "execute_result"
    }
   ],
   "source": [
    "arr_3d[1,0:2,1:]"
   ]
  },
  {
   "cell_type": "code",
   "execution_count": 18,
   "metadata": {},
   "outputs": [
    {
     "name": "stdout",
     "output_type": "stream",
     "text": [
      "[[13 15]\n",
      " [21 23]]\n",
      "\n",
      "Using fancy Indexing.\n"
     ]
    },
    {
     "data": {
      "text/plain": [
       "array([[13, 15],\n",
       "       [21, 23]])"
      ]
     },
     "execution_count": 18,
     "metadata": {},
     "output_type": "execute_result"
    }
   ],
   "source": [
    "print(arr_3d[1,0::2,0:3:2])\n",
    "# OR\n",
    "print()\n",
    "print(\"Using fancy Indexing.\")\n",
    "arr_3d[1,[0,2],0:3:2]"
   ]
  },
  {
   "cell_type": "code",
   "execution_count": 19,
   "metadata": {},
   "outputs": [
    {
     "data": {
      "text/plain": [
       "array([[13, 14, 15, 16],\n",
       "       [17, 18, 19, 20],\n",
       "       [21, 22, 23, 24]])"
      ]
     },
     "execution_count": 19,
     "metadata": {},
     "output_type": "execute_result"
    }
   ],
   "source": [
    "arr_3d[1,0:,]"
   ]
  },
  {
   "cell_type": "code",
   "execution_count": 20,
   "metadata": {},
   "outputs": [
    {
     "data": {
      "text/plain": [
       "array([[[ 0,  1,  2,  3,  4],\n",
       "        [ 5,  6,  7,  8,  9],\n",
       "        [10, 11, 12, 13, 14],\n",
       "        [15, 16, 17, 18, 19],\n",
       "        [20, 21, 22, 23, 24]],\n",
       "\n",
       "       [[25, 26, 27, 28, 29],\n",
       "        [30, 31, 32, 33, 34],\n",
       "        [35, 36, 37, 38, 39],\n",
       "        [40, 41, 42, 43, 44],\n",
       "        [45, 46, 47, 48, 49]],\n",
       "\n",
       "       [[50, 51, 52, 53, 54],\n",
       "        [55, 56, 57, 58, 59],\n",
       "        [60, 61, 62, 63, 64],\n",
       "        [65, 66, 67, 68, 69],\n",
       "        [70, 71, 72, 73, 74]],\n",
       "\n",
       "       [[75, 76, 77, 78, 79],\n",
       "        [80, 81, 82, 83, 84],\n",
       "        [85, 86, 87, 88, 89],\n",
       "        [90, 91, 92, 93, 94],\n",
       "        [95, 96, 97, 98, 99]]])"
      ]
     },
     "execution_count": 20,
     "metadata": {},
     "output_type": "execute_result"
    }
   ],
   "source": [
    "arr4 = np.arange(100).reshape(4,5,5)\n",
    "arr4"
   ]
  },
  {
   "cell_type": "code",
   "execution_count": 21,
   "metadata": {},
   "outputs": [
    {
     "data": {
      "text/plain": [
       "array([[[ 5,  8],\n",
       "        [20, 23]],\n",
       "\n",
       "       [[30, 33],\n",
       "        [45, 48]]])"
      ]
     },
     "execution_count": 21,
     "metadata": {},
     "output_type": "execute_result"
    }
   ],
   "source": [
    "arr4[0:2,[1,4],0::4]"
   ]
  },
  {
   "cell_type": "code",
   "execution_count": null,
   "metadata": {},
   "outputs": [],
   "source": []
  }
 ],
 "metadata": {
  "kernelspec": {
   "display_name": "Python 3",
   "language": "python",
   "name": "python3"
  },
  "language_info": {
   "codemirror_mode": {
    "name": "ipython",
    "version": 3
   },
   "file_extension": ".py",
   "mimetype": "text/x-python",
   "name": "python",
   "nbconvert_exporter": "python",
   "pygments_lexer": "ipython3",
   "version": "3.7.3"
  }
 },
 "nbformat": 4,
 "nbformat_minor": 2
}
