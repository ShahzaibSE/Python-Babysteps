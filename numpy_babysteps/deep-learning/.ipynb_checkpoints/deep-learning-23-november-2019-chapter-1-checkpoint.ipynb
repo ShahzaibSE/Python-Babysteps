{
 "cells": [
  {
   "cell_type": "code",
   "execution_count": null,
   "metadata": {},
   "outputs": [],
   "source": [
    "import numpy as np\n",
    "import pandas as pd"
   ]
  },
  {
   "cell_type": "markdown",
   "metadata": {},
   "source": [
    "### Stick Notes\n",
    "- Tensorflow 2 is actually Keras renamed, which was acquired by Google.\n",
    "- Weights and Bias are collectively known as Parameters.\n",
    "- Weights are multiplied and Bias are added in a expression e.g y=2x + 1, 2 can be considered weight and 1 can be  considered bias.\n",
    "- Loss function is adjustment signal."
   ]
  },
  {
   "cell_type": "code",
   "execution_count": null,
   "metadata": {},
   "outputs": [],
   "source": []
  }
 ],
 "metadata": {
  "kernelspec": {
   "display_name": "Python 3",
   "language": "python",
   "name": "python3"
  },
  "language_info": {
   "codemirror_mode": {
    "name": "ipython",
    "version": 3
   },
   "file_extension": ".py",
   "mimetype": "text/x-python",
   "name": "python",
   "nbconvert_exporter": "python",
   "pygments_lexer": "ipython3",
   "version": "3.7.4"
  }
 },
 "nbformat": 4,
 "nbformat_minor": 2
}
