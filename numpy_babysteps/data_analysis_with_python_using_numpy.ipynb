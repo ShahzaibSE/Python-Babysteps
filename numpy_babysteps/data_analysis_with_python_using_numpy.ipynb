{
 "cells": [
  {
   "cell_type": "code",
   "execution_count": 28,
   "metadata": {},
   "outputs": [],
   "source": [
    "import numpy as np"
   ]
  },
  {
   "cell_type": "code",
   "execution_count": 29,
   "metadata": {},
   "outputs": [
    {
     "name": "stdout",
     "output_type": "stream",
     "text": [
      "CPU times: user 13.1 ms, sys: 5.27 ms, total: 18.3 ms\n",
      "Wall time: 18.4 ms\n",
      "CPU times: user 718 ms, sys: 184 ms, total: 902 ms\n",
      "Wall time: 903 ms\n"
     ]
    }
   ],
   "source": [
    "my_arr = np.arange(1000000)\n",
    "my_list = list(range(1000000))\n",
    "#\n",
    "%time for _ in range(10): my_arr2 = my_arr * 2 #nmpy_arr\n",
    "#\n",
    "%time for _ in range(10): my_list2 = [x * 2 for x in my_list]    "
   ]
  },
  {
   "cell_type": "code",
   "execution_count": 30,
   "metadata": {},
   "outputs": [
    {
     "name": "stdout",
     "output_type": "stream",
     "text": [
      "(2, 3)\n",
      "2\n"
     ]
    }
   ],
   "source": [
    "nd_2darr = np.array([[1,2,3],[4,5,6]])\n",
    "print(nd_2darr.shape)\n",
    "print(nd_2darr.ndim)"
   ]
  },
  {
   "cell_type": "code",
   "execution_count": 31,
   "metadata": {},
   "outputs": [
    {
     "data": {
      "text/plain": [
       "(20,)"
      ]
     },
     "execution_count": 31,
     "metadata": {},
     "output_type": "execute_result"
    }
   ],
   "source": [
    "simple_nd_linear_arr = np.arange(20)\n",
    "simple_nd_linear_arr.shape"
   ]
  },
  {
   "cell_type": "code",
   "execution_count": 32,
   "metadata": {},
   "outputs": [
    {
     "name": "stdout",
     "output_type": "stream",
     "text": [
      "Shape:(1, 2, 10)\n"
     ]
    },
    {
     "data": {
      "text/plain": [
       "array([[[-1.13257641,  0.81326634, -1.29122123, -1.01517382,\n",
       "         -0.31130843,  0.47387978, -1.34229655,  0.14622419,\n",
       "          0.41981044,  2.14949461],\n",
       "        [-1.10137818, -0.92783821, -0.74870755, -0.73051223,\n",
       "          0.63199303, -0.69693124,  1.0211943 ,  1.12603353,\n",
       "          0.37656485, -0.36736993]]])"
      ]
     },
     "execution_count": 32,
     "metadata": {},
     "output_type": "execute_result"
    }
   ],
   "source": [
    "random_dataset = np.array([[np.random.randn(10), np.random.randn(10)]])\n",
    "print(f\"Shape:{str(random_dataset.shape)}\")\n",
    "random_dataset"
   ]
  },
  {
   "cell_type": "markdown",
   "metadata": {},
   "source": [
    "## Slicing Arrays."
   ]
  },
  {
   "cell_type": "code",
   "execution_count": 33,
   "metadata": {},
   "outputs": [
    {
     "data": {
      "text/plain": [
       "array([[5, 6],\n",
       "       [8, 9]])"
      ]
     },
     "execution_count": 33,
     "metadata": {},
     "output_type": "execute_result"
    }
   ],
   "source": [
    "arr_2d = np.array([[1,2,3],[4,5,6],[7,8,9]])\n",
    "arr_2d[1:,1:]"
   ]
  },
  {
   "cell_type": "code",
   "execution_count": 34,
   "metadata": {},
   "outputs": [
    {
     "data": {
      "text/plain": [
       "array([[0, 0, 0],\n",
       "       [4, 5, 6],\n",
       "       [7, 8, 9]])"
      ]
     },
     "execution_count": 34,
     "metadata": {},
     "output_type": "execute_result"
    }
   ],
   "source": [
    "arr_2d[0] = np.zeros(len(arr_2d[0]))\n",
    "arr_2d"
   ]
  },
  {
   "cell_type": "code",
   "execution_count": 35,
   "metadata": {},
   "outputs": [
    {
     "data": {
      "text/plain": [
       "array([1, 1, 1, 1, 1, 1, 1, 1, 1, 1])"
      ]
     },
     "execution_count": 35,
     "metadata": {},
     "output_type": "execute_result"
    }
   ],
   "source": [
    "# matrix of ones using ones_like function.\n",
    "np.ones_like(np.arange(10))"
   ]
  },
  {
   "cell_type": "code",
   "execution_count": 36,
   "metadata": {},
   "outputs": [
    {
     "data": {
      "text/plain": [
       "array([1., 1., 1., 1., 1., 1., 1., 1., 1., 1.], dtype=float32)"
      ]
     },
     "execution_count": 36,
     "metadata": {},
     "output_type": "execute_result"
    }
   ],
   "source": [
    "# matrix of ones using ones function.\n",
    "ones_arr = np.ones((10),dtype=np.float32)\n",
    "ones_arr"
   ]
  },
  {
   "cell_type": "code",
   "execution_count": 37,
   "metadata": {},
   "outputs": [
    {
     "data": {
      "text/plain": [
       "array([1, 1, 1, 1, 1, 1, 1, 1, 1, 1], dtype=int32)"
      ]
     },
     "execution_count": 37,
     "metadata": {},
     "output_type": "execute_result"
    }
   ],
   "source": [
    "ones_arr_v2 = np.ones(np.arange(10).shape, dtype=np.int32) #  np.ones function needs a shape.\n",
    "ones_arr_v2"
   ]
  },
  {
   "cell_type": "code",
   "execution_count": 38,
   "metadata": {},
   "outputs": [
    {
     "data": {
      "text/plain": [
       "array([1, 2, 3, 4, 5, 6, 7, 8, 9])"
      ]
     },
     "execution_count": 38,
     "metadata": {},
     "output_type": "execute_result"
    }
   ],
   "source": [
    "# arr_using_np_asarray = np.asarray([1,2,3,4])\n",
    "arr_using_np_asarray = np.asarray(np.arange(1,10))\n",
    "arr_using_np_asarray"
   ]
  },
  {
   "cell_type": "code",
   "execution_count": 39,
   "metadata": {},
   "outputs": [
    {
     "data": {
      "text/plain": [
       "array([1, 2, 3, 4, 5, 6, 7, 8, 9])"
      ]
     },
     "execution_count": 39,
     "metadata": {},
     "output_type": "execute_result"
    }
   ],
   "source": [
    "arr_using_np_asarray = np.asarray([x for x in range(1,10)])\n",
    "arr_using_np_asarray"
   ]
  },
  {
   "cell_type": "code",
   "execution_count": 40,
   "metadata": {},
   "outputs": [
    {
     "name": "stdout",
     "output_type": "stream",
     "text": [
      "Old Array:[ 1  3  5  7  9 11 13]\n"
     ]
    },
    {
     "data": {
      "text/plain": [
       "array([-4610227203241920180, -4617391478579344018])"
      ]
     },
     "execution_count": 40,
     "metadata": {},
     "output_type": "execute_result"
    }
   ],
   "source": [
    "old_arr = np.arange(1,15,2)\n",
    "print(f\"Old Array:{str(old_arr)}\")\n",
    "# new_my_arr = np.empty(old_arr)\n",
    "# new_my_arr = np.empty((2,2))\n",
    "new_my_arr = np.empty_like((2,2))\n",
    "new_my_arr"
   ]
  },
  {
   "cell_type": "code",
   "execution_count": 41,
   "metadata": {},
   "outputs": [
    {
     "data": {
      "text/plain": [
       "array([[2., 2.],\n",
       "       [2., 2.]])"
      ]
     },
     "execution_count": 41,
     "metadata": {},
     "output_type": "execute_result"
    }
   ],
   "source": [
    "full_np_arr = np.full((2,2), 2.0)\n",
    "full_np_arr"
   ]
  },
  {
   "cell_type": "code",
   "execution_count": 42,
   "metadata": {},
   "outputs": [
    {
     "data": {
      "text/plain": [
       "(2, 2)"
      ]
     },
     "execution_count": 42,
     "metadata": {},
     "output_type": "execute_result"
    }
   ],
   "source": [
    "square_matrix = np.array([[2,2],[2,2]])\n",
    "square_matrix.shape"
   ]
  },
  {
   "cell_type": "code",
   "execution_count": 43,
   "metadata": {},
   "outputs": [
    {
     "name": "stdout",
     "output_type": "stream",
     "text": [
      "[[1 1]\n",
      " [1 1]]\n"
     ]
    },
    {
     "data": {
      "text/plain": [
       "array([[1., 1.],\n",
       "       [1., 1.]], dtype=float32)"
      ]
     },
     "execution_count": 43,
     "metadata": {},
     "output_type": "execute_result"
    }
   ],
   "source": [
    "square_matrix = np.full_like((np.array([[1,2],[2,2]])),1.0, dtype=np.int32)\n",
    "print(square_matrix)\n",
    "# change type\n",
    "square_matrix.astype(dtype=np.float32)"
   ]
  },
  {
   "cell_type": "code",
   "execution_count": 44,
   "metadata": {},
   "outputs": [
    {
     "name": "stdout",
     "output_type": "stream",
     "text": [
      "int32\n"
     ]
    },
    {
     "data": {
      "text/plain": [
       "array([[1, 0, 0, 0],\n",
       "       [0, 1, 0, 0],\n",
       "       [0, 0, 1, 0],\n",
       "       [0, 0, 0, 1]], dtype=int32)"
      ]
     },
     "execution_count": 44,
     "metadata": {},
     "output_type": "execute_result"
    }
   ],
   "source": [
    "# Identity Matrix\n",
    "identity_matrix = np.identity(4, dtype=np.int32)\n",
    "print(identity_matrix[0].dtype)\n",
    "identity_matrix"
   ]
  },
  {
   "cell_type": "code",
   "execution_count": 45,
   "metadata": {},
   "outputs": [
    {
     "name": "stdout",
     "output_type": "stream",
     "text": [
      "[[-0.10360743  0.21062246  0.90010578]\n",
      " [-1.70672323  0.18877124  1.0397476 ]]\n",
      "\n",
      "[[-0.10360743 -1.70672323]\n",
      " [ 0.21062246  0.18877124]\n",
      " [ 0.90010578  1.0397476 ]]\n"
     ]
    },
    {
     "data": {
      "text/plain": [
       "array([[ 2.92363869, -0.34400232, -1.86781903],\n",
       "       [-0.34400232,  0.0799964 ,  0.38585694],\n",
       "       [-1.86781903,  0.38585694,  1.89126549]])"
      ]
     },
     "execution_count": 45,
     "metadata": {},
     "output_type": "execute_result"
    }
   ],
   "source": [
    "# tranpose a matrix\n",
    "to_be_transposed_arr = np.random.randn(2,3)\n",
    "print(to_be_transposed_arr)\n",
    "print()\n",
    "# print(to_be_transposed_arr.T)\n",
    "print(to_be_transposed_arr.transpose())\n",
    "np.dot(to_be_transposed_arr.T,to_be_transposed_arr)"
   ]
  },
  {
   "cell_type": "code",
   "execution_count": 46,
   "metadata": {},
   "outputs": [
    {
     "data": {
      "text/plain": [
       "190"
      ]
     },
     "execution_count": 46,
     "metadata": {},
     "output_type": "execute_result"
    }
   ],
   "source": [
    "even_numbers = np.array([2,4,6,8,10])\n",
    "odd_numbers =  np.array([1,3,5,7,9])\n",
    "even_numbers @ odd_numbers # Dot Product of all elements."
   ]
  },
  {
   "cell_type": "code",
   "execution_count": 47,
   "metadata": {},
   "outputs": [
    {
     "data": {
      "text/plain": [
       "190"
      ]
     },
     "execution_count": 47,
     "metadata": {},
     "output_type": "execute_result"
    }
   ],
   "source": [
    "np.dot(even_numbers, odd_numbers)"
   ]
  },
  {
   "cell_type": "code",
   "execution_count": 48,
   "metadata": {},
   "outputs": [
    {
     "data": {
      "text/plain": [
       "array([ 2, 12, 30, 56, 90])"
      ]
     },
     "execution_count": 48,
     "metadata": {},
     "output_type": "execute_result"
    }
   ],
   "source": [
    "even_numbers * odd_numbers "
   ]
  },
  {
   "cell_type": "code",
   "execution_count": 49,
   "metadata": {},
   "outputs": [
    {
     "data": {
      "text/plain": [
       "array([ 2, 12, 30, 56, 90])"
      ]
     },
     "execution_count": 49,
     "metadata": {},
     "output_type": "execute_result"
    }
   ],
   "source": [
    "np.multiply(even_numbers, odd_numbers)"
   ]
  },
  {
   "cell_type": "code",
   "execution_count": 115,
   "metadata": {
    "scrolled": false
   },
   "outputs": [
    {
     "name": "stdout",
     "output_type": "stream",
     "text": [
      "[[[ 0  1  2  3]\n",
      "  [ 4  5  6  7]]\n",
      "\n",
      " [[ 8  9 10 11]\n",
      "  [12 13 14 15]]]\n",
      "\n",
      "(2, 2, 4)\n",
      "\n",
      "[[[ 0  1  2  3]\n",
      "  [ 8  9 10 11]]\n",
      "\n",
      " [[ 4  5  6  7]\n",
      "  [12 13 14 15]]]\n",
      "\n",
      "(4, 2, 2)\n",
      "3\n",
      "Strides: (32, 64, 8)\n",
      "\n"
     ]
    },
    {
     "data": {
      "text/plain": [
       "array([[[ 0,  8],\n",
       "        [ 4, 12]],\n",
       "\n",
       "       [[ 1,  9],\n",
       "        [ 5, 13]],\n",
       "\n",
       "       [[ 2, 10],\n",
       "        [ 6, 14]],\n",
       "\n",
       "       [[ 3, 11],\n",
       "        [ 7, 15]]])"
      ]
     },
     "execution_count": 115,
     "metadata": {},
     "output_type": "execute_result"
    }
   ],
   "source": [
    "arr_sample_transpose_setting_axis = np.arange(16).reshape((2, 2, 4))\n",
    "print(arr_sample_transpose_setting_axis)\n",
    "print()\n",
    "print(arr_sample_transpose_setting_axis.shape)\n",
    "print()\n",
    "result_trasnpose = arr_sample_transpose_setting_axis.transpose(1,0,2)\n",
    "result_trasnpose_2 = arr_sample_transpose_setting_axis.transpose()\n",
    "# print(result_trasnpose.shape)\n",
    "print(result_trasnpose)\n",
    "print()\n",
    "print(result_trasnpose_2.shape)\n",
    "print(result_trasnpose_2.ndim)\n",
    "#\n",
    "# Strides of an array.\n",
    "print(f\"Strides: {result_trasnpose.strides}\")\n",
    "print()\n",
    "result_trasnpose_2"
   ]
  },
  {
   "cell_type": "code",
   "execution_count": 87,
   "metadata": {},
   "outputs": [
    {
     "data": {
      "text/plain": [
       "array([[0, 1],\n",
       "       [2, 3]])"
      ]
     },
     "execution_count": 87,
     "metadata": {},
     "output_type": "execute_result"
    }
   ],
   "source": [
    "x = np.arange(4).reshape((2,2))\n",
    "x"
   ]
  },
  {
   "cell_type": "code",
   "execution_count": 88,
   "metadata": {},
   "outputs": [
    {
     "data": {
      "text/plain": [
       "array([[0, 2],\n",
       "       [1, 3]])"
      ]
     },
     "execution_count": 88,
     "metadata": {},
     "output_type": "execute_result"
    }
   ],
   "source": [
    "x.transpose()"
   ]
  },
  {
   "cell_type": "code",
   "execution_count": 97,
   "metadata": {},
   "outputs": [
    {
     "data": {
      "text/plain": [
       "array([1, 2, 3, 4, 5, 6, 7, 8, 9])"
      ]
     },
     "execution_count": 97,
     "metadata": {},
     "output_type": "execute_result"
    }
   ],
   "source": [
    "arr_1d = np.arange(1,10)\n",
    "arr_1d.transpose()"
   ]
  },
  {
   "cell_type": "code",
   "execution_count": null,
   "metadata": {},
   "outputs": [],
   "source": []
  }
 ],
 "metadata": {
  "kernelspec": {
   "display_name": "Python 3",
   "language": "python",
   "name": "python3"
  },
  "language_info": {
   "codemirror_mode": {
    "name": "ipython",
    "version": 3
   },
   "file_extension": ".py",
   "mimetype": "text/x-python",
   "name": "python",
   "nbconvert_exporter": "python",
   "pygments_lexer": "ipython3",
   "version": "3.7.3"
  }
 },
 "nbformat": 4,
 "nbformat_minor": 2
}
