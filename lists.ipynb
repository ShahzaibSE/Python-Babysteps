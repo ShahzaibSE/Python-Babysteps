{
 "cells": [
  {
   "cell_type": "code",
   "execution_count": 12,
   "metadata": {},
   "outputs": [
    {
     "data": {
      "text/plain": [
       "[1, 2, 3, 10, 45, 67]"
      ]
     },
     "execution_count": 12,
     "metadata": {},
     "output_type": "execute_result"
    }
   ],
   "source": [
    "%config IPCompleter.greedy=True\n",
    "nums = [2, 3, 45, 67, 10, 1]\n",
    "nums.sort()\n",
    "nums"
   ]
  },
  {
   "cell_type": "code",
   "execution_count": 13,
   "metadata": {},
   "outputs": [
    {
     "data": {
      "text/plain": [
       "6"
      ]
     },
     "execution_count": 13,
     "metadata": {},
     "output_type": "execute_result"
    }
   ],
   "source": [
    "# length of a list.\n",
    "len(nums)"
   ]
  },
  {
   "cell_type": "code",
   "execution_count": 14,
   "metadata": {},
   "outputs": [
    {
     "data": {
      "text/plain": [
       "[1, 'Pakistani', 100, 'Shahzaib']"
      ]
     },
     "execution_count": 14,
     "metadata": {},
     "output_type": "execute_result"
    }
   ],
   "source": [
    "compound_data = [1, \"Pakistani\", 100, \"Shahzaib\"]\n",
    "compound_data"
   ]
  },
  {
   "cell_type": "code",
   "execution_count": 16,
   "metadata": {},
   "outputs": [
    {
     "data": {
      "text/plain": [
       "['Pakistani']"
      ]
     },
     "execution_count": 16,
     "metadata": {},
     "output_type": "execute_result"
    }
   ],
   "source": [
    "nationality = compound_data[1:2]\n",
    "nationality"
   ]
  },
  {
   "cell_type": "code",
   "execution_count": 12,
   "metadata": {},
   "outputs": [
    {
     "name": "stdout",
     "output_type": "stream",
     "text": [
      "Deletion using del.\n",
      "['English', 'Mathematics', 'Quantum Mechanics', 'Software Engineering', 'Logic Designing', 'Data Warehousing']\n",
      "\n",
      "Deletion using remove()\n",
      "['English', 'Mathematics', 'Quantum Mechanics', 'Software Engineering', 'Data Warehousing']\n",
      "Favourite subject: Quantum Mechanics\n"
     ]
    }
   ],
   "source": [
    "subjects = [\"English\", \"Mathematics\", \"Quantum Mechanics\", \"Software Engineering\", \"Art\", \"Logic Designing\", \"Data Warehousing\"]\n",
    "# Remove subjects using del, remove and pop\n",
    "del subjects[subjects.index(\"Art\")]\n",
    "print(\"Deletion using del.\")\n",
    "print(subjects)\n",
    "#\n",
    "print()\n",
    "subjects.remove(\"Logic Designing\")\n",
    "print(\"Deletion using remove()\")\n",
    "print(subjects)\n",
    "# Lets get an a subject out of our list.\n",
    "# favourite_subject = subjects.pop(\"Quantum Mechanics\")\n",
    "favourite_subject = subjects.pop(subjects.index(\"Quantum Mechanics\"))\n",
    "print()\n",
    "print(\"Favourite subject:\"+\" \"+favourite_subject)"
   ]
  },
  {
   "cell_type": "code",
   "execution_count": 13,
   "metadata": {},
   "outputs": [
    {
     "data": {
      "text/plain": [
       "('Shahzaib', 'Steve', 'Clark')"
      ]
     },
     "execution_count": 13,
     "metadata": {},
     "output_type": "execute_result"
    }
   ],
   "source": [
    "names = [\"Shahzaib\", \"Steve\", \"Clark\"]\n",
    "tuple(names)"
   ]
  },
  {
   "cell_type": "code",
   "execution_count": 19,
   "metadata": {},
   "outputs": [],
   "source": [
    "def return_cities() -> str:\n",
    "    return True"
   ]
  },
  {
   "cell_type": "code",
   "execution_count": 2,
   "metadata": {},
   "outputs": [
    {
     "data": {
      "text/plain": [
       "['BlueRay  Zzz',\n",
       " 'BlueRay  Burp',\n",
       " 'BlueRay  Dogbone',\n",
       " 'BlueRay  Droop',\n",
       " 'Upchuck  Zzz',\n",
       " 'Upchuck  Burp',\n",
       " 'Upchuck  Dogbone',\n",
       " 'Upchuck  Droop',\n",
       " 'Lojack  Zzz',\n",
       " 'Lojack  Burp',\n",
       " 'Lojack  Dogbone',\n",
       " 'Lojack  Droop',\n",
       " 'Gizmo  Zzz',\n",
       " 'Gizmo  Burp',\n",
       " 'Gizmo  Dogbone',\n",
       " 'Gizmo  Droop',\n",
       " 'Do-Rag  Zzz',\n",
       " 'Do-Rag  Burp',\n",
       " 'Do-Rag  Dogbone',\n",
       " 'Do-Rag  Droop']"
      ]
     },
     "execution_count": 2,
     "metadata": {},
     "output_type": "execute_result"
    }
   ],
   "source": [
    "#Nested For Loops\n",
    "first_names = [\"BlueRay \", \"Upchuck \", \"Lojack \", \"Gizmo \", \"Do-Rag \"]\n",
    "last_names = [\"Zzz\", \"Burp\", \"Dogbone\", \"Droop\"]\n",
    "full_names = []\n",
    "for a_first_name in first_names:\n",
    " for a_last_name in last_names:\n",
    "  full_names.append(a_first_name + \" \" +a_last_name)\n",
    "full_names"
   ]
  },
  {
   "cell_type": "code",
   "execution_count": 4,
   "metadata": {},
   "outputs": [
    {
     "name": "stdout",
     "output_type": "stream",
     "text": [
      "Enter your salary:2344\n"
     ]
    }
   ],
   "source": [
    "salary = int(input(\"Enter your salary:\"))"
   ]
  },
  {
   "cell_type": "code",
   "execution_count": 1,
   "metadata": {},
   "outputs": [
    {
     "ename": "SyntaxError",
     "evalue": "invalid syntax (<ipython-input-1-a9788138142b>, line 2)",
     "output_type": "error",
     "traceback": [
      "\u001b[0;36m  File \u001b[0;32m\"<ipython-input-1-a9788138142b>\"\u001b[0;36m, line \u001b[0;32m2\u001b[0m\n\u001b[0;31m    np.\u001b[0m\n\u001b[0m       ^\u001b[0m\n\u001b[0;31mSyntaxError\u001b[0m\u001b[0;31m:\u001b[0m invalid syntax\n"
     ]
    }
   ],
   "source": [
    "import numpy as np"
   ]
  },
  {
   "cell_type": "code",
   "execution_count": 4,
   "metadata": {},
   "outputs": [
    {
     "name": "stdout",
     "output_type": "stream",
     "text": [
      "Pakistan-1\n"
     ]
    }
   ],
   "source": [
    "print(\"Pakistan\",1,sep=\"-\")"
   ]
  },
  {
   "cell_type": "code",
   "execution_count": 8,
   "metadata": {},
   "outputs": [
    {
     "name": "stdout",
     "output_type": "stream",
     "text": [
      "IamPakistan\n"
     ]
    }
   ],
   "source": [
    "print(\"I\",end=\"\")\n",
    "print(\"am\",end=\"\")\n",
    "print(\"Pakistan\")"
   ]
  },
  {
   "cell_type": "code",
   "execution_count": 9,
   "metadata": {},
   "outputs": [
    {
     "name": "stdout",
     "output_type": "stream",
     "text": [
      "I\tam\tPakistan\n"
     ]
    }
   ],
   "source": [
    "#horizontal tab.\n",
    "print(\"I\",end=\"\\t\")\n",
    "print(\"am\",end=\"\\t\")\n",
    "print(\"Pakistan\")"
   ]
  },
  {
   "cell_type": "code",
   "execution_count": 11,
   "metadata": {},
   "outputs": [
    {
     "name": "stdout",
     "output_type": "stream",
     "text": [
      "I\u000b",
      "am\u000b",
      "Pakistan\n"
     ]
    }
   ],
   "source": [
    "print(\"I\",end=\"\\v\")\n",
    "print(\"am\",end=\"\\v\")\n",
    "print(\"Pakistan\")"
   ]
  },
  {
   "cell_type": "code",
   "execution_count": 18,
   "metadata": {},
   "outputs": [
    {
     "name": "stdout",
     "output_type": "stream",
     "text": [
      "Float divison: 17.0\n",
      "Integer divison: 17\n",
      "Integer divison: 2.0\n"
     ]
    }
   ],
   "source": [
    "num1 = 34 / 2\n",
    "num2 = 34 // 2\n",
    "num3 = 13.5 // 2\n",
    "print(f\"Float divison: {num1}\")\n",
    "print(f\"Integer divison: {num2}\")\n",
    "print(f\"Integer divison: {num3}\")"
   ]
  },
  {
   "cell_type": "code",
   "execution_count": 2,
   "metadata": {},
   "outputs": [
    {
     "data": {
      "text/plain": [
       "['islamabad', 'quetta', 'multan']"
      ]
     },
     "execution_count": 2,
     "metadata": {},
     "output_type": "execute_result"
    }
   ],
   "source": [
    "cities = [\"khi\",\"islamabad\", \"quetta\", \"multan\"]\n",
    "cities.remove(\"khi\") # It needs one mandatory argument.\n",
    "cities"
   ]
  },
  {
   "cell_type": "code",
   "execution_count": 3,
   "metadata": {},
   "outputs": [
    {
     "data": {
      "text/plain": [
       "['islamabad', 'quetta', 'multan']"
      ]
     },
     "execution_count": 3,
     "metadata": {},
     "output_type": "execute_result"
    }
   ],
   "source": [
    "cities"
   ]
  },
  {
   "cell_type": "code",
   "execution_count": 4,
   "metadata": {},
   "outputs": [
    {
     "data": {
      "text/plain": [
       "['islamabad', 'quetta']"
      ]
     },
     "execution_count": 4,
     "metadata": {},
     "output_type": "execute_result"
    }
   ],
   "source": [
    "new_cities = cities[:-1]\n",
    "new_cities"
   ]
  },
  {
   "cell_type": "code",
   "execution_count": 5,
   "metadata": {},
   "outputs": [
    {
     "data": {
      "text/plain": [
       "['islamabad', 'quetta', 'multan']"
      ]
     },
     "execution_count": 5,
     "metadata": {},
     "output_type": "execute_result"
    }
   ],
   "source": [
    "cities"
   ]
  },
  {
   "cell_type": "code",
   "execution_count": 6,
   "metadata": {},
   "outputs": [
    {
     "data": {
      "text/plain": [
       "['quetta', 'multan']"
      ]
     },
     "execution_count": 6,
     "metadata": {},
     "output_type": "execute_result"
    }
   ],
   "source": [
    "new_cities_2 = cities[1:]\n",
    "new_cities_2"
   ]
  },
  {
   "cell_type": "code",
   "execution_count": 12,
   "metadata": {},
   "outputs": [
    {
     "name": "stdout",
     "output_type": "stream",
     "text": [
      "Cities:['islamabad', 'quetta', 'multan', 'peshawar', 'rawalpindi', 'peshawar', 'rawalpindi', 'peshawar', 'rawalpindi', 'peshawar', 'rawalpindi', 'peshawar', 'rawalpindi']\n"
     ]
    },
    {
     "data": {
      "text/plain": [
       "['islamabad',\n",
       " 'quetta',\n",
       " 'multan',\n",
       " 'peshawar',\n",
       " 'rawalpindi',\n",
       " 'peshawar',\n",
       " 'rawalpindi',\n",
       " 'peshawar',\n",
       " 'rawalpindi',\n",
       " 'peshawar']"
      ]
     },
     "execution_count": 12,
     "metadata": {},
     "output_type": "execute_result"
    }
   ],
   "source": [
    "cities.extend([\"peshawar\",\"rawalpindi\"])\n",
    "print(f\"Cities:{cities}\")\n",
    "new_cities_3 = cities[0:(len(cities)-1) - 2]\n",
    "new_cities_3"
   ]
  },
  {
   "cell_type": "code",
   "execution_count": 27,
   "metadata": {},
   "outputs": [
    {
     "name": "stdout",
     "output_type": "stream",
     "text": [
      "Child list of fruits: ['apple', 'mango', 'peach', 'grapes', 'orange']\n"
     ]
    },
    {
     "data": {
      "text/plain": [
       "'grapes'"
      ]
     },
     "execution_count": 27,
     "metadata": {},
     "output_type": "execute_result"
    }
   ],
   "source": [
    "fruits = [\"apple\", \"mango\", \"peach\", \"grapes\", \"orange\", \"banana\"]\n",
    "sub_list_fruits = fruits[0:-1]\n",
    "last_element = sub_list_fruits[0:-1].pop()\n",
    "print(f\"Child list of fruits: {sub_list_fruits}\")\n",
    "last_element"
   ]
  },
  {
   "cell_type": "code",
   "execution_count": 4,
   "metadata": {},
   "outputs": [
    {
     "name": "stdout",
     "output_type": "stream",
     "text": [
      "1\n",
      "3\n",
      "5\n",
      "7\n",
      "9\n"
     ]
    }
   ],
   "source": [
    "for val in range(1,10,2): #third value is step value.\n",
    "    print(val)"
   ]
  },
  {
   "cell_type": "code",
   "execution_count": 7,
   "metadata": {},
   "outputs": [
    {
     "name": "stdout",
     "output_type": "stream",
     "text": [
      "Pakistan\n",
      "America\n"
     ]
    }
   ],
   "source": [
    "# A Tuple without parenthesis.\n",
    "countries = \"Pakistan\", \"America\"\n",
    "for char in countries:\n",
    "    print(char)"
   ]
  },
  {
   "cell_type": "code",
   "execution_count": 9,
   "metadata": {},
   "outputs": [
    {
     "name": "stdout",
     "output_type": "stream",
     "text": [
      "[2, 4, 6, 2, 4, 6, 2, 4, 6]\n"
     ]
    }
   ],
   "source": [
    "l1 = [2, 4, 6]\n",
    "l1 = l1 * 3\n",
    "print(l1)         "
   ]
  },
  {
   "cell_type": "code",
   "execution_count": 14,
   "metadata": {},
   "outputs": [
    {
     "data": {
      "text/plain": [
       "tuple"
      ]
     },
     "execution_count": 14,
     "metadata": {},
     "output_type": "execute_result"
    }
   ],
   "source": [
    "sample_dict = {\"student_info\": (\"Shahzaib\", \"Noor\")}\n",
    "type(sample_dict[\"student_info\"])"
   ]
  },
  {
   "cell_type": "code",
   "execution_count": 15,
   "metadata": {},
   "outputs": [
    {
     "data": {
      "text/plain": [
       "('Shahzaib', 'Noor', 'Shahzaib', 'Noor')"
      ]
     },
     "execution_count": 15,
     "metadata": {},
     "output_type": "execute_result"
    }
   ],
   "source": [
    "freaky_test_with_tuple = 2 * sample_dict[\"student_info\"]\n",
    "freaky_test_with_tuple"
   ]
  },
  {
   "cell_type": "code",
   "execution_count": 16,
   "metadata": {},
   "outputs": [
    {
     "ename": "TypeError",
     "evalue": "unsupported operand type(s) for *: 'dict' and 'int'",
     "output_type": "error",
     "traceback": [
      "\u001b[0;31m---------------------------------------------------------------------------\u001b[0m",
      "\u001b[0;31mTypeError\u001b[0m                                 Traceback (most recent call last)",
      "\u001b[0;32m<ipython-input-16-ba3c2fd74bda>\u001b[0m in \u001b[0;36m<module>\u001b[0;34m\u001b[0m\n\u001b[0;32m----> 1\u001b[0;31m \u001b[0mfreaky_test_with_dictionary\u001b[0m \u001b[0;34m=\u001b[0m \u001b[0msample_dict\u001b[0m \u001b[0;34m*\u001b[0m \u001b[0;36m2\u001b[0m\u001b[0;34m\u001b[0m\u001b[0;34m\u001b[0m\u001b[0m\n\u001b[0m\u001b[1;32m      2\u001b[0m \u001b[0mfreaky_test_with_dictionary\u001b[0m\u001b[0;34m\u001b[0m\u001b[0;34m\u001b[0m\u001b[0m\n",
      "\u001b[0;31mTypeError\u001b[0m: unsupported operand type(s) for *: 'dict' and 'int'"
     ]
    }
   ],
   "source": [
    "freaky_test_with_dictionary = sample_dict * 2\n",
    "freaky_test_with_dictionary"
   ]
  },
  {
   "cell_type": "code",
   "execution_count": 18,
   "metadata": {},
   "outputs": [
    {
     "name": "stdout",
     "output_type": "stream",
     "text": [
      "Enter your command:34\n"
     ]
    },
    {
     "data": {
      "text/plain": [
       "{1: '34'}"
      ]
     },
     "execution_count": 18,
     "metadata": {},
     "output_type": "execute_result"
    }
   ],
   "source": [
    "my_dict = {1: input(\"Enter your command:\")}\n",
    "my_dict"
   ]
  },
  {
   "cell_type": "code",
   "execution_count": null,
   "metadata": {},
   "outputs": [],
   "source": []
  }
 ],
 "metadata": {
  "kernelspec": {
   "display_name": "Python 3",
   "language": "python",
   "name": "python3"
  },
  "language_info": {
   "codemirror_mode": {
    "name": "ipython",
    "version": 3
   },
   "file_extension": ".py",
   "mimetype": "text/x-python",
   "name": "python",
   "nbconvert_exporter": "python",
   "pygments_lexer": "ipython3",
   "version": "3.7.3"
  }
 },
 "nbformat": 4,
 "nbformat_minor": 2
}
